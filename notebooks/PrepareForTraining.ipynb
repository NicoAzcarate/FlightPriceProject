{
 "cells": [
  {
   "cell_type": "code",
   "execution_count": 1,
   "id": "88bb71b9",
   "metadata": {},
   "outputs": [
    {
     "name": "stdout",
     "output_type": "stream",
     "text": [
      "📊 Número de bloques (row groups): 56\n",
      "✅ Chunk 0 guardado con 1048576 filas\n",
      "✅ Chunk 1 guardado con 1048576 filas\n",
      "✅ Chunk 2 guardado con 1048576 filas\n",
      "✅ Chunk 3 guardado con 1048576 filas\n",
      "✅ Chunk 4 guardado con 1048576 filas\n",
      "✅ Chunk 5 guardado con 1048576 filas\n",
      "✅ Chunk 6 guardado con 1048576 filas\n",
      "✅ Chunk 7 guardado con 1048576 filas\n",
      "✅ Chunk 8 guardado con 1048576 filas\n",
      "✅ Chunk 9 guardado con 1048576 filas\n",
      "✅ Chunk 10 guardado con 1048576 filas\n",
      "✅ Chunk 11 guardado con 1048576 filas\n",
      "✅ Chunk 12 guardado con 1048576 filas\n",
      "✅ Chunk 13 guardado con 1048576 filas\n",
      "✅ Chunk 14 guardado con 1048576 filas\n",
      "✅ Chunk 15 guardado con 1048576 filas\n",
      "✅ Chunk 16 guardado con 1048576 filas\n",
      "✅ Chunk 17 guardado con 1048576 filas\n",
      "✅ Chunk 18 guardado con 1048576 filas\n",
      "✅ Chunk 19 guardado con 1048576 filas\n",
      "✅ Chunk 20 guardado con 1048576 filas\n",
      "✅ Chunk 21 guardado con 1048576 filas\n",
      "✅ Chunk 22 guardado con 1048576 filas\n",
      "✅ Chunk 23 guardado con 1048576 filas\n",
      "✅ Chunk 24 guardado con 1048576 filas\n",
      "✅ Chunk 25 guardado con 1048576 filas\n",
      "✅ Chunk 26 guardado con 1048576 filas\n",
      "✅ Chunk 27 guardado con 1048576 filas\n",
      "✅ Chunk 28 guardado con 1048576 filas\n",
      "✅ Chunk 29 guardado con 1048576 filas\n",
      "✅ Chunk 30 guardado con 1048576 filas\n",
      "✅ Chunk 31 guardado con 1048576 filas\n",
      "✅ Chunk 32 guardado con 1048576 filas\n",
      "✅ Chunk 33 guardado con 1048576 filas\n",
      "✅ Chunk 34 guardado con 1048576 filas\n",
      "✅ Chunk 35 guardado con 1048576 filas\n",
      "✅ Chunk 36 guardado con 1048576 filas\n",
      "✅ Chunk 37 guardado con 1048576 filas\n",
      "✅ Chunk 38 guardado con 1048576 filas\n",
      "✅ Chunk 39 guardado con 1048576 filas\n",
      "✅ Chunk 40 guardado con 1048576 filas\n",
      "✅ Chunk 41 guardado con 1048576 filas\n",
      "✅ Chunk 42 guardado con 1048576 filas\n",
      "✅ Chunk 43 guardado con 1048576 filas\n",
      "✅ Chunk 44 guardado con 1048576 filas\n",
      "✅ Chunk 45 guardado con 1048576 filas\n",
      "✅ Chunk 46 guardado con 1048576 filas\n",
      "✅ Chunk 47 guardado con 1048576 filas\n",
      "✅ Chunk 48 guardado con 1048576 filas\n",
      "✅ Chunk 49 guardado con 1048576 filas\n",
      "✅ Chunk 50 guardado con 1048576 filas\n",
      "✅ Chunk 51 guardado con 1048576 filas\n",
      "✅ Chunk 52 guardado con 1048576 filas\n",
      "✅ Chunk 53 guardado con 1048576 filas\n",
      "✅ Chunk 54 guardado con 1048576 filas\n",
      "✅ Chunk 55 guardado con 734385 filas\n"
     ]
    }
   ],
   "source": [
    "import pandas as pd\n",
    "import os\n",
    "\n",
    "from pyarrow import parquet as pq\n",
    "\n",
    "# Ruta del dataset original\n",
    "dataset_path = \"../data_subsets/final_dataset.parquet\"\n",
    "\n",
    "# Carpeta donde se guardarán los chunks\n",
    "output_dir = \"../data_subsets/final_dataset_chunks\"\n",
    "os.makedirs(output_dir, exist_ok=True)\n",
    "\n",
    "# Leer metadata del parquet\n",
    "dataset = pq.ParquetFile(dataset_path)\n",
    "\n",
    "# Número de filas totales y de row groups\n",
    "n_row_groups = dataset.num_row_groups\n",
    "print(f\"📊 Número de bloques (row groups): {n_row_groups}\")\n",
    "\n",
    "# Guardar cada row group como un chunk parquet separado\n",
    "for i in range(n_row_groups):\n",
    "    table = dataset.read_row_group(i)\n",
    "    df_chunk = table.to_pandas()\n",
    "    output_path = f\"{output_dir}/chunk_{i}.parquet\"\n",
    "    df_chunk.to_parquet(output_path, index=False)\n",
    "    print(f\"✅ Chunk {i} guardado con {len(df_chunk)} filas\")\n"
   ]
  },
  {
   "cell_type": "code",
   "execution_count": 2,
   "id": "a0fd8d79",
   "metadata": {},
   "outputs": [
    {
     "name": "stdout",
     "output_type": "stream",
     "text": [
      "🔍 Chunk cargado con shape: (1048576, 23)\n"
     ]
    },
    {
     "data": {
      "text/html": [
       "<div>\n",
       "<style scoped>\n",
       "    .dataframe tbody tr th:only-of-type {\n",
       "        vertical-align: middle;\n",
       "    }\n",
       "\n",
       "    .dataframe tbody tr th {\n",
       "        vertical-align: top;\n",
       "    }\n",
       "\n",
       "    .dataframe thead th {\n",
       "        text-align: right;\n",
       "    }\n",
       "</style>\n",
       "<table border=\"1\" class=\"dataframe\">\n",
       "  <thead>\n",
       "    <tr style=\"text-align: right;\">\n",
       "      <th></th>\n",
       "      <th>legId</th>\n",
       "      <th>segment_num</th>\n",
       "      <th>airline_code</th>\n",
       "      <th>aircraft_type</th>\n",
       "      <th>duration_seconds</th>\n",
       "      <th>distance_miles</th>\n",
       "      <th>departure_hour</th>\n",
       "      <th>departure_weekday</th>\n",
       "      <th>cabin</th>\n",
       "      <th>arr_airport</th>\n",
       "      <th>...</th>\n",
       "      <th>fareBasisCode</th>\n",
       "      <th>isBasicEconomy</th>\n",
       "      <th>isRefundable</th>\n",
       "      <th>isNonStop</th>\n",
       "      <th>baseFare</th>\n",
       "      <th>totalFare</th>\n",
       "      <th>seatsRemaining</th>\n",
       "      <th>elapsedDays</th>\n",
       "      <th>days_in_advance</th>\n",
       "      <th>totalTravelDistance</th>\n",
       "    </tr>\n",
       "  </thead>\n",
       "  <tbody>\n",
       "    <tr>\n",
       "      <th>0</th>\n",
       "      <td>fe531c56903f83f1a2d3383441628f0e</td>\n",
       "      <td>0</td>\n",
       "      <td>5</td>\n",
       "      <td>18.0</td>\n",
       "      <td>10260.0</td>\n",
       "      <td>1115.0</td>\n",
       "      <td>7</td>\n",
       "      <td>6</td>\n",
       "      <td>4</td>\n",
       "      <td>13</td>\n",
       "      <td>...</td>\n",
       "      <td>2101</td>\n",
       "      <td>0</td>\n",
       "      <td>0</td>\n",
       "      <td>1</td>\n",
       "      <td>305.12</td>\n",
       "      <td>342.6</td>\n",
       "      <td>7</td>\n",
       "      <td>0</td>\n",
       "      <td>41</td>\n",
       "      <td>1115.0</td>\n",
       "    </tr>\n",
       "    <tr>\n",
       "      <th>1</th>\n",
       "      <td>fe531c56903f83f1a2d3383441628f0e</td>\n",
       "      <td>0</td>\n",
       "      <td>5</td>\n",
       "      <td>18.0</td>\n",
       "      <td>10260.0</td>\n",
       "      <td>1115.0</td>\n",
       "      <td>7</td>\n",
       "      <td>6</td>\n",
       "      <td>4</td>\n",
       "      <td>13</td>\n",
       "      <td>...</td>\n",
       "      <td>1088</td>\n",
       "      <td>0</td>\n",
       "      <td>0</td>\n",
       "      <td>1</td>\n",
       "      <td>404.65</td>\n",
       "      <td>449.6</td>\n",
       "      <td>7</td>\n",
       "      <td>0</td>\n",
       "      <td>37</td>\n",
       "      <td>1115.0</td>\n",
       "    </tr>\n",
       "    <tr>\n",
       "      <th>2</th>\n",
       "      <td>fe531c56903f83f1a2d3383441628f0e</td>\n",
       "      <td>0</td>\n",
       "      <td>5</td>\n",
       "      <td>18.0</td>\n",
       "      <td>10260.0</td>\n",
       "      <td>1115.0</td>\n",
       "      <td>7</td>\n",
       "      <td>6</td>\n",
       "      <td>4</td>\n",
       "      <td>13</td>\n",
       "      <td>...</td>\n",
       "      <td>1562</td>\n",
       "      <td>0</td>\n",
       "      <td>0</td>\n",
       "      <td>1</td>\n",
       "      <td>227.91</td>\n",
       "      <td>259.6</td>\n",
       "      <td>7</td>\n",
       "      <td>0</td>\n",
       "      <td>6</td>\n",
       "      <td>1115.0</td>\n",
       "    </tr>\n",
       "    <tr>\n",
       "      <th>3</th>\n",
       "      <td>b7a7c798768db6400d8db954710fca9c</td>\n",
       "      <td>0</td>\n",
       "      <td>7</td>\n",
       "      <td>17.0</td>\n",
       "      <td>7380.0</td>\n",
       "      <td>725.0</td>\n",
       "      <td>8</td>\n",
       "      <td>1</td>\n",
       "      <td>4</td>\n",
       "      <td>1</td>\n",
       "      <td>...</td>\n",
       "      <td>4239</td>\n",
       "      <td>1</td>\n",
       "      <td>0</td>\n",
       "      <td>1</td>\n",
       "      <td>110.70</td>\n",
       "      <td>133.6</td>\n",
       "      <td>9</td>\n",
       "      <td>0</td>\n",
       "      <td>10</td>\n",
       "      <td>725.0</td>\n",
       "    </tr>\n",
       "    <tr>\n",
       "      <th>4</th>\n",
       "      <td>b7a7c798768db6400d8db954710fca9c</td>\n",
       "      <td>0</td>\n",
       "      <td>7</td>\n",
       "      <td>17.0</td>\n",
       "      <td>7380.0</td>\n",
       "      <td>725.0</td>\n",
       "      <td>8</td>\n",
       "      <td>1</td>\n",
       "      <td>4</td>\n",
       "      <td>1</td>\n",
       "      <td>...</td>\n",
       "      <td>1586</td>\n",
       "      <td>0</td>\n",
       "      <td>0</td>\n",
       "      <td>1</td>\n",
       "      <td>174.88</td>\n",
       "      <td>202.6</td>\n",
       "      <td>9</td>\n",
       "      <td>0</td>\n",
       "      <td>6</td>\n",
       "      <td>725.0</td>\n",
       "    </tr>\n",
       "  </tbody>\n",
       "</table>\n",
       "<p>5 rows × 23 columns</p>\n",
       "</div>"
      ],
      "text/plain": [
       "                              legId  segment_num  airline_code  aircraft_type  \\\n",
       "0  fe531c56903f83f1a2d3383441628f0e            0             5           18.0   \n",
       "1  fe531c56903f83f1a2d3383441628f0e            0             5           18.0   \n",
       "2  fe531c56903f83f1a2d3383441628f0e            0             5           18.0   \n",
       "3  b7a7c798768db6400d8db954710fca9c            0             7           17.0   \n",
       "4  b7a7c798768db6400d8db954710fca9c            0             7           17.0   \n",
       "\n",
       "   duration_seconds  distance_miles  departure_hour  departure_weekday  cabin  \\\n",
       "0           10260.0          1115.0               7                  6      4   \n",
       "1           10260.0          1115.0               7                  6      4   \n",
       "2           10260.0          1115.0               7                  6      4   \n",
       "3            7380.0           725.0               8                  1      4   \n",
       "4            7380.0           725.0               8                  1      4   \n",
       "\n",
       "   arr_airport  ...  fareBasisCode  isBasicEconomy  isRefundable  isNonStop  \\\n",
       "0           13  ...           2101               0             0          1   \n",
       "1           13  ...           1088               0             0          1   \n",
       "2           13  ...           1562               0             0          1   \n",
       "3            1  ...           4239               1             0          1   \n",
       "4            1  ...           1586               0             0          1   \n",
       "\n",
       "   baseFare  totalFare  seatsRemaining  elapsedDays  days_in_advance  \\\n",
       "0    305.12      342.6               7            0               41   \n",
       "1    404.65      449.6               7            0               37   \n",
       "2    227.91      259.6               7            0                6   \n",
       "3    110.70      133.6               9            0               10   \n",
       "4    174.88      202.6               9            0                6   \n",
       "\n",
       "   totalTravelDistance  \n",
       "0               1115.0  \n",
       "1               1115.0  \n",
       "2               1115.0  \n",
       "3                725.0  \n",
       "4                725.0  \n",
       "\n",
       "[5 rows x 23 columns]"
      ]
     },
     "metadata": {},
     "output_type": "display_data"
    }
   ],
   "source": [
    "import glob\n",
    "import pandas as pd\n",
    "\n",
    "chunk_paths = sorted(glob.glob(\"../data_subsets/final_dataset_chunks/chunk_*.parquet\"))\n",
    "\n",
    "# Cargar el primer chunk para prueba\n",
    "df = pd.read_parquet(chunk_paths[0])\n",
    "print(f\"🔍 Chunk cargado con shape: {df.shape}\")\n",
    "display(df.head())\n"
   ]
  },
  {
   "cell_type": "code",
   "execution_count": 3,
   "id": "35d2916b",
   "metadata": {},
   "outputs": [],
   "source": [
    "from sklearn.model_selection import train_test_split\n",
    "from sklearn.preprocessing import StandardScaler\n",
    "\n",
    "# Supongamos que ya tienes un chunk\n",
    "X = df.drop(columns=[\"totalFare\", \"legId\"])  # Elimina columnas no necesarias\n",
    "y = df[\"totalFare\"]\n",
    "\n",
    "scaler = StandardScaler()\n",
    "X_scaled = scaler.fit_transform(X)\n",
    "\n",
    "# División entrenamiento/test\n",
    "X_train, X_test, y_train, y_test = train_test_split(X_scaled, y, test_size=0.2, random_state=42)\n"
   ]
  },
  {
   "cell_type": "code",
   "execution_count": 6,
   "id": "f3e38f3a",
   "metadata": {},
   "outputs": [
    {
     "name": "stdout",
     "output_type": "stream",
     "text": [
      "📦 Detectando chunks...\n",
      "📦 Detectados 56 chunks\n",
      "🧪 Fitting del StandardScaler...\n",
      "✂️ Dividiendo y guardando chunks escalados...\n"
     ]
    },
    {
     "name": "stderr",
     "output_type": "stream",
     "text": [
      "/home/cosmopato/flightprice_env/lib/python3.12/site-packages/sklearn/utils/validation.py:2732: UserWarning: X has feature names, but StandardScaler was fitted without feature names\n",
      "  warnings.warn(\n"
     ]
    },
    {
     "name": "stdout",
     "output_type": "stream",
     "text": [
      "✅ Chunk 0 procesado y guardado: 838860 train / 209716 test\n"
     ]
    },
    {
     "name": "stderr",
     "output_type": "stream",
     "text": [
      "/home/cosmopato/flightprice_env/lib/python3.12/site-packages/sklearn/utils/validation.py:2732: UserWarning: X has feature names, but StandardScaler was fitted without feature names\n",
      "  warnings.warn(\n"
     ]
    },
    {
     "name": "stdout",
     "output_type": "stream",
     "text": [
      "✅ Chunk 1 procesado y guardado: 838860 train / 209716 test\n"
     ]
    },
    {
     "name": "stderr",
     "output_type": "stream",
     "text": [
      "/home/cosmopato/flightprice_env/lib/python3.12/site-packages/sklearn/utils/validation.py:2732: UserWarning: X has feature names, but StandardScaler was fitted without feature names\n",
      "  warnings.warn(\n"
     ]
    },
    {
     "name": "stdout",
     "output_type": "stream",
     "text": [
      "✅ Chunk 2 procesado y guardado: 838860 train / 209716 test\n"
     ]
    },
    {
     "name": "stderr",
     "output_type": "stream",
     "text": [
      "/home/cosmopato/flightprice_env/lib/python3.12/site-packages/sklearn/utils/validation.py:2732: UserWarning: X has feature names, but StandardScaler was fitted without feature names\n",
      "  warnings.warn(\n"
     ]
    },
    {
     "name": "stdout",
     "output_type": "stream",
     "text": [
      "✅ Chunk 3 procesado y guardado: 838860 train / 209716 test\n"
     ]
    },
    {
     "name": "stderr",
     "output_type": "stream",
     "text": [
      "/home/cosmopato/flightprice_env/lib/python3.12/site-packages/sklearn/utils/validation.py:2732: UserWarning: X has feature names, but StandardScaler was fitted without feature names\n",
      "  warnings.warn(\n"
     ]
    },
    {
     "name": "stdout",
     "output_type": "stream",
     "text": [
      "✅ Chunk 4 procesado y guardado: 838860 train / 209716 test\n"
     ]
    },
    {
     "name": "stderr",
     "output_type": "stream",
     "text": [
      "/home/cosmopato/flightprice_env/lib/python3.12/site-packages/sklearn/utils/validation.py:2732: UserWarning: X has feature names, but StandardScaler was fitted without feature names\n",
      "  warnings.warn(\n"
     ]
    },
    {
     "name": "stdout",
     "output_type": "stream",
     "text": [
      "✅ Chunk 5 procesado y guardado: 838860 train / 209716 test\n"
     ]
    },
    {
     "name": "stderr",
     "output_type": "stream",
     "text": [
      "/home/cosmopato/flightprice_env/lib/python3.12/site-packages/sklearn/utils/validation.py:2732: UserWarning: X has feature names, but StandardScaler was fitted without feature names\n",
      "  warnings.warn(\n"
     ]
    },
    {
     "name": "stdout",
     "output_type": "stream",
     "text": [
      "✅ Chunk 6 procesado y guardado: 838860 train / 209716 test\n"
     ]
    },
    {
     "name": "stderr",
     "output_type": "stream",
     "text": [
      "/home/cosmopato/flightprice_env/lib/python3.12/site-packages/sklearn/utils/validation.py:2732: UserWarning: X has feature names, but StandardScaler was fitted without feature names\n",
      "  warnings.warn(\n"
     ]
    },
    {
     "name": "stdout",
     "output_type": "stream",
     "text": [
      "✅ Chunk 7 procesado y guardado: 838860 train / 209716 test\n"
     ]
    },
    {
     "name": "stderr",
     "output_type": "stream",
     "text": [
      "/home/cosmopato/flightprice_env/lib/python3.12/site-packages/sklearn/utils/validation.py:2732: UserWarning: X has feature names, but StandardScaler was fitted without feature names\n",
      "  warnings.warn(\n"
     ]
    },
    {
     "name": "stdout",
     "output_type": "stream",
     "text": [
      "✅ Chunk 8 procesado y guardado: 838860 train / 209716 test\n"
     ]
    },
    {
     "name": "stderr",
     "output_type": "stream",
     "text": [
      "/home/cosmopato/flightprice_env/lib/python3.12/site-packages/sklearn/utils/validation.py:2732: UserWarning: X has feature names, but StandardScaler was fitted without feature names\n",
      "  warnings.warn(\n"
     ]
    },
    {
     "name": "stdout",
     "output_type": "stream",
     "text": [
      "✅ Chunk 9 procesado y guardado: 838860 train / 209716 test\n"
     ]
    },
    {
     "name": "stderr",
     "output_type": "stream",
     "text": [
      "/home/cosmopato/flightprice_env/lib/python3.12/site-packages/sklearn/utils/validation.py:2732: UserWarning: X has feature names, but StandardScaler was fitted without feature names\n",
      "  warnings.warn(\n"
     ]
    },
    {
     "name": "stdout",
     "output_type": "stream",
     "text": [
      "✅ Chunk 10 procesado y guardado: 838860 train / 209716 test\n"
     ]
    },
    {
     "name": "stderr",
     "output_type": "stream",
     "text": [
      "/home/cosmopato/flightprice_env/lib/python3.12/site-packages/sklearn/utils/validation.py:2732: UserWarning: X has feature names, but StandardScaler was fitted without feature names\n",
      "  warnings.warn(\n"
     ]
    },
    {
     "name": "stdout",
     "output_type": "stream",
     "text": [
      "✅ Chunk 11 procesado y guardado: 838860 train / 209716 test\n"
     ]
    },
    {
     "name": "stderr",
     "output_type": "stream",
     "text": [
      "/home/cosmopato/flightprice_env/lib/python3.12/site-packages/sklearn/utils/validation.py:2732: UserWarning: X has feature names, but StandardScaler was fitted without feature names\n",
      "  warnings.warn(\n"
     ]
    },
    {
     "name": "stdout",
     "output_type": "stream",
     "text": [
      "✅ Chunk 12 procesado y guardado: 838860 train / 209716 test\n"
     ]
    },
    {
     "name": "stderr",
     "output_type": "stream",
     "text": [
      "/home/cosmopato/flightprice_env/lib/python3.12/site-packages/sklearn/utils/validation.py:2732: UserWarning: X has feature names, but StandardScaler was fitted without feature names\n",
      "  warnings.warn(\n"
     ]
    },
    {
     "name": "stdout",
     "output_type": "stream",
     "text": [
      "✅ Chunk 13 procesado y guardado: 838860 train / 209716 test\n"
     ]
    },
    {
     "name": "stderr",
     "output_type": "stream",
     "text": [
      "/home/cosmopato/flightprice_env/lib/python3.12/site-packages/sklearn/utils/validation.py:2732: UserWarning: X has feature names, but StandardScaler was fitted without feature names\n",
      "  warnings.warn(\n"
     ]
    },
    {
     "name": "stdout",
     "output_type": "stream",
     "text": [
      "✅ Chunk 14 procesado y guardado: 838860 train / 209716 test\n"
     ]
    },
    {
     "name": "stderr",
     "output_type": "stream",
     "text": [
      "/home/cosmopato/flightprice_env/lib/python3.12/site-packages/sklearn/utils/validation.py:2732: UserWarning: X has feature names, but StandardScaler was fitted without feature names\n",
      "  warnings.warn(\n"
     ]
    },
    {
     "name": "stdout",
     "output_type": "stream",
     "text": [
      "✅ Chunk 15 procesado y guardado: 838860 train / 209716 test\n"
     ]
    },
    {
     "name": "stderr",
     "output_type": "stream",
     "text": [
      "/home/cosmopato/flightprice_env/lib/python3.12/site-packages/sklearn/utils/validation.py:2732: UserWarning: X has feature names, but StandardScaler was fitted without feature names\n",
      "  warnings.warn(\n"
     ]
    },
    {
     "name": "stdout",
     "output_type": "stream",
     "text": [
      "✅ Chunk 16 procesado y guardado: 838860 train / 209716 test\n"
     ]
    },
    {
     "name": "stderr",
     "output_type": "stream",
     "text": [
      "/home/cosmopato/flightprice_env/lib/python3.12/site-packages/sklearn/utils/validation.py:2732: UserWarning: X has feature names, but StandardScaler was fitted without feature names\n",
      "  warnings.warn(\n"
     ]
    },
    {
     "name": "stdout",
     "output_type": "stream",
     "text": [
      "✅ Chunk 17 procesado y guardado: 838860 train / 209716 test\n"
     ]
    },
    {
     "name": "stderr",
     "output_type": "stream",
     "text": [
      "/home/cosmopato/flightprice_env/lib/python3.12/site-packages/sklearn/utils/validation.py:2732: UserWarning: X has feature names, but StandardScaler was fitted without feature names\n",
      "  warnings.warn(\n"
     ]
    },
    {
     "name": "stdout",
     "output_type": "stream",
     "text": [
      "✅ Chunk 18 procesado y guardado: 838860 train / 209716 test\n"
     ]
    },
    {
     "name": "stderr",
     "output_type": "stream",
     "text": [
      "/home/cosmopato/flightprice_env/lib/python3.12/site-packages/sklearn/utils/validation.py:2732: UserWarning: X has feature names, but StandardScaler was fitted without feature names\n",
      "  warnings.warn(\n"
     ]
    },
    {
     "name": "stdout",
     "output_type": "stream",
     "text": [
      "✅ Chunk 19 procesado y guardado: 838860 train / 209716 test\n"
     ]
    },
    {
     "name": "stderr",
     "output_type": "stream",
     "text": [
      "/home/cosmopato/flightprice_env/lib/python3.12/site-packages/sklearn/utils/validation.py:2732: UserWarning: X has feature names, but StandardScaler was fitted without feature names\n",
      "  warnings.warn(\n"
     ]
    },
    {
     "name": "stdout",
     "output_type": "stream",
     "text": [
      "✅ Chunk 20 procesado y guardado: 838860 train / 209716 test\n"
     ]
    },
    {
     "name": "stderr",
     "output_type": "stream",
     "text": [
      "/home/cosmopato/flightprice_env/lib/python3.12/site-packages/sklearn/utils/validation.py:2732: UserWarning: X has feature names, but StandardScaler was fitted without feature names\n",
      "  warnings.warn(\n"
     ]
    },
    {
     "name": "stdout",
     "output_type": "stream",
     "text": [
      "✅ Chunk 21 procesado y guardado: 838860 train / 209716 test\n"
     ]
    },
    {
     "name": "stderr",
     "output_type": "stream",
     "text": [
      "/home/cosmopato/flightprice_env/lib/python3.12/site-packages/sklearn/utils/validation.py:2732: UserWarning: X has feature names, but StandardScaler was fitted without feature names\n",
      "  warnings.warn(\n"
     ]
    },
    {
     "name": "stdout",
     "output_type": "stream",
     "text": [
      "✅ Chunk 22 procesado y guardado: 838860 train / 209716 test\n"
     ]
    },
    {
     "name": "stderr",
     "output_type": "stream",
     "text": [
      "/home/cosmopato/flightprice_env/lib/python3.12/site-packages/sklearn/utils/validation.py:2732: UserWarning: X has feature names, but StandardScaler was fitted without feature names\n",
      "  warnings.warn(\n"
     ]
    },
    {
     "name": "stdout",
     "output_type": "stream",
     "text": [
      "✅ Chunk 23 procesado y guardado: 838860 train / 209716 test\n"
     ]
    },
    {
     "name": "stderr",
     "output_type": "stream",
     "text": [
      "/home/cosmopato/flightprice_env/lib/python3.12/site-packages/sklearn/utils/validation.py:2732: UserWarning: X has feature names, but StandardScaler was fitted without feature names\n",
      "  warnings.warn(\n"
     ]
    },
    {
     "name": "stdout",
     "output_type": "stream",
     "text": [
      "✅ Chunk 24 procesado y guardado: 838860 train / 209716 test\n"
     ]
    },
    {
     "name": "stderr",
     "output_type": "stream",
     "text": [
      "/home/cosmopato/flightprice_env/lib/python3.12/site-packages/sklearn/utils/validation.py:2732: UserWarning: X has feature names, but StandardScaler was fitted without feature names\n",
      "  warnings.warn(\n"
     ]
    },
    {
     "name": "stdout",
     "output_type": "stream",
     "text": [
      "✅ Chunk 25 procesado y guardado: 838860 train / 209716 test\n"
     ]
    },
    {
     "name": "stderr",
     "output_type": "stream",
     "text": [
      "/home/cosmopato/flightprice_env/lib/python3.12/site-packages/sklearn/utils/validation.py:2732: UserWarning: X has feature names, but StandardScaler was fitted without feature names\n",
      "  warnings.warn(\n"
     ]
    },
    {
     "name": "stdout",
     "output_type": "stream",
     "text": [
      "✅ Chunk 26 procesado y guardado: 838860 train / 209716 test\n"
     ]
    },
    {
     "name": "stderr",
     "output_type": "stream",
     "text": [
      "/home/cosmopato/flightprice_env/lib/python3.12/site-packages/sklearn/utils/validation.py:2732: UserWarning: X has feature names, but StandardScaler was fitted without feature names\n",
      "  warnings.warn(\n"
     ]
    },
    {
     "name": "stdout",
     "output_type": "stream",
     "text": [
      "✅ Chunk 27 procesado y guardado: 838860 train / 209716 test\n"
     ]
    },
    {
     "name": "stderr",
     "output_type": "stream",
     "text": [
      "/home/cosmopato/flightprice_env/lib/python3.12/site-packages/sklearn/utils/validation.py:2732: UserWarning: X has feature names, but StandardScaler was fitted without feature names\n",
      "  warnings.warn(\n"
     ]
    },
    {
     "name": "stdout",
     "output_type": "stream",
     "text": [
      "✅ Chunk 28 procesado y guardado: 838860 train / 209716 test\n"
     ]
    },
    {
     "name": "stderr",
     "output_type": "stream",
     "text": [
      "/home/cosmopato/flightprice_env/lib/python3.12/site-packages/sklearn/utils/validation.py:2732: UserWarning: X has feature names, but StandardScaler was fitted without feature names\n",
      "  warnings.warn(\n"
     ]
    },
    {
     "name": "stdout",
     "output_type": "stream",
     "text": [
      "✅ Chunk 29 procesado y guardado: 838860 train / 209716 test\n"
     ]
    },
    {
     "name": "stderr",
     "output_type": "stream",
     "text": [
      "/home/cosmopato/flightprice_env/lib/python3.12/site-packages/sklearn/utils/validation.py:2732: UserWarning: X has feature names, but StandardScaler was fitted without feature names\n",
      "  warnings.warn(\n"
     ]
    },
    {
     "name": "stdout",
     "output_type": "stream",
     "text": [
      "✅ Chunk 30 procesado y guardado: 838860 train / 209716 test\n"
     ]
    },
    {
     "name": "stderr",
     "output_type": "stream",
     "text": [
      "/home/cosmopato/flightprice_env/lib/python3.12/site-packages/sklearn/utils/validation.py:2732: UserWarning: X has feature names, but StandardScaler was fitted without feature names\n",
      "  warnings.warn(\n"
     ]
    },
    {
     "name": "stdout",
     "output_type": "stream",
     "text": [
      "✅ Chunk 31 procesado y guardado: 838860 train / 209716 test\n"
     ]
    },
    {
     "name": "stderr",
     "output_type": "stream",
     "text": [
      "/home/cosmopato/flightprice_env/lib/python3.12/site-packages/sklearn/utils/validation.py:2732: UserWarning: X has feature names, but StandardScaler was fitted without feature names\n",
      "  warnings.warn(\n"
     ]
    },
    {
     "name": "stdout",
     "output_type": "stream",
     "text": [
      "✅ Chunk 32 procesado y guardado: 838860 train / 209716 test\n"
     ]
    },
    {
     "name": "stderr",
     "output_type": "stream",
     "text": [
      "/home/cosmopato/flightprice_env/lib/python3.12/site-packages/sklearn/utils/validation.py:2732: UserWarning: X has feature names, but StandardScaler was fitted without feature names\n",
      "  warnings.warn(\n"
     ]
    },
    {
     "name": "stdout",
     "output_type": "stream",
     "text": [
      "✅ Chunk 33 procesado y guardado: 838860 train / 209716 test\n"
     ]
    },
    {
     "name": "stderr",
     "output_type": "stream",
     "text": [
      "/home/cosmopato/flightprice_env/lib/python3.12/site-packages/sklearn/utils/validation.py:2732: UserWarning: X has feature names, but StandardScaler was fitted without feature names\n",
      "  warnings.warn(\n"
     ]
    },
    {
     "name": "stdout",
     "output_type": "stream",
     "text": [
      "✅ Chunk 34 procesado y guardado: 838860 train / 209716 test\n"
     ]
    },
    {
     "name": "stderr",
     "output_type": "stream",
     "text": [
      "/home/cosmopato/flightprice_env/lib/python3.12/site-packages/sklearn/utils/validation.py:2732: UserWarning: X has feature names, but StandardScaler was fitted without feature names\n",
      "  warnings.warn(\n"
     ]
    },
    {
     "name": "stdout",
     "output_type": "stream",
     "text": [
      "✅ Chunk 35 procesado y guardado: 838860 train / 209716 test\n"
     ]
    },
    {
     "name": "stderr",
     "output_type": "stream",
     "text": [
      "/home/cosmopato/flightprice_env/lib/python3.12/site-packages/sklearn/utils/validation.py:2732: UserWarning: X has feature names, but StandardScaler was fitted without feature names\n",
      "  warnings.warn(\n"
     ]
    },
    {
     "name": "stdout",
     "output_type": "stream",
     "text": [
      "✅ Chunk 36 procesado y guardado: 838860 train / 209716 test\n"
     ]
    },
    {
     "name": "stderr",
     "output_type": "stream",
     "text": [
      "/home/cosmopato/flightprice_env/lib/python3.12/site-packages/sklearn/utils/validation.py:2732: UserWarning: X has feature names, but StandardScaler was fitted without feature names\n",
      "  warnings.warn(\n"
     ]
    },
    {
     "name": "stdout",
     "output_type": "stream",
     "text": [
      "✅ Chunk 37 procesado y guardado: 838860 train / 209716 test\n"
     ]
    },
    {
     "name": "stderr",
     "output_type": "stream",
     "text": [
      "/home/cosmopato/flightprice_env/lib/python3.12/site-packages/sklearn/utils/validation.py:2732: UserWarning: X has feature names, but StandardScaler was fitted without feature names\n",
      "  warnings.warn(\n"
     ]
    },
    {
     "name": "stdout",
     "output_type": "stream",
     "text": [
      "✅ Chunk 38 procesado y guardado: 838860 train / 209716 test\n"
     ]
    },
    {
     "name": "stderr",
     "output_type": "stream",
     "text": [
      "/home/cosmopato/flightprice_env/lib/python3.12/site-packages/sklearn/utils/validation.py:2732: UserWarning: X has feature names, but StandardScaler was fitted without feature names\n",
      "  warnings.warn(\n"
     ]
    },
    {
     "name": "stdout",
     "output_type": "stream",
     "text": [
      "✅ Chunk 39 procesado y guardado: 838860 train / 209716 test\n"
     ]
    },
    {
     "name": "stderr",
     "output_type": "stream",
     "text": [
      "/home/cosmopato/flightprice_env/lib/python3.12/site-packages/sklearn/utils/validation.py:2732: UserWarning: X has feature names, but StandardScaler was fitted without feature names\n",
      "  warnings.warn(\n"
     ]
    },
    {
     "name": "stdout",
     "output_type": "stream",
     "text": [
      "✅ Chunk 40 procesado y guardado: 838860 train / 209716 test\n"
     ]
    },
    {
     "name": "stderr",
     "output_type": "stream",
     "text": [
      "/home/cosmopato/flightprice_env/lib/python3.12/site-packages/sklearn/utils/validation.py:2732: UserWarning: X has feature names, but StandardScaler was fitted without feature names\n",
      "  warnings.warn(\n"
     ]
    },
    {
     "name": "stdout",
     "output_type": "stream",
     "text": [
      "✅ Chunk 41 procesado y guardado: 838860 train / 209716 test\n"
     ]
    },
    {
     "name": "stderr",
     "output_type": "stream",
     "text": [
      "/home/cosmopato/flightprice_env/lib/python3.12/site-packages/sklearn/utils/validation.py:2732: UserWarning: X has feature names, but StandardScaler was fitted without feature names\n",
      "  warnings.warn(\n"
     ]
    },
    {
     "name": "stdout",
     "output_type": "stream",
     "text": [
      "✅ Chunk 42 procesado y guardado: 838860 train / 209716 test\n"
     ]
    },
    {
     "name": "stderr",
     "output_type": "stream",
     "text": [
      "/home/cosmopato/flightprice_env/lib/python3.12/site-packages/sklearn/utils/validation.py:2732: UserWarning: X has feature names, but StandardScaler was fitted without feature names\n",
      "  warnings.warn(\n"
     ]
    },
    {
     "name": "stdout",
     "output_type": "stream",
     "text": [
      "✅ Chunk 43 procesado y guardado: 838860 train / 209716 test\n"
     ]
    },
    {
     "name": "stderr",
     "output_type": "stream",
     "text": [
      "/home/cosmopato/flightprice_env/lib/python3.12/site-packages/sklearn/utils/validation.py:2732: UserWarning: X has feature names, but StandardScaler was fitted without feature names\n",
      "  warnings.warn(\n"
     ]
    },
    {
     "name": "stdout",
     "output_type": "stream",
     "text": [
      "✅ Chunk 44 procesado y guardado: 838860 train / 209716 test\n"
     ]
    },
    {
     "name": "stderr",
     "output_type": "stream",
     "text": [
      "/home/cosmopato/flightprice_env/lib/python3.12/site-packages/sklearn/utils/validation.py:2732: UserWarning: X has feature names, but StandardScaler was fitted without feature names\n",
      "  warnings.warn(\n"
     ]
    },
    {
     "name": "stdout",
     "output_type": "stream",
     "text": [
      "✅ Chunk 45 procesado y guardado: 838860 train / 209716 test\n"
     ]
    },
    {
     "name": "stderr",
     "output_type": "stream",
     "text": [
      "/home/cosmopato/flightprice_env/lib/python3.12/site-packages/sklearn/utils/validation.py:2732: UserWarning: X has feature names, but StandardScaler was fitted without feature names\n",
      "  warnings.warn(\n"
     ]
    },
    {
     "name": "stdout",
     "output_type": "stream",
     "text": [
      "✅ Chunk 46 procesado y guardado: 838860 train / 209716 test\n"
     ]
    },
    {
     "name": "stderr",
     "output_type": "stream",
     "text": [
      "/home/cosmopato/flightprice_env/lib/python3.12/site-packages/sklearn/utils/validation.py:2732: UserWarning: X has feature names, but StandardScaler was fitted without feature names\n",
      "  warnings.warn(\n"
     ]
    },
    {
     "name": "stdout",
     "output_type": "stream",
     "text": [
      "✅ Chunk 47 procesado y guardado: 838860 train / 209716 test\n"
     ]
    },
    {
     "name": "stderr",
     "output_type": "stream",
     "text": [
      "/home/cosmopato/flightprice_env/lib/python3.12/site-packages/sklearn/utils/validation.py:2732: UserWarning: X has feature names, but StandardScaler was fitted without feature names\n",
      "  warnings.warn(\n"
     ]
    },
    {
     "name": "stdout",
     "output_type": "stream",
     "text": [
      "✅ Chunk 48 procesado y guardado: 838860 train / 209716 test\n"
     ]
    },
    {
     "name": "stderr",
     "output_type": "stream",
     "text": [
      "/home/cosmopato/flightprice_env/lib/python3.12/site-packages/sklearn/utils/validation.py:2732: UserWarning: X has feature names, but StandardScaler was fitted without feature names\n",
      "  warnings.warn(\n"
     ]
    },
    {
     "name": "stdout",
     "output_type": "stream",
     "text": [
      "✅ Chunk 49 procesado y guardado: 838860 train / 209716 test\n"
     ]
    },
    {
     "name": "stderr",
     "output_type": "stream",
     "text": [
      "/home/cosmopato/flightprice_env/lib/python3.12/site-packages/sklearn/utils/validation.py:2732: UserWarning: X has feature names, but StandardScaler was fitted without feature names\n",
      "  warnings.warn(\n"
     ]
    },
    {
     "name": "stdout",
     "output_type": "stream",
     "text": [
      "✅ Chunk 50 procesado y guardado: 838860 train / 209716 test\n"
     ]
    },
    {
     "name": "stderr",
     "output_type": "stream",
     "text": [
      "/home/cosmopato/flightprice_env/lib/python3.12/site-packages/sklearn/utils/validation.py:2732: UserWarning: X has feature names, but StandardScaler was fitted without feature names\n",
      "  warnings.warn(\n"
     ]
    },
    {
     "name": "stdout",
     "output_type": "stream",
     "text": [
      "✅ Chunk 51 procesado y guardado: 587508 train / 146877 test\n"
     ]
    },
    {
     "name": "stderr",
     "output_type": "stream",
     "text": [
      "/home/cosmopato/flightprice_env/lib/python3.12/site-packages/sklearn/utils/validation.py:2732: UserWarning: X has feature names, but StandardScaler was fitted without feature names\n",
      "  warnings.warn(\n"
     ]
    },
    {
     "name": "stdout",
     "output_type": "stream",
     "text": [
      "✅ Chunk 52 procesado y guardado: 838860 train / 209716 test\n"
     ]
    },
    {
     "name": "stderr",
     "output_type": "stream",
     "text": [
      "/home/cosmopato/flightprice_env/lib/python3.12/site-packages/sklearn/utils/validation.py:2732: UserWarning: X has feature names, but StandardScaler was fitted without feature names\n",
      "  warnings.warn(\n"
     ]
    },
    {
     "name": "stdout",
     "output_type": "stream",
     "text": [
      "✅ Chunk 53 procesado y guardado: 838860 train / 209716 test\n"
     ]
    },
    {
     "name": "stderr",
     "output_type": "stream",
     "text": [
      "/home/cosmopato/flightprice_env/lib/python3.12/site-packages/sklearn/utils/validation.py:2732: UserWarning: X has feature names, but StandardScaler was fitted without feature names\n",
      "  warnings.warn(\n"
     ]
    },
    {
     "name": "stdout",
     "output_type": "stream",
     "text": [
      "✅ Chunk 54 procesado y guardado: 838860 train / 209716 test\n"
     ]
    },
    {
     "name": "stderr",
     "output_type": "stream",
     "text": [
      "/home/cosmopato/flightprice_env/lib/python3.12/site-packages/sklearn/utils/validation.py:2732: UserWarning: X has feature names, but StandardScaler was fitted without feature names\n",
      "  warnings.warn(\n"
     ]
    },
    {
     "name": "stdout",
     "output_type": "stream",
     "text": [
      "✅ Chunk 55 procesado y guardado: 838860 train / 209716 test\n"
     ]
    }
   ],
   "source": [
    "import pandas as pd\n",
    "import numpy as np\n",
    "import glob\n",
    "import os\n",
    "from sklearn.model_selection import train_test_split\n",
    "from sklearn.preprocessing import StandardScaler\n",
    "import joblib\n",
    "\n",
    "print(\"📦 Detectando chunks...\")\n",
    "chunk_files = sorted(glob.glob(\"../data_subsets/final_dataset_chunks/chunk_*.parquet\"))\n",
    "print(f\"📦 Detectados {len(chunk_files)} chunks\")\n",
    "\n",
    "os.makedirs(\"../data_subsets/train_test\", exist_ok=True)\n",
    "\n",
    "# Inicializamos el scaler\n",
    "scaler = StandardScaler()\n",
    "\n",
    "# 1️⃣ Primera pasada: fitting del scaler\n",
    "print(\"🧪 Fitting del StandardScaler...\")\n",
    "for i, file in enumerate(chunk_files):\n",
    "    df = pd.read_parquet(file)\n",
    "\n",
    "    # Limpiar NaNs de columnas clave\n",
    "    df = df.dropna(subset=[\"totalFare\", \"legId\"] + [col for col in df.columns if col not in [\"totalFare\", \"legId\"]])\n",
    "\n",
    "    X = df.drop(columns=[\"totalFare\", \"legId\"], errors='ignore')\n",
    "    y = df[\"totalFare\"]\n",
    "\n",
    "    # Rellenar NaNs por 0\n",
    "    X = X.fillna(0)\n",
    "    y = y.fillna(0)\n",
    "\n",
    "    # Asegurar que no quede ningún NaN\n",
    "    X = np.nan_to_num(X, nan=0.0)\n",
    "    y = np.nan_to_num(y, nan=0.0)\n",
    "\n",
    "    # Ajustar el scaler progresivamente\n",
    "    scaler.partial_fit(X)\n",
    "\n",
    "# Guardar el scaler\n",
    "joblib.dump(scaler, \"../models/standard_scaler.pkl\")\n",
    "\n",
    "# 2️⃣ Segunda pasada: escalar, dividir y guardar\n",
    "print(\"✂️ Dividiendo y guardando chunks escalados...\")\n",
    "for i, file in enumerate(chunk_files):\n",
    "    df = pd.read_parquet(file)\n",
    "    X = df.drop(columns=[\"totalFare\", \"legId\"], errors='ignore')\n",
    "    y = df[\"totalFare\"]\n",
    "\n",
    "    # Rellenar NaNs por 0\n",
    "    X = X.fillna(0)\n",
    "    y = y.fillna(0)\n",
    "\n",
    "    # Escalar y asegurar que no tenga NaNs\n",
    "    X_scaled = scaler.transform(X)\n",
    "    X_scaled = np.nan_to_num(X_scaled, nan=0.0)\n",
    "    y = np.nan_to_num(y, nan=0.0)\n",
    "\n",
    "    X_train, X_test, y_train, y_test = train_test_split(\n",
    "        X_scaled, y, test_size=0.2, random_state=42\n",
    "    )\n",
    "\n",
    "    np.save(f\"../data_subsets/train_test/X_train_{i}.npy\", X_train)\n",
    "    np.save(f\"../data_subsets/train_test/X_test_{i}.npy\", X_test)\n",
    "    np.save(f\"../data_subsets/train_test/y_train_{i}.npy\", y_train)\n",
    "    np.save(f\"../data_subsets/train_test/y_test_{i}.npy\", y_test)\n",
    "\n",
    "    print(f\"✅ Chunk {i} procesado y guardado: {X_train.shape[0]} train / {X_test.shape[0]} test\")\n"
   ]
  },
  {
   "cell_type": "code",
   "execution_count": 9,
   "id": "666d42a5",
   "metadata": {},
   "outputs": [
    {
     "name": "stdout",
     "output_type": "stream",
     "text": [
      "🔄 Procesando 56 chunks...\n",
      "\n",
      "📊 Resultados globales por columna:\n",
      "\n",
      "➡️ airline_code (13 valores únicos):\n",
      "[np.int64(1), np.int64(2), np.int64(4), np.int64(5), np.int64(6), np.int64(7), np.int64(8), np.int64(10), np.int64(11), np.int64(12), np.int64(14), np.int64(15), np.int64(16)]\n",
      "\n",
      "➡️ aircraft_type (11 valores únicos):\n",
      "[np.float64(0.0), np.float64(17.0), np.float64(18.0), np.float64(19.0), np.float64(20.0), np.float64(21.0), np.float64(22.0), np.float64(29.0), np.float64(30.0), np.float64(32.0), np.float64(36.0)]\n",
      "\n",
      "➡️ cabin (4 valores únicos):\n",
      "[np.int64(3), np.int64(4), np.int64(6), np.int64(12)]\n",
      "\n",
      "➡️ arr_airport (20 valores únicos):\n",
      "[np.int64(1), np.int64(2), np.int64(3), np.int64(4), np.int64(5), np.int64(6), np.int64(7), np.int64(8), np.int64(9), np.int64(10), np.int64(11), np.int64(12), np.int64(13), np.int64(15), np.int64(16), np.int64(18), np.int64(19), np.int64(20), np.int64(21), np.int64(24)]\n",
      "\n",
      "➡️ dep_airport (20 valores únicos):\n",
      "[np.int64(1), np.int64(2), np.int64(3), np.int64(4), np.int64(5), np.int64(6), np.int64(7), np.int64(8), np.int64(9), np.int64(10), np.int64(11), np.int64(12), np.int64(13), np.int64(15), np.int64(16), np.int64(18), np.int64(19), np.int64(20), np.int64(21), np.int64(24)]\n",
      "\n",
      "➡️ startingAirport (16 valores únicos):\n",
      "[np.int8(0), np.int8(1), np.int8(2), np.int8(3), np.int8(4), np.int8(5), np.int8(6), np.int8(7), np.int8(8), np.int8(9), np.int8(10), np.int8(11), np.int8(12), np.int8(13), np.int8(14), np.int8(15)]\n",
      "\n",
      "➡️ destinationAirport (16 valores únicos):\n",
      "[np.int8(0), np.int8(1), np.int8(2), np.int8(3), np.int8(4), np.int8(5), np.int8(6), np.int8(7), np.int8(8), np.int8(9), np.int8(10), np.int8(11), np.int8(12), np.int8(13), np.int8(14), np.int8(15)]\n",
      "\n",
      "➡️ fareBasisCode (7645 valores únicos):\n",
      "[np.int16(0), np.int16(1), np.int16(2), np.int16(3), np.int16(4), np.int16(5), np.int16(6), np.int16(7), np.int16(8), np.int16(9), np.int16(10), np.int16(11), np.int16(12), np.int16(13), np.int16(14), np.int16(15), np.int16(16), np.int16(17), np.int16(18), np.int16(19), np.int16(20), np.int16(21), np.int16(22), np.int16(23), np.int16(24), np.int16(25), np.int16(26), np.int16(27), np.int16(28), np.int16(29), np.int16(30), np.int16(31), np.int16(32), np.int16(33), np.int16(34), np.int16(35), np.int16(36), np.int16(37), np.int16(38), np.int16(39), np.int16(40), np.int16(41), np.int16(42), np.int16(43), np.int16(44), np.int16(45), np.int16(46), np.int16(47), np.int16(48), np.int16(49), np.int16(50), np.int16(51), np.int16(52), np.int16(53), np.int16(54), np.int16(55), np.int16(56), np.int16(57), np.int16(58), np.int16(59), np.int16(60), np.int16(61), np.int16(62), np.int16(63), np.int16(64), np.int16(65), np.int16(66), np.int16(67), np.int16(68), np.int16(69), np.int16(70), np.int16(71), np.int16(72), np.int16(73), np.int16(74), np.int16(75), np.int16(76), np.int16(77), np.int16(78), np.int16(79), np.int16(80), np.int16(81), np.int16(82), np.int16(83), np.int16(84), np.int16(85), np.int16(86), np.int16(87), np.int16(88), np.int16(89), np.int16(90), np.int16(91), np.int16(92), np.int16(93), np.int16(94), np.int16(95), np.int16(96), np.int16(97), np.int16(98), np.int16(99), np.int16(100), np.int16(101), np.int16(102), np.int16(103), np.int16(104), np.int16(105), np.int16(106), np.int16(107), np.int16(108), np.int16(109), np.int16(110), np.int16(111), np.int16(112), np.int16(113), np.int16(114), np.int16(115), np.int16(116), np.int16(117), np.int16(118), np.int16(119), np.int16(120), np.int16(121), np.int16(122), np.int16(123), np.int16(124), np.int16(125), np.int16(126), np.int16(127), np.int16(128), np.int16(129), np.int16(130), np.int16(131), np.int16(132), np.int16(133), np.int16(134), np.int16(135), np.int16(136), np.int16(137), np.int16(138), np.int16(139), np.int16(140), np.int16(141), np.int16(142), np.int16(143), np.int16(144), np.int16(145), np.int16(146), np.int16(147), np.int16(148), np.int16(149), np.int16(150), np.int16(151), np.int16(152), np.int16(153), np.int16(154), np.int16(155), np.int16(156), np.int16(157), np.int16(158), np.int16(159), np.int16(160), np.int16(161), np.int16(162), np.int16(163), np.int16(164), np.int16(165), np.int16(166), np.int16(167), np.int16(168), np.int16(169), np.int16(170), np.int16(171), np.int16(172), np.int16(173), np.int16(174), np.int16(175), np.int16(176), np.int16(177), np.int16(178), np.int16(179), np.int16(180), np.int16(181), np.int16(182), np.int16(183), np.int16(184), np.int16(185), np.int16(186), np.int16(187), np.int16(188), np.int16(189), np.int16(190), np.int16(191), np.int16(192), np.int16(193), np.int16(194), np.int16(195), np.int16(196), np.int16(197), np.int16(198), np.int16(199), np.int16(200), np.int16(201), np.int16(202), np.int16(203), np.int16(204), np.int16(205), np.int16(206), np.int16(207), np.int16(208), np.int16(209), np.int16(210), np.int16(211), np.int16(212), np.int16(213), np.int16(214), np.int16(215), np.int16(216), np.int16(217), np.int16(218), np.int16(219), np.int16(220), np.int16(221), np.int16(222), np.int16(223), np.int16(224), np.int16(225), np.int16(226), np.int16(227), np.int16(228), np.int16(229), np.int16(230), np.int16(231), np.int16(232), np.int16(233), np.int16(234), np.int16(235), np.int16(236), np.int16(237), np.int16(238), np.int16(239), np.int16(240), np.int16(241), np.int16(242), np.int16(243), np.int16(244), np.int16(245), np.int16(246), np.int16(247), np.int16(248), np.int16(249), np.int16(250), np.int16(251), np.int16(252), np.int16(253), np.int16(254), np.int16(255), np.int16(256), np.int16(257), np.int16(258), np.int16(259), np.int16(260), np.int16(261), np.int16(262), np.int16(263), np.int16(264), np.int16(265), np.int16(266), np.int16(267), np.int16(268), np.int16(269), np.int16(270), np.int16(271), np.int16(272), np.int16(273), np.int16(274), np.int16(275), np.int16(276), np.int16(277), np.int16(278), np.int16(279), np.int16(280), np.int16(281), np.int16(282), np.int16(283), np.int16(284), np.int16(285), np.int16(286), np.int16(287), np.int16(288), np.int16(289), np.int16(290), np.int16(291), np.int16(292), np.int16(293), np.int16(294), np.int16(295), np.int16(296), np.int16(297), np.int16(298), np.int16(299), np.int16(300), np.int16(301), np.int16(302), np.int16(303), np.int16(304), np.int16(305), np.int16(306), np.int16(307), np.int16(308), np.int16(309), np.int16(310), np.int16(311), np.int16(312), np.int16(313), np.int16(314), np.int16(315), np.int16(316), np.int16(317), np.int16(318), np.int16(319), np.int16(320), np.int16(321), np.int16(322), np.int16(323), np.int16(324), np.int16(325), np.int16(326), np.int16(327), np.int16(328), np.int16(329), np.int16(330), np.int16(331), np.int16(332), np.int16(333), np.int16(334), np.int16(335), np.int16(336), np.int16(337), np.int16(338), np.int16(339), np.int16(340), np.int16(341), np.int16(342), np.int16(343), np.int16(344), np.int16(345), np.int16(346), np.int16(347), np.int16(348), np.int16(349), np.int16(350), np.int16(351), np.int16(352), np.int16(353), np.int16(354), np.int16(355), np.int16(356), np.int16(357), np.int16(358), np.int16(359), np.int16(360), np.int16(361), np.int16(362), np.int16(363), np.int16(364), np.int16(365), np.int16(366), np.int16(367), np.int16(368), np.int16(369), np.int16(370), np.int16(371), np.int16(372), np.int16(373), np.int16(374), np.int16(375), np.int16(376), np.int16(377), np.int16(378), np.int16(379), np.int16(380), np.int16(381), np.int16(382), np.int16(383), np.int16(384), np.int16(385), np.int16(386), np.int16(387), np.int16(388), np.int16(389), np.int16(390), np.int16(391), np.int16(392), np.int16(393), np.int16(394), np.int16(395), np.int16(396), np.int16(397), np.int16(398), np.int16(399), np.int16(400), np.int16(401), np.int16(402), np.int16(403), np.int16(404), np.int16(405), np.int16(406), np.int16(407), np.int16(408), np.int16(409), np.int16(410), np.int16(411), np.int16(412), np.int16(413), np.int16(414), np.int16(415), np.int16(416), np.int16(417), np.int16(418), np.int16(419), np.int16(420), np.int16(421), np.int16(422), np.int16(423), np.int16(424), np.int16(425), np.int16(426), np.int16(427), np.int16(428), np.int16(429), np.int16(430), np.int16(431), np.int16(432), np.int16(433), np.int16(434), np.int16(435), np.int16(436), np.int16(437), np.int16(438), np.int16(439), np.int16(440), np.int16(441), np.int16(442), np.int16(443), np.int16(444), np.int16(445), np.int16(446), np.int16(447), np.int16(448), np.int16(449), np.int16(450), np.int16(451), np.int16(452), np.int16(453), np.int16(454), np.int16(455), np.int16(456), np.int16(457), np.int16(458), np.int16(459), np.int16(460), np.int16(461), np.int16(462), np.int16(463), np.int16(464), np.int16(465), np.int16(466), np.int16(467), np.int16(468), np.int16(469), np.int16(470), np.int16(471), np.int16(472), np.int16(473), np.int16(474), np.int16(475), np.int16(476), np.int16(477), np.int16(478), np.int16(479), np.int16(480), np.int16(481), np.int16(482), np.int16(483), np.int16(484), np.int16(485), np.int16(486), np.int16(487), np.int16(488), np.int16(489), np.int16(490), np.int16(491), np.int16(492), np.int16(493), np.int16(494), np.int16(495), np.int16(496), np.int16(497), np.int16(498), np.int16(499), np.int16(500), np.int16(501), np.int16(502), np.int16(503), np.int16(504), np.int16(505), np.int16(506), np.int16(507), np.int16(508), np.int16(509), np.int16(510), np.int16(511), np.int16(512), np.int16(513), np.int16(514), np.int16(515), np.int16(516), np.int16(517), np.int16(518), np.int16(519), np.int16(520), np.int16(521), np.int16(522), np.int16(523), np.int16(524), np.int16(525), np.int16(526), np.int16(527), np.int16(528), np.int16(529), np.int16(530), np.int16(531), np.int16(532), np.int16(533), np.int16(534), np.int16(535), np.int16(536), np.int16(537), np.int16(538), np.int16(539), np.int16(540), np.int16(541), np.int16(542), np.int16(543), np.int16(544), np.int16(545), np.int16(546), np.int16(547), np.int16(548), np.int16(549), np.int16(550), np.int16(551), np.int16(552), np.int16(553), np.int16(554), np.int16(555), np.int16(556), np.int16(557), np.int16(558), np.int16(559), np.int16(560), np.int16(561), np.int16(562), np.int16(563), np.int16(564), np.int16(565), np.int16(566), np.int16(567), np.int16(568), np.int16(569), np.int16(570), np.int16(571), np.int16(572), np.int16(573), np.int16(574), np.int16(575), np.int16(576), np.int16(577), np.int16(578), np.int16(579), np.int16(580), np.int16(581), np.int16(582), np.int16(583), np.int16(584), np.int16(585), np.int16(586), np.int16(587), np.int16(588), np.int16(589), np.int16(590), np.int16(591), np.int16(592), np.int16(593), np.int16(594), np.int16(595), np.int16(596), np.int16(597), np.int16(598), np.int16(599), np.int16(600), np.int16(601), np.int16(602), np.int16(603), np.int16(604), np.int16(605), np.int16(606), np.int16(607), np.int16(608), np.int16(609), np.int16(610), np.int16(611), np.int16(612), np.int16(613), np.int16(614), np.int16(615), np.int16(616), np.int16(617), np.int16(618), np.int16(619), np.int16(620), np.int16(621), np.int16(622), np.int16(623), np.int16(624), np.int16(625), np.int16(626), np.int16(627), np.int16(628), np.int16(629), np.int16(630), np.int16(631), np.int16(632), np.int16(633), np.int16(634), np.int16(635), np.int16(636), np.int16(637), np.int16(638), np.int16(639), np.int16(640), np.int16(641), np.int16(642), np.int16(643), np.int16(644), np.int16(645), np.int16(646), np.int16(647), np.int16(648), np.int16(649), np.int16(650), np.int16(651), np.int16(652), np.int16(653), np.int16(654), np.int16(655), np.int16(656), np.int16(657), np.int16(658), np.int16(659), np.int16(660), np.int16(661), np.int16(662), np.int16(663), np.int16(664), np.int16(665), np.int16(666), np.int16(667), np.int16(668), np.int16(669), np.int16(670), np.int16(671), np.int16(672), np.int16(673), np.int16(674), np.int16(675), np.int16(676), np.int16(677), np.int16(678), np.int16(679), np.int16(680), np.int16(681), np.int16(682), np.int16(683), np.int16(684), np.int16(685), np.int16(686), np.int16(687), np.int16(688), np.int16(689), np.int16(690), np.int16(691), np.int16(692), np.int16(693), np.int16(694), np.int16(695), np.int16(696), np.int16(697), np.int16(698), np.int16(699), np.int16(700), np.int16(701), np.int16(702), np.int16(703), np.int16(704), np.int16(705), np.int16(706), np.int16(707), np.int16(708), np.int16(709), np.int16(710), np.int16(711), np.int16(712), np.int16(713), np.int16(714), np.int16(715), np.int16(716), np.int16(717), np.int16(718), np.int16(719), np.int16(720), np.int16(721), np.int16(722), np.int16(723), np.int16(724), np.int16(725), np.int16(726), np.int16(727), np.int16(728), np.int16(729), np.int16(730), np.int16(731), np.int16(732), np.int16(733), np.int16(734), np.int16(735), np.int16(736), np.int16(737), np.int16(738), np.int16(739), np.int16(740), np.int16(741), np.int16(742), np.int16(743), np.int16(744), np.int16(745), np.int16(746), np.int16(747), np.int16(748), np.int16(749), np.int16(750), np.int16(751), np.int16(752), np.int16(753), np.int16(754), np.int16(755), np.int16(756), np.int16(757), np.int16(758), np.int16(759), np.int16(760), np.int16(761), np.int16(762), np.int16(763), np.int16(764), np.int16(765), np.int16(766), np.int16(767), np.int16(768), np.int16(769), np.int16(770), np.int16(771), np.int16(772), np.int16(773), np.int16(774), np.int16(775), np.int16(776), np.int16(777), np.int16(778), np.int16(779), np.int16(780), np.int16(781), np.int16(782), np.int16(783), np.int16(784), np.int16(785), np.int16(786), np.int16(787), np.int16(788), np.int16(789), np.int16(790), np.int16(791), np.int16(792), np.int16(793), np.int16(794), np.int16(795), np.int16(796), np.int16(797), np.int16(798), np.int16(799), np.int16(800), np.int16(801), np.int16(802), np.int16(803), np.int16(804), np.int16(805), np.int16(806), np.int16(807), np.int16(808), np.int16(809), np.int16(810), np.int16(811), np.int16(812), np.int16(813), np.int16(814), np.int16(815), np.int16(816), np.int16(817), np.int16(818), np.int16(819), np.int16(820), np.int16(821), np.int16(822), np.int16(823), np.int16(824), np.int16(825), np.int16(826), np.int16(827), np.int16(828), np.int16(829), np.int16(830), np.int16(831), np.int16(832), np.int16(833), np.int16(834), np.int16(835), np.int16(836), np.int16(837), np.int16(838), np.int16(839), np.int16(840), np.int16(841), np.int16(842), np.int16(843), np.int16(844), np.int16(845), np.int16(846), np.int16(847), np.int16(848), np.int16(849), np.int16(850), np.int16(851), np.int16(852), np.int16(853), np.int16(854), np.int16(855), np.int16(856), np.int16(857), np.int16(858), np.int16(859), np.int16(860), np.int16(861), np.int16(862), np.int16(863), np.int16(864), np.int16(865), np.int16(866), np.int16(867), np.int16(868), np.int16(869), np.int16(870), np.int16(871), np.int16(872), np.int16(873), np.int16(874), np.int16(875), np.int16(876), np.int16(877), np.int16(878), np.int16(879), np.int16(880), np.int16(881), np.int16(882), np.int16(883), np.int16(884), np.int16(885), np.int16(886), np.int16(887), np.int16(888), np.int16(889), np.int16(890), np.int16(891), np.int16(892), np.int16(893), np.int16(894), np.int16(895), np.int16(896), np.int16(897), np.int16(898), np.int16(899), np.int16(900), np.int16(901), np.int16(902), np.int16(903), np.int16(904), np.int16(905), np.int16(906), np.int16(907), np.int16(908), np.int16(909), np.int16(910), np.int16(911), np.int16(912), np.int16(913), np.int16(914), np.int16(915), np.int16(916), np.int16(917), np.int16(918), np.int16(919), np.int16(920), np.int16(921), np.int16(922), np.int16(923), np.int16(924), np.int16(925), np.int16(926), np.int16(927), np.int16(928), np.int16(929), np.int16(930), np.int16(931), np.int16(932), np.int16(933), np.int16(934), np.int16(935), np.int16(936), np.int16(937), np.int16(938), np.int16(939), np.int16(940), np.int16(941), np.int16(942), np.int16(943), np.int16(944), np.int16(945), np.int16(946), np.int16(947), np.int16(948), np.int16(949), np.int16(950), np.int16(951), np.int16(952), np.int16(953), np.int16(954), np.int16(955), np.int16(956), np.int16(957), np.int16(958), np.int16(959), np.int16(960), np.int16(961), np.int16(962), np.int16(963), np.int16(964), np.int16(965), np.int16(966), np.int16(967), np.int16(968), np.int16(969), np.int16(970), np.int16(971), np.int16(972), np.int16(973), np.int16(974), np.int16(975), np.int16(976), np.int16(977), np.int16(978), np.int16(979), np.int16(980), np.int16(981), np.int16(982), np.int16(983), np.int16(984), np.int16(985), np.int16(986), np.int16(987), np.int16(988), np.int16(989), np.int16(990), np.int16(991), np.int16(992), np.int16(993), np.int16(994), np.int16(995), np.int16(996), np.int16(997), np.int16(998), np.int16(999), np.int16(1000), np.int16(1001), np.int16(1002), np.int16(1003), np.int16(1004), np.int16(1005), np.int16(1006), np.int16(1007), np.int16(1008), np.int16(1009), np.int16(1010), np.int16(1011), np.int16(1012), np.int16(1013), np.int16(1014), np.int16(1015), np.int16(1016), np.int16(1017), np.int16(1018), np.int16(1019), np.int16(1020), np.int16(1021), np.int16(1022), np.int16(1023), np.int16(1024), np.int16(1025), np.int16(1026), np.int16(1027), np.int16(1028), np.int16(1029), np.int16(1030), np.int16(1031), np.int16(1032), np.int16(1033), np.int16(1034), np.int16(1035), np.int16(1036), np.int16(1037), np.int16(1038), np.int16(1039), np.int16(1040), np.int16(1041), np.int16(1042), np.int16(1043), np.int16(1044), np.int16(1045), np.int16(1046), np.int16(1047), np.int16(1048), np.int16(1049), np.int16(1050), np.int16(1051), np.int16(1052), np.int16(1053), np.int16(1054), np.int16(1055), np.int16(1056), np.int16(1057), np.int16(1058), np.int16(1059), np.int16(1060), np.int16(1061), np.int16(1062), np.int16(1063), np.int16(1064), np.int16(1065), np.int16(1066), np.int16(1067), np.int16(1068), np.int16(1069), np.int16(1070), np.int16(1071), np.int16(1072), np.int16(1073), np.int16(1074), np.int16(1075), np.int16(1076), np.int16(1077), np.int16(1078), np.int16(1079), np.int16(1080), np.int16(1081), np.int16(1082), np.int16(1083), np.int16(1084), np.int16(1085), np.int16(1086), np.int16(1087), np.int16(1088), np.int16(1089), np.int16(1090), np.int16(1091), np.int16(1092), np.int16(1093), np.int16(1094), np.int16(1095), np.int16(1096), np.int16(1097), np.int16(1098), np.int16(1099), np.int16(1100), np.int16(1101), np.int16(1102), np.int16(1103), np.int16(1104), np.int16(1105), np.int16(1106), np.int16(1107), np.int16(1108), np.int16(1109), np.int16(1110), np.int16(1111), np.int16(1112), np.int16(1113), np.int16(1114), np.int16(1115), np.int16(1116), np.int16(1117), np.int16(1118), np.int16(1119), np.int16(1120), np.int16(1121), np.int16(1122), np.int16(1123), np.int16(1124), np.int16(1125), np.int16(1126), np.int16(1127), np.int16(1128), np.int16(1129), np.int16(1130), np.int16(1131), np.int16(1132), np.int16(1133), np.int16(1134), np.int16(1135), np.int16(1136), np.int16(1137), np.int16(1138), np.int16(1139), np.int16(1140), np.int16(1141), np.int16(1142), np.int16(1143), np.int16(1144), np.int16(1145), np.int16(1146), np.int16(1147), np.int16(1148), np.int16(1149), np.int16(1150), np.int16(1151), np.int16(1152), np.int16(1153), np.int16(1154), np.int16(1155), np.int16(1156), np.int16(1157), np.int16(1158), np.int16(1159), np.int16(1160), np.int16(1161), np.int16(1162), np.int16(1163), np.int16(1164), np.int16(1165), np.int16(1166), np.int16(1167), np.int16(1168), np.int16(1169), np.int16(1170), np.int16(1171), np.int16(1172), np.int16(1173), np.int16(1174), np.int16(1175), np.int16(1176), np.int16(1177), np.int16(1178), np.int16(1179), np.int16(1180), np.int16(1181), np.int16(1182), np.int16(1183), np.int16(1184), np.int16(1185), np.int16(1186), np.int16(1187), np.int16(1188), np.int16(1189), np.int16(1190), np.int16(1191), np.int16(1192), np.int16(1193), np.int16(1194), np.int16(1195), np.int16(1196), np.int16(1197), np.int16(1198), np.int16(1199), np.int16(1200), np.int16(1201), np.int16(1202), np.int16(1203), np.int16(1204), np.int16(1205), np.int16(1206), np.int16(1207), np.int16(1208), np.int16(1209), np.int16(1210), np.int16(1211), np.int16(1212), np.int16(1213), np.int16(1214), np.int16(1215), np.int16(1216), np.int16(1217), np.int16(1218), np.int16(1219), np.int16(1220), np.int16(1221), np.int16(1222), np.int16(1223), np.int16(1224), np.int16(1225), np.int16(1226), np.int16(1227), np.int16(1228), np.int16(1229), np.int16(1230), np.int16(1231), np.int16(1232), np.int16(1233), np.int16(1234), np.int16(1235), np.int16(1236), np.int16(1237), np.int16(1238), np.int16(1239), np.int16(1240), np.int16(1241), np.int16(1242), np.int16(1243), np.int16(1244), np.int16(1245), np.int16(1246), np.int16(1247), np.int16(1248), np.int16(1249), np.int16(1250), np.int16(1251), np.int16(1252), np.int16(1253), np.int16(1254), np.int16(1255), np.int16(1256), np.int16(1257), np.int16(1258), np.int16(1259), np.int16(1260), np.int16(1261), np.int16(1262), np.int16(1263), np.int16(1264), np.int16(1265), np.int16(1266), np.int16(1267), np.int16(1268), np.int16(1269), np.int16(1270), np.int16(1271), np.int16(1272), np.int16(1273), np.int16(1274), np.int16(1275), np.int16(1276), np.int16(1277), np.int16(1278), np.int16(1279), np.int16(1280), np.int16(1281), np.int16(1282), np.int16(1283), np.int16(1284), np.int16(1285), np.int16(1286), np.int16(1287), np.int16(1288), np.int16(1289), np.int16(1290), np.int16(1291), np.int16(1292), np.int16(1293), np.int16(1294), np.int16(1295), np.int16(1296), np.int16(1297), np.int16(1298), np.int16(1299), np.int16(1300), np.int16(1301), np.int16(1302), np.int16(1303), np.int16(1304), np.int16(1305), np.int16(1306), np.int16(1307), np.int16(1308), np.int16(1309), np.int16(1310), np.int16(1311), np.int16(1312), np.int16(1313), np.int16(1314), np.int16(1315), np.int16(1316), np.int16(1317), np.int16(1318), np.int16(1319), np.int16(1320), np.int16(1321), np.int16(1322), np.int16(1323), np.int16(1324), np.int16(1325), np.int16(1326), np.int16(1327), np.int16(1328), np.int16(1329), np.int16(1330), np.int16(1331), np.int16(1332), np.int16(1333), np.int16(1334), np.int16(1335), np.int16(1336), np.int16(1337), np.int16(1338), np.int16(1339), np.int16(1340), np.int16(1341), np.int16(1342), np.int16(1343), np.int16(1344), np.int16(1345), np.int16(1346), np.int16(1347), np.int16(1348), np.int16(1349), np.int16(1350), np.int16(1351), np.int16(1352), np.int16(1353), np.int16(1354), np.int16(1355), np.int16(1356), np.int16(1357), np.int16(1358), np.int16(1359), np.int16(1360), np.int16(1361), np.int16(1362), np.int16(1363), np.int16(1364), np.int16(1365), np.int16(1366), np.int16(1367), np.int16(1368), np.int16(1369), np.int16(1370), np.int16(1371), np.int16(1372), np.int16(1373), np.int16(1374), np.int16(1375), np.int16(1376), np.int16(1377), np.int16(1378), np.int16(1379), np.int16(1380), np.int16(1381), np.int16(1382), np.int16(1383), np.int16(1384), np.int16(1385), np.int16(1386), np.int16(1387), np.int16(1388), np.int16(1389), np.int16(1390), np.int16(1391), np.int16(1392), np.int16(1393), np.int16(1394), np.int16(1395), np.int16(1396), np.int16(1397), np.int16(1398), np.int16(1399), np.int16(1400), np.int16(1401), np.int16(1402), np.int16(1403), np.int16(1404), np.int16(1405), np.int16(1406), np.int16(1407), np.int16(1408), np.int16(1409), np.int16(1410), np.int16(1411), np.int16(1412), np.int16(1413), np.int16(1414), np.int16(1415), np.int16(1416), np.int16(1417), np.int16(1418), np.int16(1419), np.int16(1420), np.int16(1421), np.int16(1422), np.int16(1423), np.int16(1424), np.int16(1425), np.int16(1426), np.int16(1427), np.int16(1428), np.int16(1429), np.int16(1430), np.int16(1431), np.int16(1432), np.int16(1433), np.int16(1434), np.int16(1435), np.int16(1436), np.int16(1437), np.int16(1438), np.int16(1439), np.int16(1440), np.int16(1441), np.int16(1442), np.int16(1443), np.int16(1444), np.int16(1445), np.int16(1446), np.int16(1447), np.int16(1448), np.int16(1449), np.int16(1450), np.int16(1451), np.int16(1452), np.int16(1453), np.int16(1454), np.int16(1455), np.int16(1456), np.int16(1457), np.int16(1458), np.int16(1459), np.int16(1460), np.int16(1461), np.int16(1462), np.int16(1463), np.int16(1464), np.int16(1465), np.int16(1466), np.int16(1467), np.int16(1468), np.int16(1469), np.int16(1470), np.int16(1471), np.int16(1472), np.int16(1473), np.int16(1474), np.int16(1475), np.int16(1476), np.int16(1477), np.int16(1478), np.int16(1479), np.int16(1480), np.int16(1481), np.int16(1482), np.int16(1483), np.int16(1484), np.int16(1485), np.int16(1486), np.int16(1487), np.int16(1488), np.int16(1489), np.int16(1490), np.int16(1491), np.int16(1492), np.int16(1493), np.int16(1494), np.int16(1495), np.int16(1496), np.int16(1497), np.int16(1498), np.int16(1499), np.int16(1500), np.int16(1501), np.int16(1502), np.int16(1503), np.int16(1504), np.int16(1505), np.int16(1506), np.int16(1507), np.int16(1508), np.int16(1509), np.int16(1510), np.int16(1511), np.int16(1512), np.int16(1513), np.int16(1514), np.int16(1515), np.int16(1516), np.int16(1517), np.int16(1518), np.int16(1519), np.int16(1520), np.int16(1521), np.int16(1522), np.int16(1523), np.int16(1524), np.int16(1525), np.int16(1526), np.int16(1527), np.int16(1528), np.int16(1529), np.int16(1530), np.int16(1531), np.int16(1532), np.int16(1533), np.int16(1534), np.int16(1535), np.int16(1536), np.int16(1537), np.int16(1538), np.int16(1539), np.int16(1540), np.int16(1541), np.int16(1542), np.int16(1543), np.int16(1544), np.int16(1545), np.int16(1546), np.int16(1547), np.int16(1548), np.int16(1549), np.int16(1550), np.int16(1551), np.int16(1552), np.int16(1553), np.int16(1554), np.int16(1555), np.int16(1556), np.int16(1557), np.int16(1558), np.int16(1559), np.int16(1560), np.int16(1561), np.int16(1562), np.int16(1563), np.int16(1564), np.int16(1565), np.int16(1566), np.int16(1567), np.int16(1568), np.int16(1569), np.int16(1570), np.int16(1571), np.int16(1572), np.int16(1573), np.int16(1574), np.int16(1575), np.int16(1576), np.int16(1577), np.int16(1578), np.int16(1579), np.int16(1580), np.int16(1581), np.int16(1582), np.int16(1583), np.int16(1584), np.int16(1585), np.int16(1586), np.int16(1587), np.int16(1588), np.int16(1589), np.int16(1590), np.int16(1591), np.int16(1592), np.int16(1593), np.int16(1594), np.int16(1595), np.int16(1596), np.int16(1597), np.int16(1598), np.int16(1599), np.int16(1600), np.int16(1601), np.int16(1602), np.int16(1603), np.int16(1604), np.int16(1605), np.int16(1606), np.int16(1607), np.int16(1608), np.int16(1609), np.int16(1610), np.int16(1611), np.int16(1612), np.int16(1613), np.int16(1614), np.int16(1615), np.int16(1616), np.int16(1617), np.int16(1618), np.int16(1619), np.int16(1620), np.int16(1621), np.int16(1622), np.int16(1623), np.int16(1624), np.int16(1625), np.int16(1626), np.int16(1627), np.int16(1628), np.int16(1629), np.int16(1630), np.int16(1631), np.int16(1632), np.int16(1633), np.int16(1634), np.int16(1635), np.int16(1636), np.int16(1637), np.int16(1638), np.int16(1639), np.int16(1640), np.int16(1641), np.int16(1642), np.int16(1643), np.int16(1644), np.int16(1645), np.int16(1646), np.int16(1647), np.int16(1648), np.int16(1649), np.int16(1650), np.int16(1651), np.int16(1652), np.int16(1653), np.int16(1654), np.int16(1655), np.int16(1656), np.int16(1657), np.int16(1658), np.int16(1659), np.int16(1660), np.int16(1661), np.int16(1662), np.int16(1663), np.int16(1664), np.int16(1665), np.int16(1666), np.int16(1667), np.int16(1668), np.int16(1669), np.int16(1670), np.int16(1671), np.int16(1672), np.int16(1673), np.int16(1674), np.int16(1675), np.int16(1676), np.int16(1677), np.int16(1678), np.int16(1679), np.int16(1680), np.int16(1681), np.int16(1682), np.int16(1683), np.int16(1684), np.int16(1685), np.int16(1686), np.int16(1687), np.int16(1688), np.int16(1689), np.int16(1690), np.int16(1691), np.int16(1692), np.int16(1693), np.int16(1694), np.int16(1695), np.int16(1696), np.int16(1697), np.int16(1698), np.int16(1699), np.int16(1700), np.int16(1701), np.int16(1702), np.int16(1703), np.int16(1704), np.int16(1705), np.int16(1706), np.int16(1707), np.int16(1708), np.int16(1709), np.int16(1710), np.int16(1711), np.int16(1712), np.int16(1713), np.int16(1714), np.int16(1715), np.int16(1716), np.int16(1717), np.int16(1718), np.int16(1719), np.int16(1720), np.int16(1721), np.int16(1722), np.int16(1723), np.int16(1724), np.int16(1725), np.int16(1726), np.int16(1727), np.int16(1728), np.int16(1729), np.int16(1730), np.int16(1731), np.int16(1732), np.int16(1733), np.int16(1734), np.int16(1735), np.int16(1736), np.int16(1737), np.int16(1738), np.int16(1739), np.int16(1740), np.int16(1741), np.int16(1742), np.int16(1743), np.int16(1744), np.int16(1745), np.int16(1746), np.int16(1747), np.int16(1748), np.int16(1749), np.int16(1750), np.int16(1751), np.int16(1752), np.int16(1753), np.int16(1754), np.int16(1755), np.int16(1756), np.int16(1757), np.int16(1758), np.int16(1759), np.int16(1760), np.int16(1761), np.int16(1762), np.int16(1763), np.int16(1764), np.int16(1765), np.int16(1766), np.int16(1767), np.int16(1768), np.int16(1769), np.int16(1770), np.int16(1771), np.int16(1772), np.int16(1773), np.int16(1774), np.int16(1775), np.int16(1776), np.int16(1777), np.int16(1778), np.int16(1779), np.int16(1780), np.int16(1781), np.int16(1782), np.int16(1783), np.int16(1784), np.int16(1785), np.int16(1786), np.int16(1787), np.int16(1788), np.int16(1789), np.int16(1790), np.int16(1791), np.int16(1792), np.int16(1793), np.int16(1794), np.int16(1795), np.int16(1796), np.int16(1797), np.int16(1798), np.int16(1799), np.int16(1800), np.int16(1801), np.int16(1802), np.int16(1803), np.int16(1804), np.int16(1805), np.int16(1806), np.int16(1807), np.int16(1808), np.int16(1809), np.int16(1810), np.int16(1811), np.int16(1812), np.int16(1813), np.int16(1814), np.int16(1815), np.int16(1816), np.int16(1817), np.int16(1818), np.int16(1819), np.int16(1820), np.int16(1821), np.int16(1822), np.int16(1823), np.int16(1824), np.int16(1825), np.int16(1826), np.int16(1827), np.int16(1828), np.int16(1829), np.int16(1830), np.int16(1831), np.int16(1832), np.int16(1833), np.int16(1834), np.int16(1835), np.int16(1836), np.int16(1837), np.int16(1838), np.int16(1839), np.int16(1840), np.int16(1841), np.int16(1842), np.int16(1843), np.int16(1844), np.int16(1845), np.int16(1846), np.int16(1847), np.int16(1848), np.int16(1849), np.int16(1850), np.int16(1851), np.int16(1852), np.int16(1853), np.int16(1854), np.int16(1855), np.int16(1856), np.int16(1857), np.int16(1858), np.int16(1859), np.int16(1860), np.int16(1861), np.int16(1862), np.int16(1863), np.int16(1864), np.int16(1865), np.int16(1866), np.int16(1867), np.int16(1868), np.int16(1869), np.int16(1870), np.int16(1871), np.int16(1872), np.int16(1873), np.int16(1874), np.int16(1875), np.int16(1876), np.int16(1877), np.int16(1878), np.int16(1879), np.int16(1880), np.int16(1881), np.int16(1882), np.int16(1883), np.int16(1884), np.int16(1885), np.int16(1886), np.int16(1887), np.int16(1888), np.int16(1889), np.int16(1890), np.int16(1891), np.int16(1892), np.int16(1893), np.int16(1894), np.int16(1895), np.int16(1896), np.int16(1897), np.int16(1898), np.int16(1899), np.int16(1900), np.int16(1901), np.int16(1902), np.int16(1903), np.int16(1904), np.int16(1905), np.int16(1906), np.int16(1907), np.int16(1908), np.int16(1909), np.int16(1910), np.int16(1911), np.int16(1912), np.int16(1913), np.int16(1914), np.int16(1915), np.int16(1916), np.int16(1917), np.int16(1918), np.int16(1919), np.int16(1920), np.int16(1921), np.int16(1922), np.int16(1923), np.int16(1924), np.int16(1925), np.int16(1926), np.int16(1927), np.int16(1928), np.int16(1929), np.int16(1930), np.int16(1931), np.int16(1932), np.int16(1933), np.int16(1934), np.int16(1935), np.int16(1936), np.int16(1937), np.int16(1938), np.int16(1939), np.int16(1940), np.int16(1941), np.int16(1942), np.int16(1943), np.int16(1944), np.int16(1945), np.int16(1946), np.int16(1947), np.int16(1948), np.int16(1949), np.int16(1950), np.int16(1951), np.int16(1952), np.int16(1953), np.int16(1954), np.int16(1955), np.int16(1956), np.int16(1957), np.int16(1958), np.int16(1959), np.int16(1960), np.int16(1961), np.int16(1962), np.int16(1963), np.int16(1964), np.int16(1965), np.int16(1966), np.int16(1967), np.int16(1968), np.int16(1969), np.int16(1970), np.int16(1971), np.int16(1972), np.int16(1973), np.int16(1974), np.int16(1975), np.int16(1976), np.int16(1977), np.int16(1978), np.int16(1979), np.int16(1980), np.int16(1981), np.int16(1982), np.int16(1983), np.int16(1984), np.int16(1985), np.int16(1986), np.int16(1987), np.int16(1988), np.int16(1989), np.int16(1990), np.int16(1991), np.int16(1992), np.int16(1993), np.int16(1994), np.int16(1995), np.int16(1996), np.int16(1997), np.int16(1998), np.int16(1999), np.int16(2000), np.int16(2001), np.int16(2002), np.int16(2003), np.int16(2004), np.int16(2005), np.int16(2006), np.int16(2007), np.int16(2008), np.int16(2009), np.int16(2010), np.int16(2011), np.int16(2012), np.int16(2013), np.int16(2014), np.int16(2015), np.int16(2016), np.int16(2017), np.int16(2018), np.int16(2019), np.int16(2020), np.int16(2021), np.int16(2022), np.int16(2023), np.int16(2024), np.int16(2025), np.int16(2026), np.int16(2027), np.int16(2028), np.int16(2029), np.int16(2030), np.int16(2031), np.int16(2032), np.int16(2033), np.int16(2034), np.int16(2035), np.int16(2036), np.int16(2037), np.int16(2038), np.int16(2039), np.int16(2040), np.int16(2041), np.int16(2042), np.int16(2043), np.int16(2044), np.int16(2045), np.int16(2046), np.int16(2047), np.int16(2048), np.int16(2049), np.int16(2050), np.int16(2051), np.int16(2052), np.int16(2053), np.int16(2054), np.int16(2055), np.int16(2056), np.int16(2057), np.int16(2058), np.int16(2059), np.int16(2060), np.int16(2061), np.int16(2062), np.int16(2063), np.int16(2064), np.int16(2065), np.int16(2066), np.int16(2067), np.int16(2068), np.int16(2069), np.int16(2070), np.int16(2071), np.int16(2072), np.int16(2073), np.int16(2074), np.int16(2075), np.int16(2076), np.int16(2077), np.int16(2078), np.int16(2079), np.int16(2080), np.int16(2081), np.int16(2082), np.int16(2083), np.int16(2084), np.int16(2085), np.int16(2086), np.int16(2087), np.int16(2088), np.int16(2089), np.int16(2090), np.int16(2091), np.int16(2092), np.int16(2093), np.int16(2094), np.int16(2095), np.int16(2096), np.int16(2097), np.int16(2098), np.int16(2099), np.int16(2100), np.int16(2101), np.int16(2102), np.int16(2103), np.int16(2104), np.int16(2105), np.int16(2106), np.int16(2107), np.int16(2108), np.int16(2109), np.int16(2110), np.int16(2111), np.int16(2112), np.int16(2113), np.int16(2114), np.int16(2115), np.int16(2116), np.int16(2117), np.int16(2118), np.int16(2119), np.int16(2120), np.int16(2121), np.int16(2122), np.int16(2123), np.int16(2124), np.int16(2125), np.int16(2126), np.int16(2127), np.int16(2128), np.int16(2129), np.int16(2130), np.int16(2131), np.int16(2132), np.int16(2133), np.int16(2134), np.int16(2135), np.int16(2136), np.int16(2137), np.int16(2138), np.int16(2139), np.int16(2140), np.int16(2141), np.int16(2142), np.int16(2143), np.int16(2144), np.int16(2145), np.int16(2146), np.int16(2147), np.int16(2148), np.int16(2149), np.int16(2150), np.int16(2151), np.int16(2152), np.int16(2153), np.int16(2154), np.int16(2155), np.int16(2156), np.int16(2157), np.int16(2158), np.int16(2159), np.int16(2160), np.int16(2161), np.int16(2162), np.int16(2163), np.int16(2164), np.int16(2165), np.int16(2166), np.int16(2167), np.int16(2168), np.int16(2169), np.int16(2170), np.int16(2171), np.int16(2172), np.int16(2173), np.int16(2174), np.int16(2175), np.int16(2176), np.int16(2177), np.int16(2178), np.int16(2179), np.int16(2180), np.int16(2181), np.int16(2182), np.int16(2183), np.int16(2184), np.int16(2185), np.int16(2186), np.int16(2187), np.int16(2188), np.int16(2189), np.int16(2190), np.int16(2191), np.int16(2192), np.int16(2193), np.int16(2194), np.int16(2195), np.int16(2196), np.int16(2197), np.int16(2198), np.int16(2199), np.int16(2200), np.int16(2201), np.int16(2202), np.int16(2203), np.int16(2204), np.int16(2205), np.int16(2206), np.int16(2207), np.int16(2208), np.int16(2209), np.int16(2210), np.int16(2211), np.int16(2212), np.int16(2213), np.int16(2214), np.int16(2215), np.int16(2216), np.int16(2217), np.int16(2218), np.int16(2219), np.int16(2220), np.int16(2221), np.int16(2222), np.int16(2223), np.int16(2224), np.int16(2225), np.int16(2226), np.int16(2227), np.int16(2228), np.int16(2229), np.int16(2230), np.int16(2231), np.int16(2232), np.int16(2233), np.int16(2234), np.int16(2235), np.int16(2236), np.int16(2237), np.int16(2238), np.int16(2239), np.int16(2240), np.int16(2241), np.int16(2242), np.int16(2243), np.int16(2244), np.int16(2245), np.int16(2246), np.int16(2247), np.int16(2248), np.int16(2249), np.int16(2250), np.int16(2251), np.int16(2252), np.int16(2253), np.int16(2254), np.int16(2255), np.int16(2256), np.int16(2257), np.int16(2258), np.int16(2259), np.int16(2260), np.int16(2261), np.int16(2262), np.int16(2263), np.int16(2264), np.int16(2265), np.int16(2266), np.int16(2267), np.int16(2268), np.int16(2269), np.int16(2270), np.int16(2271), np.int16(2272), np.int16(2273), np.int16(2274), np.int16(2275), np.int16(2276), np.int16(2277), np.int16(2278), np.int16(2279), np.int16(2280), np.int16(2281), np.int16(2282), np.int16(2283), np.int16(2284), np.int16(2285), np.int16(2286), np.int16(2287), np.int16(2288), np.int16(2289), np.int16(2290), np.int16(2291), np.int16(2292), np.int16(2293), np.int16(2294), np.int16(2295), np.int16(2296), np.int16(2297), np.int16(2298), np.int16(2299), np.int16(2300), np.int16(2301), np.int16(2302), np.int16(2303), np.int16(2304), np.int16(2305), np.int16(2306), np.int16(2307), np.int16(2308), np.int16(2309), np.int16(2310), np.int16(2311), np.int16(2312), np.int16(2313), np.int16(2314), np.int16(2315), np.int16(2316), np.int16(2317), np.int16(2318), np.int16(2319), np.int16(2320), np.int16(2321), np.int16(2322), np.int16(2323), np.int16(2324), np.int16(2325), np.int16(2326), np.int16(2327), np.int16(2328), np.int16(2329), np.int16(2330), np.int16(2331), np.int16(2332), np.int16(2333), np.int16(2334), np.int16(2335), np.int16(2336), np.int16(2337), np.int16(2338), np.int16(2339), np.int16(2340), np.int16(2341), np.int16(2342), np.int16(2343), np.int16(2344), np.int16(2345), np.int16(2346), np.int16(2347), np.int16(2348), np.int16(2349), np.int16(2350), np.int16(2351), np.int16(2352), np.int16(2353), np.int16(2354), np.int16(2355), np.int16(2356), np.int16(2357), np.int16(2358), np.int16(2359), np.int16(2360), np.int16(2361), np.int16(2362), np.int16(2363), np.int16(2364), np.int16(2365), np.int16(2366), np.int16(2367), np.int16(2368), np.int16(2369), np.int16(2370), np.int16(2371), np.int16(2372), np.int16(2373), np.int16(2374), np.int16(2375), np.int16(2376), np.int16(2377), np.int16(2378), np.int16(2379), np.int16(2380), np.int16(2381), np.int16(2382), np.int16(2383), np.int16(2384), np.int16(2385), np.int16(2386), np.int16(2387), np.int16(2388), np.int16(2389), np.int16(2390), np.int16(2391), np.int16(2392), np.int16(2393), np.int16(2394), np.int16(2395), np.int16(2396), np.int16(2397), np.int16(2398), np.int16(2399), np.int16(2400), np.int16(2401), np.int16(2402), np.int16(2403), np.int16(2404), np.int16(2405), np.int16(2406), np.int16(2407), np.int16(2408), np.int16(2409), np.int16(2410), np.int16(2411), np.int16(2412), np.int16(2413), np.int16(2414), np.int16(2415), np.int16(2416), np.int16(2417), np.int16(2418), np.int16(2419), np.int16(2420), np.int16(2421), np.int16(2422), np.int16(2423), np.int16(2424), np.int16(2425), np.int16(2426), np.int16(2427), np.int16(2428), np.int16(2429), np.int16(2430), np.int16(2431), np.int16(2432), np.int16(2433), np.int16(2434), np.int16(2435), np.int16(2436), np.int16(2437), np.int16(2438), np.int16(2439), np.int16(2440), np.int16(2441), np.int16(2442), np.int16(2443), np.int16(2444), np.int16(2445), np.int16(2446), np.int16(2447), np.int16(2448), np.int16(2449), np.int16(2450), np.int16(2451), np.int16(2452), np.int16(2453), np.int16(2454), np.int16(2455), np.int16(2456), np.int16(2457), np.int16(2458), np.int16(2459), np.int16(2460), np.int16(2461), np.int16(2462), np.int16(2463), np.int16(2464), np.int16(2465), np.int16(2466), np.int16(2467), np.int16(2468), np.int16(2469), np.int16(2470), np.int16(2471), np.int16(2472), np.int16(2473), np.int16(2474), np.int16(2475), np.int16(2476), np.int16(2477), np.int16(2478), np.int16(2479), np.int16(2480), np.int16(2481), np.int16(2482), np.int16(2483), np.int16(2484), np.int16(2485), np.int16(2486), np.int16(2487), np.int16(2488), np.int16(2489), np.int16(2490), np.int16(2491), np.int16(2492), np.int16(2493), np.int16(2494), np.int16(2495), np.int16(2496), np.int16(2497), np.int16(2498), np.int16(2499), np.int16(2500), np.int16(2501), np.int16(2502), np.int16(2503), np.int16(2504), np.int16(2505), np.int16(2506), np.int16(2507), np.int16(2508), np.int16(2509), np.int16(2510), np.int16(2511), np.int16(2512), np.int16(2513), np.int16(2514), np.int16(2515), np.int16(2516), np.int16(2517), np.int16(2518), np.int16(2519), np.int16(2520), np.int16(2521), np.int16(2522), np.int16(2523), np.int16(2524), np.int16(2525), np.int16(2526), np.int16(2527), np.int16(2528), np.int16(2529), np.int16(2530), np.int16(2531), np.int16(2532), np.int16(2533), np.int16(2534), np.int16(2535), np.int16(2536), np.int16(2537), np.int16(2538), np.int16(2539), np.int16(2540), np.int16(2541), np.int16(2542), np.int16(2543), np.int16(2544), np.int16(2545), np.int16(2546), np.int16(2547), np.int16(2548), np.int16(2549), np.int16(2550), np.int16(2551), np.int16(2552), np.int16(2553), np.int16(2554), np.int16(2555), np.int16(2556), np.int16(2557), np.int16(2558), np.int16(2559), np.int16(2560), np.int16(2561), np.int16(2562), np.int16(2563), np.int16(2564), np.int16(2565), np.int16(2566), np.int16(2567), np.int16(2568), np.int16(2569), np.int16(2570), np.int16(2571), np.int16(2572), np.int16(2573), np.int16(2574), np.int16(2575), np.int16(2576), np.int16(2577), np.int16(2578), np.int16(2579), np.int16(2580), np.int16(2581), np.int16(2582), np.int16(2583), np.int16(2584), np.int16(2585), np.int16(2586), np.int16(2587), np.int16(2588), np.int16(2589), np.int16(2590), np.int16(2591), np.int16(2592), np.int16(2593), np.int16(2594), np.int16(2595), np.int16(2596), np.int16(2597), np.int16(2598), np.int16(2599), np.int16(2600), np.int16(2601), np.int16(2602), np.int16(2603), np.int16(2604), np.int16(2605), np.int16(2606), np.int16(2607), np.int16(2608), np.int16(2609), np.int16(2610), np.int16(2611), np.int16(2612), np.int16(2613), np.int16(2614), np.int16(2615), np.int16(2616), np.int16(2617), np.int16(2618), np.int16(2619), np.int16(2620), np.int16(2621), np.int16(2622), np.int16(2623), np.int16(2624), np.int16(2625), np.int16(2626), np.int16(2627), np.int16(2628), np.int16(2629), np.int16(2630), np.int16(2631), np.int16(2632), np.int16(2633), np.int16(2634), np.int16(2635), np.int16(2636), np.int16(2637), np.int16(2638), np.int16(2639), np.int16(2640), np.int16(2641), np.int16(2642), np.int16(2643), np.int16(2644), np.int16(2645), np.int16(2646), np.int16(2647), np.int16(2648), np.int16(2649), np.int16(2650), np.int16(2651), np.int16(2652), np.int16(2653), np.int16(2654), np.int16(2655), np.int16(2656), np.int16(2657), np.int16(2658), np.int16(2659), np.int16(2660), np.int16(2661), np.int16(2662), np.int16(2663), np.int16(2664), np.int16(2665), np.int16(2666), np.int16(2667), np.int16(2668), np.int16(2669), np.int16(2670), np.int16(2671), np.int16(2672), np.int16(2673), np.int16(2674), np.int16(2675), np.int16(2676), np.int16(2677), np.int16(2678), np.int16(2679), np.int16(2680), np.int16(2681), np.int16(2682), np.int16(2683), np.int16(2684), np.int16(2685), np.int16(2686), np.int16(2687), np.int16(2688), np.int16(2689), np.int16(2690), np.int16(2691), np.int16(2692), np.int16(2693), np.int16(2694), np.int16(2695), np.int16(2696), np.int16(2697), np.int16(2698), np.int16(2699), np.int16(2700), np.int16(2701), np.int16(2702), np.int16(2703), np.int16(2704), np.int16(2705), np.int16(2706), np.int16(2707), np.int16(2708), np.int16(2709), np.int16(2710), np.int16(2711), np.int16(2712), np.int16(2713), np.int16(2714), np.int16(2715), np.int16(2716), np.int16(2717), np.int16(2718), np.int16(2719), np.int16(2720), np.int16(2721), np.int16(2722), np.int16(2723), np.int16(2724), np.int16(2725), np.int16(2726), np.int16(2727), np.int16(2728), np.int16(2729), np.int16(2730), np.int16(2731), np.int16(2732), np.int16(2733), np.int16(2734), np.int16(2735), np.int16(2736), np.int16(2737), np.int16(2738), np.int16(2739), np.int16(2740), np.int16(2741), np.int16(2742), np.int16(2743), np.int16(2744), np.int16(2745), np.int16(2746), np.int16(2747), np.int16(2748), np.int16(2749), np.int16(2750), np.int16(2751), np.int16(2752), np.int16(2753), np.int16(2754), np.int16(2755), np.int16(2756), np.int16(2757), np.int16(2758), np.int16(2759), np.int16(2760), np.int16(2761), np.int16(2762), np.int16(2763), np.int16(2764), np.int16(2765), np.int16(2766), np.int16(2767), np.int16(2768), np.int16(2769), np.int16(2770), np.int16(2771), np.int16(2772), np.int16(2773), np.int16(2774), np.int16(2775), np.int16(2776), np.int16(2777), np.int16(2778), np.int16(2779), np.int16(2780), np.int16(2781), np.int16(2782), np.int16(2783), np.int16(2784), np.int16(2785), np.int16(2786), np.int16(2787), np.int16(2788), np.int16(2789), np.int16(2790), np.int16(2791), np.int16(2792), np.int16(2793), np.int16(2794), np.int16(2795), np.int16(2796), np.int16(2797), np.int16(2798), np.int16(2799), np.int16(2800), np.int16(2801), np.int16(2802), np.int16(2803), np.int16(2804), np.int16(2805), np.int16(2806), np.int16(2807), np.int16(2808), np.int16(2809), np.int16(2810), np.int16(2811), np.int16(2812), np.int16(2813), np.int16(2814), np.int16(2815), np.int16(2816), np.int16(2817), np.int16(2818), np.int16(2819), np.int16(2820), np.int16(2821), np.int16(2822), np.int16(2823), np.int16(2824), np.int16(2825), np.int16(2826), np.int16(2827), np.int16(2828), np.int16(2829), np.int16(2830), np.int16(2831), np.int16(2832), np.int16(2833), np.int16(2834), np.int16(2835), np.int16(2836), np.int16(2837), np.int16(2838), np.int16(2839), np.int16(2840), np.int16(2841), np.int16(2842), np.int16(2843), np.int16(2844), np.int16(2845), np.int16(2846), np.int16(2847), np.int16(2848), np.int16(2849), np.int16(2850), np.int16(2851), np.int16(2852), np.int16(2853), np.int16(2854), np.int16(2855), np.int16(2856), np.int16(2857), np.int16(2858), np.int16(2859), np.int16(2860), np.int16(2861), np.int16(2862), np.int16(2863), np.int16(2864), np.int16(2865), np.int16(2866), np.int16(2867), np.int16(2868), np.int16(2869), np.int16(2870), np.int16(2871), np.int16(2872), np.int16(2873), np.int16(2874), np.int16(2875), np.int16(2876), np.int16(2877), np.int16(2878), np.int16(2879), np.int16(2880), np.int16(2881), np.int16(2882), np.int16(2883), np.int16(2884), np.int16(2885), np.int16(2886), np.int16(2887), np.int16(2888), np.int16(2889), np.int16(2890), np.int16(2891), np.int16(2892), np.int16(2893), np.int16(2894), np.int16(2895), np.int16(2896), np.int16(2897), np.int16(2898), np.int16(2899), np.int16(2900), np.int16(2901), np.int16(2902), np.int16(2903), np.int16(2904), np.int16(2905), np.int16(2906), np.int16(2907), np.int16(2908), np.int16(2909), np.int16(2910), np.int16(2911), np.int16(2912), np.int16(2913), np.int16(2914), np.int16(2915), np.int16(2916), np.int16(2917), np.int16(2918), np.int16(2919), np.int16(2920), np.int16(2921), np.int16(2922), np.int16(2923), np.int16(2924), np.int16(2925), np.int16(2926), np.int16(2927), np.int16(2928), np.int16(2929), np.int16(2930), np.int16(2931), np.int16(2932), np.int16(2933), np.int16(2934), np.int16(2935), np.int16(2936), np.int16(2937), np.int16(2938), np.int16(2939), np.int16(2940), np.int16(2941), np.int16(2942), np.int16(2943), np.int16(2944), np.int16(2945), np.int16(2946), np.int16(2947), np.int16(2948), np.int16(2949), np.int16(2950), np.int16(2951), np.int16(2952), np.int16(2953), np.int16(2954), np.int16(2955), np.int16(2956), np.int16(2957), np.int16(2958), np.int16(2959), np.int16(2960), np.int16(2961), np.int16(2962), np.int16(2963), np.int16(2964), np.int16(2965), np.int16(2966), np.int16(2967), np.int16(2968), np.int16(2969), np.int16(2970), np.int16(2971), np.int16(2972), np.int16(2973), np.int16(2974), np.int16(2975), np.int16(2976), np.int16(2977), np.int16(2978), np.int16(2979), np.int16(2980), np.int16(2981), np.int16(2982), np.int16(2983), np.int16(2984), np.int16(2985), np.int16(2986), np.int16(2987), np.int16(2988), np.int16(2989), np.int16(2990), np.int16(2991), np.int16(2992), np.int16(2993), np.int16(2994), np.int16(2995), np.int16(2996), np.int16(2997), np.int16(2998), np.int16(2999), np.int16(3000), np.int16(3001), np.int16(3002), np.int16(3003), np.int16(3004), np.int16(3005), np.int16(3006), np.int16(3007), np.int16(3008), np.int16(3009), np.int16(3010), np.int16(3011), np.int16(3012), np.int16(3013), np.int16(3014), np.int16(3015), np.int16(3016), np.int16(3017), np.int16(3018), np.int16(3019), np.int16(3020), np.int16(3021), np.int16(3022), np.int16(3023), np.int16(3024), np.int16(3025), np.int16(3026), np.int16(3027), np.int16(3028), np.int16(3029), np.int16(3030), np.int16(3031), np.int16(3032), np.int16(3033), np.int16(3034), np.int16(3035), np.int16(3036), np.int16(3037), np.int16(3038), np.int16(3039), np.int16(3040), np.int16(3041), np.int16(3042), np.int16(3043), np.int16(3044), np.int16(3045), np.int16(3046), np.int16(3047), np.int16(3048), np.int16(3049), np.int16(3050), np.int16(3051), np.int16(3052), np.int16(3053), np.int16(3054), np.int16(3055), np.int16(3056), np.int16(3057), np.int16(3058), np.int16(3059), np.int16(3060), np.int16(3061), np.int16(3062), np.int16(3063), np.int16(3064), np.int16(3065), np.int16(3066), np.int16(3067), np.int16(3068), np.int16(3069), np.int16(3070), np.int16(3071), np.int16(3072), np.int16(3073), np.int16(3074), np.int16(3075), np.int16(3076), np.int16(3077), np.int16(3078), np.int16(3079), np.int16(3080), np.int16(3081), np.int16(3082), np.int16(3083), np.int16(3084), np.int16(3085), np.int16(3086), np.int16(3087), np.int16(3088), np.int16(3089), np.int16(3090), np.int16(3091), np.int16(3092), np.int16(3093), np.int16(3094), np.int16(3095), np.int16(3096), np.int16(3097), np.int16(3098), np.int16(3099), np.int16(3100), np.int16(3101), np.int16(3102), np.int16(3103), np.int16(3104), np.int16(3105), np.int16(3106), np.int16(3107), np.int16(3108), np.int16(3109), np.int16(3110), np.int16(3111), np.int16(3112), np.int16(3113), np.int16(3114), np.int16(3115), np.int16(3116), np.int16(3117), np.int16(3118), np.int16(3119), np.int16(3120), np.int16(3121), np.int16(3122), np.int16(3123), np.int16(3124), np.int16(3125), np.int16(3126), np.int16(3127), np.int16(3128), np.int16(3129), np.int16(3130), np.int16(3131), np.int16(3132), np.int16(3133), np.int16(3134), np.int16(3135), np.int16(3136), np.int16(3137), np.int16(3138), np.int16(3139), np.int16(3140), np.int16(3141), np.int16(3142), np.int16(3143), np.int16(3144), np.int16(3145), np.int16(3146), np.int16(3147), np.int16(3148), np.int16(3149), np.int16(3150), np.int16(3151), np.int16(3152), np.int16(3153), np.int16(3154), np.int16(3155), np.int16(3156), np.int16(3157), np.int16(3158), np.int16(3159), np.int16(3160), np.int16(3161), np.int16(3162), np.int16(3163), np.int16(3164), np.int16(3165), np.int16(3166), np.int16(3167), np.int16(3168), np.int16(3169), np.int16(3170), np.int16(3171), np.int16(3172), np.int16(3173), np.int16(3174), np.int16(3175), np.int16(3176), np.int16(3177), np.int16(3178), np.int16(3179), np.int16(3180), np.int16(3181), np.int16(3182), np.int16(3183), np.int16(3184), np.int16(3185), np.int16(3186), np.int16(3187), np.int16(3188), np.int16(3189), np.int16(3190), np.int16(3191), np.int16(3192), np.int16(3193), np.int16(3194), np.int16(3195), np.int16(3196), np.int16(3197), np.int16(3198), np.int16(3199), np.int16(3200), np.int16(3201), np.int16(3202), np.int16(3203), np.int16(3204), np.int16(3205), np.int16(3206), np.int16(3207), np.int16(3208), np.int16(3209), np.int16(3210), np.int16(3211), np.int16(3212), np.int16(3213), np.int16(3214), np.int16(3215), np.int16(3216), np.int16(3217), np.int16(3218), np.int16(3219), np.int16(3220), np.int16(3221), np.int16(3222), np.int16(3223), np.int16(3224), np.int16(3225), np.int16(3226), np.int16(3227), np.int16(3228), np.int16(3229), np.int16(3230), np.int16(3231), np.int16(3232), np.int16(3233), np.int16(3234), np.int16(3235), np.int16(3236), np.int16(3237), np.int16(3238), np.int16(3239), np.int16(3240), np.int16(3241), np.int16(3242), np.int16(3243), np.int16(3244), np.int16(3245), np.int16(3246), np.int16(3247), np.int16(3248), np.int16(3249), np.int16(3250), np.int16(3251), np.int16(3252), np.int16(3253), np.int16(3254), np.int16(3255), np.int16(3256), np.int16(3257), np.int16(3258), np.int16(3259), np.int16(3260), np.int16(3261), np.int16(3262), np.int16(3263), np.int16(3264), np.int16(3265), np.int16(3266), np.int16(3267), np.int16(3268), np.int16(3269), np.int16(3270), np.int16(3271), np.int16(3272), np.int16(3273), np.int16(3274), np.int16(3275), np.int16(3276), np.int16(3277), np.int16(3278), np.int16(3279), np.int16(3280), np.int16(3281), np.int16(3282), np.int16(3283), np.int16(3284), np.int16(3285), np.int16(3286), np.int16(3287), np.int16(3288), np.int16(3289), np.int16(3290), np.int16(3291), np.int16(3292), np.int16(3293), np.int16(3294), np.int16(3295), np.int16(3296), np.int16(3297), np.int16(3298), np.int16(3299), np.int16(3300), np.int16(3301), np.int16(3302), np.int16(3303), np.int16(3304), np.int16(3305), np.int16(3306), np.int16(3307), np.int16(3308), np.int16(3309), np.int16(3310), np.int16(3311), np.int16(3312), np.int16(3313), np.int16(3314), np.int16(3315), np.int16(3316), np.int16(3317), np.int16(3318), np.int16(3319), np.int16(3320), np.int16(3321), np.int16(3322), np.int16(3323), np.int16(3324), np.int16(3325), np.int16(3326), np.int16(3327), np.int16(3328), np.int16(3329), np.int16(3330), np.int16(3331), np.int16(3332), np.int16(3333), np.int16(3334), np.int16(3335), np.int16(3336), np.int16(3337), np.int16(3338), np.int16(3339), np.int16(3340), np.int16(3341), np.int16(3342), np.int16(3343), np.int16(3344), np.int16(3345), np.int16(3346), np.int16(3347), np.int16(3348), np.int16(3349), np.int16(3350), np.int16(3351), np.int16(3352), np.int16(3353), np.int16(3354), np.int16(3355), np.int16(3356), np.int16(3357), np.int16(3358), np.int16(3359), np.int16(3360), np.int16(3361), np.int16(3362), np.int16(3363), np.int16(3364), np.int16(3365), np.int16(3366), np.int16(3367), np.int16(3368), np.int16(3369), np.int16(3370), np.int16(3371), np.int16(3372), np.int16(3373), np.int16(3374), np.int16(3375), np.int16(3376), np.int16(3377), np.int16(3378), np.int16(3379), np.int16(3380), np.int16(3381), np.int16(3382), np.int16(3383), np.int16(3384), np.int16(3385), np.int16(3386), np.int16(3387), np.int16(3388), np.int16(3389), np.int16(3390), np.int16(3391), np.int16(3392), np.int16(3393), np.int16(3394), np.int16(3395), np.int16(3396), np.int16(3397), np.int16(3398), np.int16(3399), np.int16(3400), np.int16(3401), np.int16(3402), np.int16(3403), np.int16(3404), np.int16(3405), np.int16(3406), np.int16(3407), np.int16(3408), np.int16(3409), np.int16(3410), np.int16(3411), np.int16(3412), np.int16(3413), np.int16(3414), np.int16(3415), np.int16(3416), np.int16(3417), np.int16(3418), np.int16(3419), np.int16(3420), np.int16(3421), np.int16(3422), np.int16(3423), np.int16(3424), np.int16(3425), np.int16(3426), np.int16(3427), np.int16(3428), np.int16(3429), np.int16(3430), np.int16(3431), np.int16(3432), np.int16(3433), np.int16(3434), np.int16(3435), np.int16(3436), np.int16(3437), np.int16(3438), np.int16(3439), np.int16(3440), np.int16(3441), np.int16(3442), np.int16(3443), np.int16(3444), np.int16(3445), np.int16(3446), np.int16(3447), np.int16(3448), np.int16(3449), np.int16(3450), np.int16(3451), np.int16(3452), np.int16(3453), np.int16(3454), np.int16(3455), np.int16(3456), np.int16(3457), np.int16(3458), np.int16(3459), np.int16(3460), np.int16(3461), np.int16(3462), np.int16(3463), np.int16(3464), np.int16(3465), np.int16(3466), np.int16(3467), np.int16(3468), np.int16(3469), np.int16(3470), np.int16(3471), np.int16(3472), np.int16(3473), np.int16(3474), np.int16(3475), np.int16(3476), np.int16(3477), np.int16(3478), np.int16(3479), np.int16(3480), np.int16(3481), np.int16(3482), np.int16(3483), np.int16(3484), np.int16(3485), np.int16(3486), np.int16(3487), np.int16(3488), np.int16(3489), np.int16(3490), np.int16(3491), np.int16(3492), np.int16(3493), np.int16(3494), np.int16(3495), np.int16(3496), np.int16(3497), np.int16(3498), np.int16(3499), np.int16(3500), np.int16(3501), np.int16(3502), np.int16(3503), np.int16(3504), np.int16(3505), np.int16(3506), np.int16(3507), np.int16(3508), np.int16(3509), np.int16(3510), np.int16(3511), np.int16(3512), np.int16(3513), np.int16(3514), np.int16(3515), np.int16(3516), np.int16(3517), np.int16(3518), np.int16(3519), np.int16(3520), np.int16(3521), np.int16(3522), np.int16(3523), np.int16(3524), np.int16(3525), np.int16(3526), np.int16(3527), np.int16(3528), np.int16(3529), np.int16(3530), np.int16(3531), np.int16(3532), np.int16(3533), np.int16(3534), np.int16(3535), np.int16(3536), np.int16(3537), np.int16(3538), np.int16(3539), np.int16(3540), np.int16(3541), np.int16(3542), np.int16(3543), np.int16(3544), np.int16(3545), np.int16(3546), np.int16(3547), np.int16(3548), np.int16(3549), np.int16(3550), np.int16(3551), np.int16(3552), np.int16(3553), np.int16(3554), np.int16(3555), np.int16(3556), np.int16(3557), np.int16(3558), np.int16(3559), np.int16(3560), np.int16(3561), np.int16(3562), np.int16(3563), np.int16(3564), np.int16(3565), np.int16(3566), np.int16(3567), np.int16(3568), np.int16(3569), np.int16(3570), np.int16(3571), np.int16(3572), np.int16(3573), np.int16(3574), np.int16(3575), np.int16(3576), np.int16(3577), np.int16(3578), np.int16(3579), np.int16(3580), np.int16(3581), np.int16(3582), np.int16(3583), np.int16(3584), np.int16(3585), np.int16(3586), np.int16(3587), np.int16(3588), np.int16(3589), np.int16(3590), np.int16(3591), np.int16(3592), np.int16(3593), np.int16(3594), np.int16(3595), np.int16(3596), np.int16(3597), np.int16(3598), np.int16(3599), np.int16(3600), np.int16(3601), np.int16(3602), np.int16(3603), np.int16(3604), np.int16(3605), np.int16(3606), np.int16(3607), np.int16(3608), np.int16(3609), np.int16(3610), np.int16(3611), np.int16(3612), np.int16(3613), np.int16(3614), np.int16(3615), np.int16(3616), np.int16(3617), np.int16(3618), np.int16(3619), np.int16(3620), np.int16(3621), np.int16(3622), np.int16(3623), np.int16(3624), np.int16(3625), np.int16(3626), np.int16(3627), np.int16(3628), np.int16(3629), np.int16(3630), np.int16(3631), np.int16(3632), np.int16(3633), np.int16(3634), np.int16(3635), np.int16(3636), np.int16(3637), np.int16(3638), np.int16(3639), np.int16(3640), np.int16(3641), np.int16(3642), np.int16(3643), np.int16(3644), np.int16(3645), np.int16(3646), np.int16(3647), np.int16(3648), np.int16(3649), np.int16(3650), np.int16(3651), np.int16(3652), np.int16(3653), np.int16(3654), np.int16(3655), np.int16(3656), np.int16(3657), np.int16(3658), np.int16(3659), np.int16(3660), np.int16(3661), np.int16(3662), np.int16(3663), np.int16(3664), np.int16(3665), np.int16(3666), np.int16(3667), np.int16(3668), np.int16(3669), np.int16(3670), np.int16(3671), np.int16(3672), np.int16(3673), np.int16(3674), np.int16(3675), np.int16(3676), np.int16(3677), np.int16(3678), np.int16(3679), np.int16(3680), np.int16(3681), np.int16(3682), np.int16(3683), np.int16(3684), np.int16(3685), np.int16(3686), np.int16(3687), np.int16(3688), np.int16(3689), np.int16(3690), np.int16(3691), np.int16(3692), np.int16(3693), np.int16(3694), np.int16(3695), np.int16(3696), np.int16(3697), np.int16(3698), np.int16(3699), np.int16(3700), np.int16(3701), np.int16(3702), np.int16(3703), np.int16(3704), np.int16(3705), np.int16(3706), np.int16(3707), np.int16(3708), np.int16(3709), np.int16(3710), np.int16(3711), np.int16(3712), np.int16(3713), np.int16(3714), np.int16(3715), np.int16(3716), np.int16(3717), np.int16(3718), np.int16(3719), np.int16(3720), np.int16(3721), np.int16(3722), np.int16(3723), np.int16(3724), np.int16(3725), np.int16(3726), np.int16(3727), np.int16(3728), np.int16(3729), np.int16(3730), np.int16(3731), np.int16(3732), np.int16(3733), np.int16(3734), np.int16(3735), np.int16(3736), np.int16(3737), np.int16(3738), np.int16(3739), np.int16(3740), np.int16(3741), np.int16(3742), np.int16(3743), np.int16(3744), np.int16(3745), np.int16(3746), np.int16(3747), np.int16(3748), np.int16(3749), np.int16(3750), np.int16(3751), np.int16(3752), np.int16(3753), np.int16(3754), np.int16(3755), np.int16(3756), np.int16(3757), np.int16(3758), np.int16(3759), np.int16(3760), np.int16(3761), np.int16(3762), np.int16(3763), np.int16(3764), np.int16(3765), np.int16(3766), np.int16(3767), np.int16(3768), np.int16(3769), np.int16(3770), np.int16(3771), np.int16(3772), np.int16(3773), np.int16(3774), np.int16(3775), np.int16(3776), np.int16(3777), np.int16(3778), np.int16(3779), np.int16(3780), np.int16(3781), np.int16(3782), np.int16(3783), np.int16(3784), np.int16(3785), np.int16(3786), np.int16(3787), np.int16(3788), np.int16(3789), np.int16(3790), np.int16(3791), np.int16(3792), np.int16(3793), np.int16(3794), np.int16(3795), np.int16(3796), np.int16(3797), np.int16(3798), np.int16(3799), np.int16(3800), np.int16(3801), np.int16(3802), np.int16(3803), np.int16(3804), np.int16(3805), np.int16(3806), np.int16(3807), np.int16(3808), np.int16(3809), np.int16(3810), np.int16(3811), np.int16(3812), np.int16(3813), np.int16(3814), np.int16(3815), np.int16(3816), np.int16(3817), np.int16(3818), np.int16(3819), np.int16(3820), np.int16(3821), np.int16(3822), np.int16(3823), np.int16(3824), np.int16(3825), np.int16(3826), np.int16(3827), np.int16(3828), np.int16(3829), np.int16(3830), np.int16(3831), np.int16(3832), np.int16(3833), np.int16(3834), np.int16(3835), np.int16(3836), np.int16(3837), np.int16(3838), np.int16(3839), np.int16(3840), np.int16(3841), np.int16(3842), np.int16(3843), np.int16(3844), np.int16(3845), np.int16(3846), np.int16(3847), np.int16(3848), np.int16(3849), np.int16(3850), np.int16(3851), np.int16(3852), np.int16(3853), np.int16(3854), np.int16(3855), np.int16(3856), np.int16(3857), np.int16(3858), np.int16(3859), np.int16(3860), np.int16(3861), np.int16(3862), np.int16(3863), np.int16(3864), np.int16(3865), np.int16(3866), np.int16(3867), np.int16(3868), np.int16(3869), np.int16(3870), np.int16(3871), np.int16(3872), np.int16(3873), np.int16(3874), np.int16(3875), np.int16(3876), np.int16(3877), np.int16(3878), np.int16(3879), np.int16(3880), np.int16(3881), np.int16(3882), np.int16(3883), np.int16(3884), np.int16(3885), np.int16(3886), np.int16(3887), np.int16(3888), np.int16(3889), np.int16(3890), np.int16(3891), np.int16(3892), np.int16(3893), np.int16(3894), np.int16(3895), np.int16(3896), np.int16(3897), np.int16(3898), np.int16(3899), np.int16(3900), np.int16(3901), np.int16(3902), np.int16(3903), np.int16(3904), np.int16(3905), np.int16(3906), np.int16(3907), np.int16(3908), np.int16(3909), np.int16(3910), np.int16(3911), np.int16(3912), np.int16(3913), np.int16(3914), np.int16(3915), np.int16(3916), np.int16(3917), np.int16(3918), np.int16(3919), np.int16(3920), np.int16(3921), np.int16(3922), np.int16(3923), np.int16(3924), np.int16(3925), np.int16(3926), np.int16(3927), np.int16(3928), np.int16(3929), np.int16(3930), np.int16(3931), np.int16(3932), np.int16(3933), np.int16(3934), np.int16(3935), np.int16(3936), np.int16(3937), np.int16(3938), np.int16(3939), np.int16(3940), np.int16(3941), np.int16(3942), np.int16(3943), np.int16(3944), np.int16(3945), np.int16(3946), np.int16(3947), np.int16(3948), np.int16(3949), np.int16(3950), np.int16(3951), np.int16(3952), np.int16(3953), np.int16(3954), np.int16(3955), np.int16(3956), np.int16(3957), np.int16(3958), np.int16(3959), np.int16(3960), np.int16(3961), np.int16(3962), np.int16(3963), np.int16(3964), np.int16(3965), np.int16(3966), np.int16(3967), np.int16(3968), np.int16(3969), np.int16(3970), np.int16(3971), np.int16(3972), np.int16(3973), np.int16(3974), np.int16(3975), np.int16(3976), np.int16(3977), np.int16(3978), np.int16(3979), np.int16(3980), np.int16(3981), np.int16(3982), np.int16(3983), np.int16(3984), np.int16(3985), np.int16(3986), np.int16(3987), np.int16(3988), np.int16(3989), np.int16(3990), np.int16(3991), np.int16(3992), np.int16(3993), np.int16(3994), np.int16(3995), np.int16(3996), np.int16(3997), np.int16(3998), np.int16(3999), np.int16(4000), np.int16(4001), np.int16(4002), np.int16(4003), np.int16(4004), np.int16(4005), np.int16(4006), np.int16(4007), np.int16(4008), np.int16(4009), np.int16(4010), np.int16(4011), np.int16(4012), np.int16(4013), np.int16(4014), np.int16(4015), np.int16(4016), np.int16(4017), np.int16(4018), np.int16(4019), np.int16(4020), np.int16(4021), np.int16(4022), np.int16(4023), np.int16(4024), np.int16(4025), np.int16(4026), np.int16(4027), np.int16(4028), np.int16(4029), np.int16(4030), np.int16(4031), np.int16(4032), np.int16(4033), np.int16(4034), np.int16(4035), np.int16(4036), np.int16(4037), np.int16(4038), np.int16(4039), np.int16(4040), np.int16(4041), np.int16(4042), np.int16(4043), np.int16(4044), np.int16(4045), np.int16(4046), np.int16(4047), np.int16(4048), np.int16(4049), np.int16(4050), np.int16(4051), np.int16(4052), np.int16(4053), np.int16(4054), np.int16(4055), np.int16(4056), np.int16(4057), np.int16(4058), np.int16(4059), np.int16(4060), np.int16(4061), np.int16(4062), np.int16(4063), np.int16(4064), np.int16(4065), np.int16(4066), np.int16(4067), np.int16(4068), np.int16(4069), np.int16(4070), np.int16(4071), np.int16(4072), np.int16(4073), np.int16(4074), np.int16(4075), np.int16(4076), np.int16(4077), np.int16(4078), np.int16(4079), np.int16(4080), np.int16(4081), np.int16(4082), np.int16(4083), np.int16(4084), np.int16(4085), np.int16(4086), np.int16(4087), np.int16(4088), np.int16(4089), np.int16(4090), np.int16(4091), np.int16(4092), np.int16(4093), np.int16(4094), np.int16(4095), np.int16(4096), np.int16(4097), np.int16(4098), np.int16(4099), np.int16(4100), np.int16(4101), np.int16(4102), np.int16(4103), np.int16(4104), np.int16(4105), np.int16(4106), np.int16(4107), np.int16(4108), np.int16(4109), np.int16(4110), np.int16(4111), np.int16(4112), np.int16(4113), np.int16(4114), np.int16(4115), np.int16(4116), np.int16(4117), np.int16(4118), np.int16(4119), np.int16(4120), np.int16(4121), np.int16(4122), np.int16(4123), np.int16(4124), np.int16(4125), np.int16(4126), np.int16(4127), np.int16(4128), np.int16(4129), np.int16(4130), np.int16(4131), np.int16(4132), np.int16(4133), np.int16(4134), np.int16(4135), np.int16(4136), np.int16(4137), np.int16(4138), np.int16(4139), np.int16(4140), np.int16(4141), np.int16(4142), np.int16(4143), np.int16(4144), np.int16(4145), np.int16(4146), np.int16(4147), np.int16(4148), np.int16(4149), np.int16(4150), np.int16(4151), np.int16(4152), np.int16(4153), np.int16(4154), np.int16(4155), np.int16(4156), np.int16(4157), np.int16(4158), np.int16(4159), np.int16(4160), np.int16(4161), np.int16(4162), np.int16(4163), np.int16(4164), np.int16(4165), np.int16(4166), np.int16(4167), np.int16(4168), np.int16(4169), np.int16(4170), np.int16(4171), np.int16(4172), np.int16(4173), np.int16(4174), np.int16(4175), np.int16(4176), np.int16(4177), np.int16(4178), np.int16(4179), np.int16(4180), np.int16(4181), np.int16(4182), np.int16(4183), np.int16(4184), np.int16(4185), np.int16(4186), np.int16(4187), np.int16(4188), np.int16(4189), np.int16(4190), np.int16(4191), np.int16(4192), np.int16(4193), np.int16(4194), np.int16(4195), np.int16(4196), np.int16(4197), np.int16(4198), np.int16(4199), np.int16(4200), np.int16(4201), np.int16(4202), np.int16(4203), np.int16(4204), np.int16(4205), np.int16(4206), np.int16(4207), np.int16(4208), np.int16(4209), np.int16(4210), np.int16(4211), np.int16(4212), np.int16(4213), np.int16(4214), np.int16(4215), np.int16(4216), np.int16(4217), np.int16(4218), np.int16(4219), np.int16(4220), np.int16(4221), np.int16(4222), np.int16(4223), np.int16(4224), np.int16(4225), np.int16(4226), np.int16(4227), np.int16(4228), np.int16(4229), np.int16(4230), np.int16(4231), np.int16(4232), np.int16(4233), np.int16(4234), np.int16(4235), np.int16(4236), np.int16(4237), np.int16(4238), np.int16(4239), np.int16(4240), np.int16(4241), np.int16(4242), np.int16(4243), np.int16(4244), np.int16(4245), np.int16(4246), np.int16(4247), np.int16(4248), np.int16(4249), np.int16(4250), np.int16(4251), np.int16(4252), np.int16(4253), np.int16(4254), np.int16(4255), np.int16(4256), np.int16(4257), np.int16(4258), np.int16(4259), np.int16(4260), np.int16(4261), np.int16(4262), np.int16(4263), np.int16(4264), np.int16(4265), np.int16(4266), np.int16(4267), np.int16(4268), np.int16(4269), np.int16(4270), np.int16(4271), np.int16(4272), np.int16(4273), np.int16(4274), np.int16(4275), np.int16(4276), np.int16(4277), np.int16(4278), np.int16(4279), np.int16(4280), np.int16(4281), np.int16(4282), np.int16(4283), np.int16(4284), np.int16(4285), np.int16(4286), np.int16(4287), np.int16(4288), np.int16(4289), np.int16(4290), np.int16(4291), np.int16(4292), np.int16(4293), np.int16(4294), np.int16(4295), np.int16(4296), np.int16(4297), np.int16(4298), np.int16(4299), np.int16(4300), np.int16(4301), np.int16(4302), np.int16(4303), np.int16(4304), np.int16(4305), np.int16(4306), np.int16(4307), np.int16(4308), np.int16(4309), np.int16(4310), np.int16(4311), np.int16(4312), np.int16(4313), np.int16(4314), np.int16(4315), np.int16(4316), np.int16(4317), np.int16(4318), np.int16(4319), np.int16(4320), np.int16(4321), np.int16(4322), np.int16(4323), np.int16(4324), np.int16(4325), np.int16(4326), np.int16(4327), np.int16(4328), np.int16(4329), np.int16(4330), np.int16(4331), np.int16(4332), np.int16(4333), np.int16(4334), np.int16(4335), np.int16(4336), np.int16(4337), np.int16(4338), np.int16(4339), np.int16(4340), np.int16(4341), np.int16(4342), np.int16(4343), np.int16(4344), np.int16(4345), np.int16(4346), np.int16(4347), np.int16(4348), np.int16(4349), np.int16(4350), np.int16(4351), np.int16(4352), np.int16(4353), np.int16(4354), np.int16(4355), np.int16(4356), np.int16(4357), np.int16(4358), np.int16(4359), np.int16(4360), np.int16(4361), np.int16(4362), np.int16(4363), np.int16(4364), np.int16(4365), np.int16(4366), np.int16(4367), np.int16(4368), np.int16(4369), np.int16(4370), np.int16(4371), np.int16(4372), np.int16(4373), np.int16(4374), np.int16(4375), np.int16(4376), np.int16(4377), np.int16(4378), np.int16(4379), np.int16(4380), np.int16(4381), np.int16(4382), np.int16(4383), np.int16(4384), np.int16(4385), np.int16(4386), np.int16(4387), np.int16(4388), np.int16(4389), np.int16(4390), np.int16(4391), np.int16(4392), np.int16(4393), np.int16(4394), np.int16(4395), np.int16(4396), np.int16(4397), np.int16(4398), np.int16(4399), np.int16(4400), np.int16(4401), np.int16(4402), np.int16(4403), np.int16(4404), np.int16(4405), np.int16(4406), np.int16(4407), np.int16(4408), np.int16(4409), np.int16(4410), np.int16(4411), np.int16(4412), np.int16(4413), np.int16(4414), np.int16(4415), np.int16(4416), np.int16(4417), np.int16(4418), np.int16(4419), np.int16(4420), np.int16(4421), np.int16(4422), np.int16(4423), np.int16(4424), np.int16(4425), np.int16(4426), np.int16(4427), np.int16(4428), np.int16(4429), np.int16(4430), np.int16(4431), np.int16(4432), np.int16(4433), np.int16(4434), np.int16(4435), np.int16(4436), np.int16(4437), np.int16(4438), np.int16(4439), np.int16(4440), np.int16(4441), np.int16(4442), np.int16(4443), np.int16(4444), np.int16(4445), np.int16(4446), np.int16(4447), np.int16(4448), np.int16(4449), np.int16(4450), np.int16(4451), np.int16(4452), np.int16(4453), np.int16(4454), np.int16(4455), np.int16(4456), np.int16(4457), np.int16(4458), np.int16(4459), np.int16(4460), np.int16(4461), np.int16(4462), np.int16(4463), np.int16(4464), np.int16(4465), np.int16(4466), np.int16(4467), np.int16(4468), np.int16(4469), np.int16(4470), np.int16(4471), np.int16(4472), np.int16(4473), np.int16(4474), np.int16(4475), np.int16(4476), np.int16(4477), np.int16(4478), np.int16(4479), np.int16(4480), np.int16(4481), np.int16(4482), np.int16(4483), np.int16(4484), np.int16(4485), np.int16(4486), np.int16(4487), np.int16(4488), np.int16(4489), np.int16(4490), np.int16(4491), np.int16(4492), np.int16(4493), np.int16(4494), np.int16(4495), np.int16(4496), np.int16(4497), np.int16(4498), np.int16(4499), np.int16(4500), np.int16(4501), np.int16(4502), np.int16(4503), np.int16(4504), np.int16(4505), np.int16(4506), np.int16(4507), np.int16(4508), np.int16(4509), np.int16(4510), np.int16(4511), np.int16(4512), np.int16(4513), np.int16(4514), np.int16(4515), np.int16(4516), np.int16(4517), np.int16(4518), np.int16(4519), np.int16(4520), np.int16(4521), np.int16(4522), np.int16(4523), np.int16(4524), np.int16(4525), np.int16(4526), np.int16(4527), np.int16(4528), np.int16(4529), np.int16(4530), np.int16(4531), np.int16(4532), np.int16(4533), np.int16(4534), np.int16(4535), np.int16(4536), np.int16(4537), np.int16(4538), np.int16(4539), np.int16(4540), np.int16(4541), np.int16(4542), np.int16(4543), np.int16(4544), np.int16(4545), np.int16(4546), np.int16(4547), np.int16(4548), np.int16(4549), np.int16(4550), np.int16(4551), np.int16(4552), np.int16(4553), np.int16(4554), np.int16(4555), np.int16(4556), np.int16(4557), np.int16(4558), np.int16(4559), np.int16(4560), np.int16(4561), np.int16(4562), np.int16(4563), np.int16(4564), np.int16(4565), np.int16(4566), np.int16(4567), np.int16(4568), np.int16(4569), np.int16(4570), np.int16(4571), np.int16(4572), np.int16(4573), np.int16(4574), np.int16(4575), np.int16(4576), np.int16(4577), np.int16(4578), np.int16(4579), np.int16(4580), np.int16(4581), np.int16(4582), np.int16(4583), np.int16(4584), np.int16(4585), np.int16(4586), np.int16(4587), np.int16(4588), np.int16(4589), np.int16(4590), np.int16(4591), np.int16(4592), np.int16(4593), np.int16(4594), np.int16(4595), np.int16(4596), np.int16(4597), np.int16(4598), np.int16(4599), np.int16(4600), np.int16(4601), np.int16(4602), np.int16(4603), np.int16(4604), np.int16(4605), np.int16(4606), np.int16(4607), np.int16(4608), np.int16(4609), np.int16(4610), np.int16(4611), np.int16(4612), np.int16(4613), np.int16(4614), np.int16(4615), np.int16(4616), np.int16(4617), np.int16(4618), np.int16(4619), np.int16(4620), np.int16(4621), np.int16(4622), np.int16(4623), np.int16(4624), np.int16(4625), np.int16(4626), np.int16(4627), np.int16(4628), np.int16(4629), np.int16(4630), np.int16(4631), np.int16(4632), np.int16(4633), np.int16(4634), np.int16(4635), np.int16(4636), np.int16(4637), np.int16(4638), np.int16(4639), np.int16(4640), np.int16(4641), np.int16(4642), np.int16(4643), np.int16(4644), np.int16(4645), np.int16(4646), np.int16(4647), np.int16(4648), np.int16(4649), np.int16(4650), np.int16(4651), np.int16(4652), np.int16(4653), np.int16(4654), np.int16(4655), np.int16(4656), np.int16(4657), np.int16(4658), np.int16(4659), np.int16(4660), np.int16(4661), np.int16(4662), np.int16(4663), np.int16(4664), np.int16(4665), np.int16(4666), np.int16(4667), np.int16(4668), np.int16(4669), np.int16(4670), np.int16(4671), np.int16(4672), np.int16(4673), np.int16(4674), np.int16(4675), np.int16(4676), np.int16(4677), np.int16(4678), np.int16(4679), np.int16(4680), np.int16(4681), np.int16(4682), np.int16(4683), np.int16(4684), np.int16(4685), np.int16(4686), np.int16(4687), np.int16(4688), np.int16(4689), np.int16(4690), np.int16(4691), np.int16(4692), np.int16(4693), np.int16(4694), np.int16(4695), np.int16(4696), np.int16(4697), np.int16(4698), np.int16(4699), np.int16(4700), np.int16(4701), np.int16(4702), np.int16(4703), np.int16(4704), np.int16(4705), np.int16(4706), np.int16(4707), np.int16(4708), np.int16(4709), np.int16(4710), np.int16(4711), np.int16(4712), np.int16(4713), np.int16(4714), np.int16(4715), np.int16(4716), np.int16(4717), np.int16(4718), np.int16(4719), np.int16(4720), np.int16(4721), np.int16(4722), np.int16(4723), np.int16(4724), np.int16(4725), np.int16(4726), np.int16(4727), np.int16(4728), np.int16(4729), np.int16(4730), np.int16(4731), np.int16(4732), np.int16(4733), np.int16(4734), np.int16(4735), np.int16(4736), np.int16(4737), np.int16(4738), np.int16(4739), np.int16(4740), np.int16(4741), np.int16(4742), np.int16(4743), np.int16(4744), np.int16(4745), np.int16(4746), np.int16(4747), np.int16(4748), np.int16(4749), np.int16(4750), np.int16(4751), np.int16(4752), np.int16(4753), np.int16(4754), np.int16(4755), np.int16(4756), np.int16(4757), np.int16(4758), np.int16(4759), np.int16(4760), np.int16(4761), np.int16(4762), np.int16(4763), np.int16(4764), np.int16(4765), np.int16(4766), np.int16(4767), np.int16(4768), np.int16(4769), np.int16(4770), np.int16(4771), np.int16(4772), np.int16(4773), np.int16(4774), np.int16(4775), np.int16(4776), np.int16(4777), np.int16(4778), np.int16(4779), np.int16(4780), np.int16(4781), np.int16(4782), np.int16(4783), np.int16(4784), np.int16(4785), np.int16(4786), np.int16(4787), np.int16(4788), np.int16(4789), np.int16(4790), np.int16(4791), np.int16(4792), np.int16(4793), np.int16(4794), np.int16(4795), np.int16(4796), np.int16(4797), np.int16(4798), np.int16(4799), np.int16(4800), np.int16(4801), np.int16(4802), np.int16(4803), np.int16(4804), np.int16(4805), np.int16(4806), np.int16(4807), np.int16(4808), np.int16(4809), np.int16(4810), np.int16(4811), np.int16(4812), np.int16(4813), np.int16(4814), np.int16(4815), np.int16(4816), np.int16(4817), np.int16(4818), np.int16(4819), np.int16(4820), np.int16(4821), np.int16(4822), np.int16(4823), np.int16(4824), np.int16(4825), np.int16(4826), np.int16(4827), np.int16(4828), np.int16(4829), np.int16(4830), np.int16(4831), np.int16(4832), np.int16(4833), np.int16(4834), np.int16(4835), np.int16(4836), np.int16(4837), np.int16(4838), np.int16(4839), np.int16(4840), np.int16(4841), np.int16(4842), np.int16(4843), np.int16(4844), np.int16(4845), np.int16(4846), np.int16(4847), np.int16(4848), np.int16(4849), np.int16(4850), np.int16(4851), np.int16(4852), np.int16(4853), np.int16(4854), np.int16(4855), np.int16(4856), np.int16(4857), np.int16(4858), np.int16(4859), np.int16(4860), np.int16(4861), np.int16(4862), np.int16(4863), np.int16(4864), np.int16(4865), np.int16(4866), np.int16(4867), np.int16(4868), np.int16(4869), np.int16(4870), np.int16(4871), np.int16(4872), np.int16(4873), np.int16(4874), np.int16(4875), np.int16(4876), np.int16(4877), np.int16(4878), np.int16(4879), np.int16(4880), np.int16(4881), np.int16(4882), np.int16(4883), np.int16(4884), np.int16(4885), np.int16(4886), np.int16(4887), np.int16(4888), np.int16(4889), np.int16(4890), np.int16(4891), np.int16(4892), np.int16(4893), np.int16(4894), np.int16(4895), np.int16(4896), np.int16(4897), np.int16(4898), np.int16(4899), np.int16(4900), np.int16(4901), np.int16(4902), np.int16(4903), np.int16(4904), np.int16(4905), np.int16(4906), np.int16(4907), np.int16(4908), np.int16(4909), np.int16(4910), np.int16(4911), np.int16(4912), np.int16(4913), np.int16(4914), np.int16(4915), np.int16(4916), np.int16(4917), np.int16(4918), np.int16(4919), np.int16(4920), np.int16(4921), np.int16(4922), np.int16(4923), np.int16(4924), np.int16(4925), np.int16(4926), np.int16(4927), np.int16(4928), np.int16(4929), np.int16(4930), np.int16(4931), np.int16(4932), np.int16(4933), np.int16(4934), np.int16(4935), np.int16(4936), np.int16(4937), np.int16(4938), np.int16(4939), np.int16(4940), np.int16(4941), np.int16(4942), np.int16(4943), np.int16(4944), np.int16(4945), np.int16(4946), np.int16(4947), np.int16(4948), np.int16(4949), np.int16(4950), np.int16(4951), np.int16(4952), np.int16(4953), np.int16(4954), np.int16(4955), np.int16(4956), np.int16(4957), np.int16(4958), np.int16(4959), np.int16(4960), np.int16(4961), np.int16(4962), np.int16(4963), np.int16(4964), np.int16(4965), np.int16(4966), np.int16(4967), np.int16(4968), np.int16(4969), np.int16(4970), np.int16(4971), np.int16(4972), np.int16(4973), np.int16(4974), np.int16(4975), np.int16(4976), np.int16(4977), np.int16(4978), np.int16(4979), np.int16(4980), np.int16(4981), np.int16(4982), np.int16(4983), np.int16(4984), np.int16(4985), np.int16(4986), np.int16(4987), np.int16(4988), np.int16(4989), np.int16(4990), np.int16(4991), np.int16(4992), np.int16(4993), np.int16(4994), np.int16(4995), np.int16(4996), np.int16(4997), np.int16(4998), np.int16(4999), np.int16(5000), np.int16(5001), np.int16(5002), np.int16(5003), np.int16(5004), np.int16(5005), np.int16(5006), np.int16(5007), np.int16(5008), np.int16(5009), np.int16(5010), np.int16(5011), np.int16(5012), np.int16(5013), np.int16(5014), np.int16(5015), np.int16(5016), np.int16(5017), np.int16(5018), np.int16(5019), np.int16(5020), np.int16(5021), np.int16(5022), np.int16(5023), np.int16(5024), np.int16(5025), np.int16(5026), np.int16(5027), np.int16(5028), np.int16(5029), np.int16(5030), np.int16(5031), np.int16(5032), np.int16(5033), np.int16(5034), np.int16(5035), np.int16(5036), np.int16(5037), np.int16(5038), np.int16(5039), np.int16(5040), np.int16(5041), np.int16(5042), np.int16(5043), np.int16(5044), np.int16(5045), np.int16(5046), np.int16(5047), np.int16(5048), np.int16(5049), np.int16(5050), np.int16(5051), np.int16(5052), np.int16(5053), np.int16(5054), np.int16(5055), np.int16(5056), np.int16(5057), np.int16(5058), np.int16(5059), np.int16(5060), np.int16(5061), np.int16(5062), np.int16(5063), np.int16(5064), np.int16(5065), np.int16(5066), np.int16(5067), np.int16(5068), np.int16(5069), np.int16(5070), np.int16(5071), np.int16(5072), np.int16(5073), np.int16(5074), np.int16(5075), np.int16(5076), np.int16(5077), np.int16(5078), np.int16(5079), np.int16(5080), np.int16(5081), np.int16(5082), np.int16(5083), np.int16(5084), np.int16(5085), np.int16(5086), np.int16(5087), np.int16(5088), np.int16(5089), np.int16(5090), np.int16(5091), np.int16(5092), np.int16(5093), np.int16(5094), np.int16(5095), np.int16(5096), np.int16(5097), np.int16(5098), np.int16(5099), np.int16(5100), np.int16(5101), np.int16(5102), np.int16(5103), np.int16(5104), np.int16(5105), np.int16(5106), np.int16(5107), np.int16(5108), np.int16(5109), np.int16(5110), np.int16(5111), np.int16(5112), np.int16(5113), np.int16(5114), np.int16(5115), np.int16(5116), np.int16(5117), np.int16(5118), np.int16(5119), np.int16(5120), np.int16(5121), np.int16(5122), np.int16(5123), np.int16(5124), np.int16(5125), np.int16(5126), np.int16(5127), np.int16(5128), np.int16(5129), np.int16(5130), np.int16(5131), np.int16(5132), np.int16(5133), np.int16(5134), np.int16(5135), np.int16(5136), np.int16(5137), np.int16(5138), np.int16(5139), np.int16(5140), np.int16(5141), np.int16(5142), np.int16(5143), np.int16(5144), np.int16(5145), np.int16(5146), np.int16(5147), np.int16(5148), np.int16(5149), np.int16(5150), np.int16(5151), np.int16(5152), np.int16(5153), np.int16(5154), np.int16(5155), np.int16(5156), np.int16(5157), np.int16(5158), np.int16(5159), np.int16(5160), np.int16(5161), np.int16(5162), np.int16(5163), np.int16(5164), np.int16(5165), np.int16(5166), np.int16(5167), np.int16(5168), np.int16(5169), np.int16(5170), np.int16(5171), np.int16(5172), np.int16(5173), np.int16(5174), np.int16(5175), np.int16(5176), np.int16(5177), np.int16(5178), np.int16(5179), np.int16(5180), np.int16(5181), np.int16(5182), np.int16(5183), np.int16(5184), np.int16(5185), np.int16(5186), np.int16(5187), np.int16(5188), np.int16(5189), np.int16(5190), np.int16(5191), np.int16(5192), np.int16(5193), np.int16(5194), np.int16(5195), np.int16(5196), np.int16(5197), np.int16(5198), np.int16(5199), np.int16(5200), np.int16(5201), np.int16(5202), np.int16(5203), np.int16(5204), np.int16(5205), np.int16(5206), np.int16(5207), np.int16(5208), np.int16(5209), np.int16(5210), np.int16(5211), np.int16(5212), np.int16(5213), np.int16(5214), np.int16(5215), np.int16(5216), np.int16(5217), np.int16(5218), np.int16(5219), np.int16(5220), np.int16(5221), np.int16(5222), np.int16(5223), np.int16(5224), np.int16(5225), np.int16(5226), np.int16(5227), np.int16(5228), np.int16(5229), np.int16(5230), np.int16(5231), np.int16(5232), np.int16(5233), np.int16(5234), np.int16(5235), np.int16(5236), np.int16(5237), np.int16(5238), np.int16(5239), np.int16(5240), np.int16(5241), np.int16(5242), np.int16(5243), np.int16(5244), np.int16(5245), np.int16(5246), np.int16(5247), np.int16(5248), np.int16(5249), np.int16(5250), np.int16(5251), np.int16(5252), np.int16(5253), np.int16(5254), np.int16(5255), np.int16(5256), np.int16(5257), np.int16(5258), np.int16(5259), np.int16(5260), np.int16(5261), np.int16(5262), np.int16(5263), np.int16(5264), np.int16(5265), np.int16(5266), np.int16(5267), np.int16(5268), np.int16(5269), np.int16(5270), np.int16(5271), np.int16(5272), np.int16(5273), np.int16(5274), np.int16(5275), np.int16(5276), np.int16(5277), np.int16(5278), np.int16(5279), np.int16(5280), np.int16(5281), np.int16(5282), np.int16(5283), np.int16(5284), np.int16(5285), np.int16(5286), np.int16(5287), np.int16(5288), np.int16(5289), np.int16(5290), np.int16(5291), np.int16(5292), np.int16(5293), np.int16(5294), np.int16(5295), np.int16(5296), np.int16(5297), np.int16(5298), np.int16(5299), np.int16(5300), np.int16(5301), np.int16(5302), np.int16(5303), np.int16(5304), np.int16(5305), np.int16(5306), np.int16(5307), np.int16(5308), np.int16(5309), np.int16(5310), np.int16(5311), np.int16(5312), np.int16(5313), np.int16(5314), np.int16(5315), np.int16(5316), np.int16(5317), np.int16(5318), np.int16(5319), np.int16(5320), np.int16(5321), np.int16(5322), np.int16(5323), np.int16(5324), np.int16(5325), np.int16(5326), np.int16(5327), np.int16(5328), np.int16(5329), np.int16(5330), np.int16(5331), np.int16(5332), np.int16(5333), np.int16(5334), np.int16(5335), np.int16(5336), np.int16(5337), np.int16(5338), np.int16(5339), np.int16(5340), np.int16(5341), np.int16(5342), np.int16(5343), np.int16(5344), np.int16(5345), np.int16(5346), np.int16(5347), np.int16(5348), np.int16(5349), np.int16(5350), np.int16(5351), np.int16(5352), np.int16(5353), np.int16(5354), np.int16(5355), np.int16(5356), np.int16(5357), np.int16(5358), np.int16(5359), np.int16(5360), np.int16(5361), np.int16(5362), np.int16(5363), np.int16(5364), np.int16(5365), np.int16(5366), np.int16(5367), np.int16(5368), np.int16(5369), np.int16(5370), np.int16(5371), np.int16(5372), np.int16(5373), np.int16(5374), np.int16(5375), np.int16(5376), np.int16(5377), np.int16(5378), np.int16(5379), np.int16(5380), np.int16(5381), np.int16(5382), np.int16(5383), np.int16(5384), np.int16(5385), np.int16(5386), np.int16(5387), np.int16(5388), np.int16(5389), np.int16(5390), np.int16(5391), np.int16(5392), np.int16(5393), np.int16(5394), np.int16(5395), np.int16(5396), np.int16(5397), np.int16(5398), np.int16(5399), np.int16(5400), np.int16(5401), np.int16(5402), np.int16(5403), np.int16(5404), np.int16(5405), np.int16(5406), np.int16(5407), np.int16(5408), np.int16(5409), np.int16(5410), np.int16(5411), np.int16(5412), np.int16(5413), np.int16(5414), np.int16(5415), np.int16(5416), np.int16(5417), np.int16(5418), np.int16(5419), np.int16(5420), np.int16(5421), np.int16(5422), np.int16(5423), np.int16(5424), np.int16(5425), np.int16(5426), np.int16(5427), np.int16(5428), np.int16(5429), np.int16(5430), np.int16(5431), np.int16(5432), np.int16(5433), np.int16(5434), np.int16(5435), np.int16(5436), np.int16(5437), np.int16(5438), np.int16(5439), np.int16(5440), np.int16(5441), np.int16(5442), np.int16(5443), np.int16(5444), np.int16(5445), np.int16(5446), np.int16(5447), np.int16(5448), np.int16(5449), np.int16(5450), np.int16(5451), np.int16(5452), np.int16(5453), np.int16(5454), np.int16(5455), np.int16(5456), np.int16(5457), np.int16(5458), np.int16(5459), np.int16(5460), np.int16(5461), np.int16(5462), np.int16(5463), np.int16(5464), np.int16(5465), np.int16(5466), np.int16(5467), np.int16(5468), np.int16(5469), np.int16(5470), np.int16(5471), np.int16(5472), np.int16(5473), np.int16(5474), np.int16(5475), np.int16(5476), np.int16(5477), np.int16(5478), np.int16(5479), np.int16(5480), np.int16(5481), np.int16(5482), np.int16(5483), np.int16(5484), np.int16(5485), np.int16(5486), np.int16(5487), np.int16(5488), np.int16(5489), np.int16(5490), np.int16(5491), np.int16(5492), np.int16(5493), np.int16(5494), np.int16(5495), np.int16(5496), np.int16(5497), np.int16(5498), np.int16(5499), np.int16(5500), np.int16(5501), np.int16(5502), np.int16(5503), np.int16(5504), np.int16(5505), np.int16(5506), np.int16(5507), np.int16(5508), np.int16(5509), np.int16(5510), np.int16(5511), np.int16(5512), np.int16(5513), np.int16(5514), np.int16(5515), np.int16(5516), np.int16(5517), np.int16(5518), np.int16(5519), np.int16(5520), np.int16(5521), np.int16(5522), np.int16(5523), np.int16(5524), np.int16(5525), np.int16(5526), np.int16(5527), np.int16(5528), np.int16(5529), np.int16(5530), np.int16(5531), np.int16(5532), np.int16(5533), np.int16(5534), np.int16(5535), np.int16(5536), np.int16(5537), np.int16(5538), np.int16(5539), np.int16(5540), np.int16(5541), np.int16(5542), np.int16(5543), np.int16(5544), np.int16(5545), np.int16(5546), np.int16(5547), np.int16(5548), np.int16(5549), np.int16(5550), np.int16(5551), np.int16(5552), np.int16(5553), np.int16(5554), np.int16(5555), np.int16(5556), np.int16(5557), np.int16(5558), np.int16(5559), np.int16(5560), np.int16(5561), np.int16(5562), np.int16(5563), np.int16(5564), np.int16(5565), np.int16(5566), np.int16(5567), np.int16(5568), np.int16(5569), np.int16(5570), np.int16(5571), np.int16(5572), np.int16(5573), np.int16(5574), np.int16(5575), np.int16(5576), np.int16(5577), np.int16(5578), np.int16(5579), np.int16(5580), np.int16(5581), np.int16(5582), np.int16(5583), np.int16(5584), np.int16(5585), np.int16(5586), np.int16(5587), np.int16(5588), np.int16(5589), np.int16(5590), np.int16(5591), np.int16(5592), np.int16(5593), np.int16(5594), np.int16(5595), np.int16(5596), np.int16(5597), np.int16(5598), np.int16(5599), np.int16(5600), np.int16(5601), np.int16(5602), np.int16(5603), np.int16(5604), np.int16(5605), np.int16(5606), np.int16(5607), np.int16(5608), np.int16(5609), np.int16(5610), np.int16(5611), np.int16(5612), np.int16(5613), np.int16(5614), np.int16(5615), np.int16(5616), np.int16(5617), np.int16(5618), np.int16(5619), np.int16(5620), np.int16(5621), np.int16(5622), np.int16(5623), np.int16(5624), np.int16(5625), np.int16(5626), np.int16(5627), np.int16(5628), np.int16(5629), np.int16(5630), np.int16(5631), np.int16(5632), np.int16(5633), np.int16(5634), np.int16(5635), np.int16(5636), np.int16(5637), np.int16(5638), np.int16(5639), np.int16(5640), np.int16(5641), np.int16(5642), np.int16(5643), np.int16(5644), np.int16(5645), np.int16(5646), np.int16(5647), np.int16(5648), np.int16(5649), np.int16(5650), np.int16(5651), np.int16(5652), np.int16(5653), np.int16(5654), np.int16(5655), np.int16(5656), np.int16(5657), np.int16(5658), np.int16(5659), np.int16(5660), np.int16(5661), np.int16(5662), np.int16(5663), np.int16(5664), np.int16(5665), np.int16(5666), np.int16(5667), np.int16(5668), np.int16(5669), np.int16(5670), np.int16(5671), np.int16(5672), np.int16(5673), np.int16(5674), np.int16(5675), np.int16(5676), np.int16(5677), np.int16(5678), np.int16(5679), np.int16(5680), np.int16(5681), np.int16(5682), np.int16(5683), np.int16(5684), np.int16(5685), np.int16(5686), np.int16(5687), np.int16(5688), np.int16(5689), np.int16(5690), np.int16(5691), np.int16(5692), np.int16(5693), np.int16(5694), np.int16(5695), np.int16(5696), np.int16(5697), np.int16(5698), np.int16(5699), np.int16(5700), np.int16(5701), np.int16(5702), np.int16(5703), np.int16(5704), np.int16(5705), np.int16(5706), np.int16(5707), np.int16(5708), np.int16(5709), np.int16(5710), np.int16(5711), np.int16(5712), np.int16(5713), np.int16(5714), np.int16(5715), np.int16(5716), np.int16(5717), np.int16(5718), np.int16(5719), np.int16(5720), np.int16(5721), np.int16(5722), np.int16(5723), np.int16(5724), np.int16(5725), np.int16(5726), np.int16(5727), np.int16(5728), np.int16(5729), np.int16(5730), np.int16(5731), np.int16(5732), np.int16(5733), np.int16(5734), np.int16(5735), np.int16(5736), np.int16(5737), np.int16(5738), np.int16(5739), np.int16(5740), np.int16(5741), np.int16(5742), np.int16(5743), np.int16(5744), np.int16(5745), np.int16(5746), np.int16(5747), np.int16(5748), np.int16(5749), np.int16(5750), np.int16(5751), np.int16(5752), np.int16(5753), np.int16(5754), np.int16(5755), np.int16(5756), np.int16(5757), np.int16(5758), np.int16(5759), np.int16(5760), np.int16(5761), np.int16(5762), np.int16(5763), np.int16(5764), np.int16(5765), np.int16(5766), np.int16(5767), np.int16(5768), np.int16(5769), np.int16(5770), np.int16(5771), np.int16(5772), np.int16(5773), np.int16(5774), np.int16(5775), np.int16(5776), np.int16(5777), np.int16(5778), np.int16(5779), np.int16(5780), np.int16(5781), np.int16(5782), np.int16(5783), np.int16(5784), np.int16(5785), np.int16(5786), np.int16(5787), np.int16(5788), np.int16(5789), np.int16(5790), np.int16(5791), np.int16(5792), np.int16(5793), np.int16(5794), np.int16(5795), np.int16(5796), np.int16(5797), np.int16(5798), np.int16(5799), np.int16(5800), np.int16(5801), np.int16(5802), np.int16(5803), np.int16(5804), np.int16(5805), np.int16(5806), np.int16(5807), np.int16(5808), np.int16(5809), np.int16(5810), np.int16(5811), np.int16(5812), np.int16(5813), np.int16(5814), np.int16(5815), np.int16(5816), np.int16(5817), np.int16(5818), np.int16(5819), np.int16(5820), np.int16(5821), np.int16(5822), np.int16(5823), np.int16(5824), np.int16(5825), np.int16(5826), np.int16(5827), np.int16(5828), np.int16(5829), np.int16(5830), np.int16(5831), np.int16(5832), np.int16(5833), np.int16(5834), np.int16(5835), np.int16(5836), np.int16(5837), np.int16(5838), np.int16(5839), np.int16(5840), np.int16(5841), np.int16(5842), np.int16(5843), np.int16(5844), np.int16(5845), np.int16(5846), np.int16(5847), np.int16(5848), np.int16(5849), np.int16(5850), np.int16(5851), np.int16(5852), np.int16(5853), np.int16(5854), np.int16(5855), np.int16(5856), np.int16(5857), np.int16(5858), np.int16(5859), np.int16(5860), np.int16(5861), np.int16(5862), np.int16(5863), np.int16(5864), np.int16(5865), np.int16(5866), np.int16(5867), np.int16(5868), np.int16(5869), np.int16(5870), np.int16(5871), np.int16(5872), np.int16(5873), np.int16(5874), np.int16(5875), np.int16(5876), np.int16(5877), np.int16(5878), np.int16(5879), np.int16(5880), np.int16(5881), np.int16(5882), np.int16(5883), np.int16(5884), np.int16(5885), np.int16(5886), np.int16(5887), np.int16(5888), np.int16(5889), np.int16(5890), np.int16(5891), np.int16(5892), np.int16(5893), np.int16(5894), np.int16(5895), np.int16(5896), np.int16(5897), np.int16(5898), np.int16(5899), np.int16(5900), np.int16(5901), np.int16(5902), np.int16(5903), np.int16(5904), np.int16(5905), np.int16(5906), np.int16(5907), np.int16(5908), np.int16(5909), np.int16(5910), np.int16(5911), np.int16(5912), np.int16(5913), np.int16(5914), np.int16(5915), np.int16(5916), np.int16(5917), np.int16(5918), np.int16(5919), np.int16(5920), np.int16(5921), np.int16(5922), np.int16(5923), np.int16(5924), np.int16(5925), np.int16(5926), np.int16(5927), np.int16(5928), np.int16(5929), np.int16(5930), np.int16(5931), np.int16(5932), np.int16(5933), np.int16(5934), np.int16(5935), np.int16(5936), np.int16(5937), np.int16(5938), np.int16(5939), np.int16(5940), np.int16(5941), np.int16(5942), np.int16(5943), np.int16(5944), np.int16(5945), np.int16(5946), np.int16(5947), np.int16(5948), np.int16(5949), np.int16(5950), np.int16(5951), np.int16(5952), np.int16(5953), np.int16(5954), np.int16(5955), np.int16(5956), np.int16(5957), np.int16(5958), np.int16(5959), np.int16(5960), np.int16(5961), np.int16(5962), np.int16(5963), np.int16(5964), np.int16(5965), np.int16(5966), np.int16(5967), np.int16(5968), np.int16(5969), np.int16(5970), np.int16(5971), np.int16(5972), np.int16(5973), np.int16(5974), np.int16(5975), np.int16(5976), np.int16(5977), np.int16(5978), np.int16(5979), np.int16(5980), np.int16(5981), np.int16(5982), np.int16(5983), np.int16(5984), np.int16(5985), np.int16(5986), np.int16(5987), np.int16(5988), np.int16(5989), np.int16(5990), np.int16(5991), np.int16(5992), np.int16(5993), np.int16(5994), np.int16(5995), np.int16(5996), np.int16(5997), np.int16(5998), np.int16(5999), np.int16(6000), np.int16(6001), np.int16(6002), np.int16(6003), np.int16(6004), np.int16(6005), np.int16(6006), np.int16(6007), np.int16(6008), np.int16(6009), np.int16(6010), np.int16(6011), np.int16(6012), np.int16(6013), np.int16(6014), np.int16(6015), np.int16(6016), np.int16(6017), np.int16(6018), np.int16(6019), np.int16(6020), np.int16(6021), np.int16(6022), np.int16(6023), np.int16(6024), np.int16(6025), np.int16(6026), np.int16(6027), np.int16(6028), np.int16(6029), np.int16(6030), np.int16(6031), np.int16(6032), np.int16(6033), np.int16(6034), np.int16(6035), np.int16(6036), np.int16(6037), np.int16(6038), np.int16(6039), np.int16(6040), np.int16(6041), np.int16(6042), np.int16(6043), np.int16(6044), np.int16(6045), np.int16(6046), np.int16(6047), np.int16(6048), np.int16(6049), np.int16(6050), np.int16(6051), np.int16(6052), np.int16(6053), np.int16(6054), np.int16(6055), np.int16(6056), np.int16(6057), np.int16(6058), np.int16(6059), np.int16(6060), np.int16(6061), np.int16(6062), np.int16(6063), np.int16(6064), np.int16(6065), np.int16(6066), np.int16(6067), np.int16(6068), np.int16(6069), np.int16(6070), np.int16(6071), np.int16(6072), np.int16(6073), np.int16(6074), np.int16(6075), np.int16(6076), np.int16(6077), np.int16(6078), np.int16(6079), np.int16(6080), np.int16(6081), np.int16(6082), np.int16(6083), np.int16(6084), np.int16(6085), np.int16(6086), np.int16(6087), np.int16(6088), np.int16(6089), np.int16(6090), np.int16(6091), np.int16(6092), np.int16(6093), np.int16(6094), np.int16(6095), np.int16(6096), np.int16(6097), np.int16(6098), np.int16(6099), np.int16(6100), np.int16(6101), np.int16(6102), np.int16(6103), np.int16(6104), np.int16(6105), np.int16(6106), np.int16(6107), np.int16(6108), np.int16(6109), np.int16(6110), np.int16(6111), np.int16(6112), np.int16(6113), np.int16(6114), np.int16(6115), np.int16(6116), np.int16(6117), np.int16(6118), np.int16(6119), np.int16(6120), np.int16(6121), np.int16(6122), np.int16(6123), np.int16(6124), np.int16(6125), np.int16(6126), np.int16(6127), np.int16(6128), np.int16(6129), np.int16(6130), np.int16(6131), np.int16(6132), np.int16(6133), np.int16(6134), np.int16(6135), np.int16(6136), np.int16(6137), np.int16(6138), np.int16(6139), np.int16(6140), np.int16(6141), np.int16(6142), np.int16(6143), np.int16(6144), np.int16(6145), np.int16(6146), np.int16(6147), np.int16(6148), np.int16(6149), np.int16(6150), np.int16(6151), np.int16(6152), np.int16(6153), np.int16(6154), np.int16(6155), np.int16(6156), np.int16(6157), np.int16(6158), np.int16(6159), np.int16(6160), np.int16(6161), np.int16(6162), np.int16(6163), np.int16(6164), np.int16(6165), np.int16(6166), np.int16(6167), np.int16(6168), np.int16(6169), np.int16(6170), np.int16(6171), np.int16(6172), np.int16(6173), np.int16(6174), np.int16(6175), np.int16(6176), np.int16(6177), np.int16(6178), np.int16(6179), np.int16(6180), np.int16(6181), np.int16(6182), np.int16(6183), np.int16(6184), np.int16(6185), np.int16(6186), np.int16(6187), np.int16(6188), np.int16(6189), np.int16(6190), np.int16(6191), np.int16(6192), np.int16(6193), np.int16(6194), np.int16(6195), np.int16(6196), np.int16(6197), np.int16(6198), np.int16(6199), np.int16(6200), np.int16(6201), np.int16(6202), np.int16(6203), np.int16(6204), np.int16(6205), np.int16(6206), np.int16(6207), np.int16(6208), np.int16(6209), np.int16(6210), np.int16(6211), np.int16(6212), np.int16(6213), np.int16(6214), np.int16(6215), np.int16(6216), np.int16(6217), np.int16(6218), np.int16(6219), np.int16(6220), np.int16(6221), np.int16(6222), np.int16(6223), np.int16(6224), np.int16(6225), np.int16(6226), np.int16(6227), np.int16(6228), np.int16(6229), np.int16(6230), np.int16(6231), np.int16(6232), np.int16(6233), np.int16(6234), np.int16(6235), np.int16(6236), np.int16(6237), np.int16(6238), np.int16(6239), np.int16(6240), np.int16(6241), np.int16(6242), np.int16(6243), np.int16(6244), np.int16(6245), np.int16(6246), np.int16(6247), np.int16(6248), np.int16(6249), np.int16(6250), np.int16(6251), np.int16(6252), np.int16(6253), np.int16(6254), np.int16(6255), np.int16(6256), np.int16(6257), np.int16(6258), np.int16(6259), np.int16(6260), np.int16(6261), np.int16(6262), np.int16(6263), np.int16(6264), np.int16(6265), np.int16(6266), np.int16(6267), np.int16(6268), np.int16(6269), np.int16(6270), np.int16(6271), np.int16(6272), np.int16(6273), np.int16(6274), np.int16(6275), np.int16(6276), np.int16(6277), np.int16(6278), np.int16(6279), np.int16(6280), np.int16(6281), np.int16(6282), np.int16(6283), np.int16(6284), np.int16(6285), np.int16(6286), np.int16(6287), np.int16(6288), np.int16(6289), np.int16(6290), np.int16(6291), np.int16(6292), np.int16(6293), np.int16(6294), np.int16(6295), np.int16(6296), np.int16(6297), np.int16(6298), np.int16(6299), np.int16(6300), np.int16(6301), np.int16(6302), np.int16(6303), np.int16(6304), np.int16(6305), np.int16(6306), np.int16(6307), np.int16(6308), np.int16(6309), np.int16(6310), np.int16(6311), np.int16(6312), np.int16(6313), np.int16(6314), np.int16(6315), np.int16(6316), np.int16(6317), np.int16(6318), np.int16(6319), np.int16(6320), np.int16(6321), np.int16(6322), np.int16(6323), np.int16(6324), np.int16(6325), np.int16(6326), np.int16(6327), np.int16(6328), np.int16(6329), np.int16(6330), np.int16(6331), np.int16(6332), np.int16(6333), np.int16(6334), np.int16(6335), np.int16(6336), np.int16(6337), np.int16(6338), np.int16(6339), np.int16(6340), np.int16(6341), np.int16(6342), np.int16(6343), np.int16(6344), np.int16(6345), np.int16(6346), np.int16(6347), np.int16(6348), np.int16(6349), np.int16(6350), np.int16(6351), np.int16(6352), np.int16(6353), np.int16(6354), np.int16(6355), np.int16(6356), np.int16(6357), np.int16(6358), np.int16(6359), np.int16(6360), np.int16(6361), np.int16(6362), np.int16(6363), np.int16(6364), np.int16(6365), np.int16(6366), np.int16(6367), np.int16(6368), np.int16(6369), np.int16(6370), np.int16(6371), np.int16(6372), np.int16(6373), np.int16(6374), np.int16(6375), np.int16(6376), np.int16(6377), np.int16(6378), np.int16(6379), np.int16(6380), np.int16(6381), np.int16(6382), np.int16(6383), np.int16(6384), np.int16(6385), np.int16(6386), np.int16(6387), np.int16(6388), np.int16(6389), np.int16(6390), np.int16(6391), np.int16(6392), np.int16(6393), np.int16(6394), np.int16(6395), np.int16(6396), np.int16(6397), np.int16(6398), np.int16(6399), np.int16(6400), np.int16(6401), np.int16(6402), np.int16(6403), np.int16(6404), np.int16(6405), np.int16(6406), np.int16(6407), np.int16(6408), np.int16(6409), np.int16(6410), np.int16(6411), np.int16(6412), np.int16(6413), np.int16(6414), np.int16(6415), np.int16(6416), np.int16(6417), np.int16(6418), np.int16(6419), np.int16(6420), np.int16(6421), np.int16(6422), np.int16(6423), np.int16(6424), np.int16(6425), np.int16(6426), np.int16(6427), np.int16(6428), np.int16(6429), np.int16(6430), np.int16(6431), np.int16(6432), np.int16(6433), np.int16(6434), np.int16(6435), np.int16(6436), np.int16(6437), np.int16(6438), np.int16(6439), np.int16(6440), np.int16(6441), np.int16(6442), np.int16(6443), np.int16(6444), np.int16(6445), np.int16(6446), np.int16(6447), np.int16(6448), np.int16(6449), np.int16(6450), np.int16(6451), np.int16(6452), np.int16(6453), np.int16(6454), np.int16(6455), np.int16(6456), np.int16(6457), np.int16(6458), np.int16(6459), np.int16(6460), np.int16(6461), np.int16(6462), np.int16(6463), np.int16(6464), np.int16(6465), np.int16(6466), np.int16(6467), np.int16(6468), np.int16(6469), np.int16(6470), np.int16(6471), np.int16(6472), np.int16(6473), np.int16(6474), np.int16(6475), np.int16(6476), np.int16(6477), np.int16(6478), np.int16(6479), np.int16(6480), np.int16(6481), np.int16(6482), np.int16(6483), np.int16(6484), np.int16(6485), np.int16(6486), np.int16(6487), np.int16(6488), np.int16(6489), np.int16(6490), np.int16(6491), np.int16(6492), np.int16(6493), np.int16(6494), np.int16(6495), np.int16(6496), np.int16(6497), np.int16(6498), np.int16(6499), np.int16(6500), np.int16(6501), np.int16(6502), np.int16(6503), np.int16(6504), np.int16(6505), np.int16(6506), np.int16(6507), np.int16(6508), np.int16(6509), np.int16(6510), np.int16(6511), np.int16(6512), np.int16(6513), np.int16(6514), np.int16(6515), np.int16(6516), np.int16(6517), np.int16(6518), np.int16(6519), np.int16(6520), np.int16(6521), np.int16(6522), np.int16(6523), np.int16(6524), np.int16(6525), np.int16(6526), np.int16(6527), np.int16(6528), np.int16(6529), np.int16(6530), np.int16(6531), np.int16(6532), np.int16(6533), np.int16(6534), np.int16(6535), np.int16(6536), np.int16(6537), np.int16(6538), np.int16(6539), np.int16(6540), np.int16(6541), np.int16(6542), np.int16(6543), np.int16(6544), np.int16(6545), np.int16(6546), np.int16(6547), np.int16(6548), np.int16(6549), np.int16(6550), np.int16(6551), np.int16(6552), np.int16(6553), np.int16(6554), np.int16(6555), np.int16(6556), np.int16(6557), np.int16(6558), np.int16(6559), np.int16(6560), np.int16(6561), np.int16(6562), np.int16(6563), np.int16(6564), np.int16(6565), np.int16(6566), np.int16(6567), np.int16(6568), np.int16(6569), np.int16(6570), np.int16(6571), np.int16(6572), np.int16(6573), np.int16(6574), np.int16(6575), np.int16(6576), np.int16(6577), np.int16(6578), np.int16(6579), np.int16(6580), np.int16(6581), np.int16(6582), np.int16(6583), np.int16(6584), np.int16(6585), np.int16(6586), np.int16(6587), np.int16(6588), np.int16(6589), np.int16(6590), np.int16(6591), np.int16(6592), np.int16(6593), np.int16(6594), np.int16(6595), np.int16(6596), np.int16(6597), np.int16(6598), np.int16(6599), np.int16(6600), np.int16(6601), np.int16(6602), np.int16(6603), np.int16(6604), np.int16(6605), np.int16(6606), np.int16(6607), np.int16(6608), np.int16(6609), np.int16(6610), np.int16(6611), np.int16(6612), np.int16(6613), np.int16(6614), np.int16(6615), np.int16(6616), np.int16(6617), np.int16(6618), np.int16(6619), np.int16(6620), np.int16(6621), np.int16(6622), np.int16(6623), np.int16(6624), np.int16(6625), np.int16(6626), np.int16(6627), np.int16(6628), np.int16(6629), np.int16(6630), np.int16(6631), np.int16(6632), np.int16(6633), np.int16(6634), np.int16(6635), np.int16(6636), np.int16(6637), np.int16(6638), np.int16(6639), np.int16(6640), np.int16(6641), np.int16(6642), np.int16(6643), np.int16(6644), np.int16(6645), np.int16(6646), np.int16(6647), np.int16(6648), np.int16(6649), np.int16(6650), np.int16(6651), np.int16(6652), np.int16(6653), np.int16(6654), np.int16(6655), np.int16(6656), np.int16(6657), np.int16(6658), np.int16(6659), np.int16(6660), np.int16(6661), np.int16(6662), np.int16(6663), np.int16(6664), np.int16(6665), np.int16(6666), np.int16(6667), np.int16(6668), np.int16(6669), np.int16(6670), np.int16(6671), np.int16(6672), np.int16(6673), np.int16(6674), np.int16(6675), np.int16(6676), np.int16(6677), np.int16(6678), np.int16(6679), np.int16(6680), np.int16(6681), np.int16(6682), np.int16(6683), np.int16(6684), np.int16(6685), np.int16(6686), np.int16(6687), np.int16(6688), np.int16(6689), np.int16(6690), np.int16(6691), np.int16(6692), np.int16(6693), np.int16(6694), np.int16(6695), np.int16(6696), np.int16(6697), np.int16(6698), np.int16(6699), np.int16(6700), np.int16(6701), np.int16(6702), np.int16(6703), np.int16(6704), np.int16(6705), np.int16(6706), np.int16(6707), np.int16(6708), np.int16(6709), np.int16(6710), np.int16(6711), np.int16(6712), np.int16(6713), np.int16(6714), np.int16(6715), np.int16(6716), np.int16(6717), np.int16(6718), np.int16(6719), np.int16(6720), np.int16(6721), np.int16(6722), np.int16(6723), np.int16(6724), np.int16(6725), np.int16(6726), np.int16(6727), np.int16(6728), np.int16(6729), np.int16(6730), np.int16(6731), np.int16(6732), np.int16(6733), np.int16(6734), np.int16(6735), np.int16(6736), np.int16(6737), np.int16(6738), np.int16(6739), np.int16(6740), np.int16(6741), np.int16(6742), np.int16(6743), np.int16(6744), np.int16(6745), np.int16(6746), np.int16(6747), np.int16(6748), np.int16(6749), np.int16(6750), np.int16(6751), np.int16(6752), np.int16(6753), np.int16(6754), np.int16(6755), np.int16(6756), np.int16(6757), np.int16(6758), np.int16(6759), np.int16(6760), np.int16(6761), np.int16(6762), np.int16(6763), np.int16(6764), np.int16(6765), np.int16(6766), np.int16(6767), np.int16(6768), np.int16(6769), np.int16(6770), np.int16(6771), np.int16(6772), np.int16(6773), np.int16(6774), np.int16(6775), np.int16(6776), np.int16(6777), np.int16(6778), np.int16(6779), np.int16(6780), np.int16(6781), np.int16(6782), np.int16(6783), np.int16(6784), np.int16(6785), np.int16(6786), np.int16(6787), np.int16(6788), np.int16(6789), np.int16(6790), np.int16(6791), np.int16(6792), np.int16(6793), np.int16(6794), np.int16(6795), np.int16(6796), np.int16(6797), np.int16(6798), np.int16(6799), np.int16(6800), np.int16(6801), np.int16(6802), np.int16(6803), np.int16(6804), np.int16(6805), np.int16(6806), np.int16(6807), np.int16(6808), np.int16(6809), np.int16(6810), np.int16(6811), np.int16(6812), np.int16(6813), np.int16(6814), np.int16(6815), np.int16(6816), np.int16(6817), np.int16(6818), np.int16(6819), np.int16(6820), np.int16(6821), np.int16(6822), np.int16(6823), np.int16(6824), np.int16(6825), np.int16(6826), np.int16(6827), np.int16(6828), np.int16(6829), np.int16(6830), np.int16(6831), np.int16(6832), np.int16(6833), np.int16(6834), np.int16(6835), np.int16(6836), np.int16(6837), np.int16(6838), np.int16(6839), np.int16(6840), np.int16(6841), np.int16(6842), np.int16(6843), np.int16(6844), np.int16(6845), np.int16(6846), np.int16(6847), np.int16(6848), np.int16(6849), np.int16(6850), np.int16(6851), np.int16(6852), np.int16(6853), np.int16(6854), np.int16(6855), np.int16(6856), np.int16(6857), np.int16(6858), np.int16(6859), np.int16(6860), np.int16(6861), np.int16(6862), np.int16(6863), np.int16(6864), np.int16(6865), np.int16(6866), np.int16(6867), np.int16(6868), np.int16(6869), np.int16(6870), np.int16(6871), np.int16(6872), np.int16(6873), np.int16(6874), np.int16(6875), np.int16(6876), np.int16(6877), np.int16(6878), np.int16(6879), np.int16(6880), np.int16(6881), np.int16(6882), np.int16(6883), np.int16(6884), np.int16(6885), np.int16(6886), np.int16(6887), np.int16(6888), np.int16(6889), np.int16(6890), np.int16(6891), np.int16(6892), np.int16(6893), np.int16(6894), np.int16(6895), np.int16(6896), np.int16(6897), np.int16(6898), np.int16(6899), np.int16(6900), np.int16(6901), np.int16(6902), np.int16(6903), np.int16(6904), np.int16(6905), np.int16(6906), np.int16(6907), np.int16(6908), np.int16(6909), np.int16(6910), np.int16(6911), np.int16(6912), np.int16(6913), np.int16(6914), np.int16(6915), np.int16(6916), np.int16(6917), np.int16(6918), np.int16(6919), np.int16(6920), np.int16(6921), np.int16(6922), np.int16(6923), np.int16(6924), np.int16(6925), np.int16(6926), np.int16(6927), np.int16(6928), np.int16(6929), np.int16(6930), np.int16(6931), np.int16(6932), np.int16(6933), np.int16(6934), np.int16(6935), np.int16(6936), np.int16(6937), np.int16(6938), np.int16(6939), np.int16(6940), np.int16(6941), np.int16(6942), np.int16(6943), np.int16(6944), np.int16(6945), np.int16(6946), np.int16(6947), np.int16(6948), np.int16(6949), np.int16(6950), np.int16(6951), np.int16(6952), np.int16(6953), np.int16(6954), np.int16(6955), np.int16(6956), np.int16(6957), np.int16(6958), np.int16(6959), np.int16(6960), np.int16(6961), np.int16(6962), np.int16(6963), np.int16(6964), np.int16(6965), np.int16(6966), np.int16(6967), np.int16(6968), np.int16(6969), np.int16(6970), np.int16(6971), np.int16(6972), np.int16(6973), np.int16(6974), np.int16(6975), np.int16(6976), np.int16(6977), np.int16(6978), np.int16(6979), np.int16(6980), np.int16(6981), np.int16(6982), np.int16(6983), np.int16(6984), np.int16(6985), np.int16(6986), np.int16(6987), np.int16(6988), np.int16(6989), np.int16(6990), np.int16(6991), np.int16(6992), np.int16(6993), np.int16(6994), np.int16(6995), np.int16(6996), np.int16(6997), np.int16(6998), np.int16(6999), np.int16(7000), np.int16(7001), np.int16(7002), np.int16(7003), np.int16(7004), np.int16(7005), np.int16(7006), np.int16(7007), np.int16(7008), np.int16(7009), np.int16(7010), np.int16(7011), np.int16(7012), np.int16(7013), np.int16(7014), np.int16(7015), np.int16(7016), np.int16(7017), np.int16(7018), np.int16(7019), np.int16(7020), np.int16(7021), np.int16(7022), np.int16(7023), np.int16(7024), np.int16(7025), np.int16(7026), np.int16(7027), np.int16(7028), np.int16(7029), np.int16(7030), np.int16(7031), np.int16(7032), np.int16(7033), np.int16(7034), np.int16(7035), np.int16(7036), np.int16(7037), np.int16(7038), np.int16(7039), np.int16(7040), np.int16(7041), np.int16(7042), np.int16(7043), np.int16(7044), np.int16(7045), np.int16(7046), np.int16(7047), np.int16(7048), np.int16(7049), np.int16(7050), np.int16(7051), np.int16(7052), np.int16(7053), np.int16(7054), np.int16(7055), np.int16(7056), np.int16(7057), np.int16(7058), np.int16(7059), np.int16(7060), np.int16(7061), np.int16(7062), np.int16(7063), np.int16(7064), np.int16(7065), np.int16(7066), np.int16(7067), np.int16(7068), np.int16(7069), np.int16(7070), np.int16(7071), np.int16(7072), np.int16(7073), np.int16(7074), np.int16(7075), np.int16(7076), np.int16(7077), np.int16(7078), np.int16(7079), np.int16(7080), np.int16(7081), np.int16(7082), np.int16(7083), np.int16(7084), np.int16(7085), np.int16(7086), np.int16(7087), np.int16(7088), np.int16(7089), np.int16(7090), np.int16(7091), np.int16(7092), np.int16(7093), np.int16(7094), np.int16(7095), np.int16(7096), np.int16(7097), np.int16(7098), np.int16(7099), np.int16(7100), np.int16(7101), np.int16(7102), np.int16(7103), np.int16(7104), np.int16(7105), np.int16(7106), np.int16(7107), np.int16(7108), np.int16(7109), np.int16(7110), np.int16(7111), np.int16(7112), np.int16(7113), np.int16(7114), np.int16(7115), np.int16(7116), np.int16(7117), np.int16(7118), np.int16(7119), np.int16(7120), np.int16(7121), np.int16(7122), np.int16(7123), np.int16(7124), np.int16(7125), np.int16(7126), np.int16(7127), np.int16(7128), np.int16(7129), np.int16(7130), np.int16(7131), np.int16(7132), np.int16(7133), np.int16(7134), np.int16(7135), np.int16(7136), np.int16(7137), np.int16(7138), np.int16(7139), np.int16(7140), np.int16(7141), np.int16(7142), np.int16(7143), np.int16(7144), np.int16(7145), np.int16(7146), np.int16(7147), np.int16(7148), np.int16(7149), np.int16(7150), np.int16(7151), np.int16(7152), np.int16(7153), np.int16(7154), np.int16(7155), np.int16(7156), np.int16(7157), np.int16(7158), np.int16(7159), np.int16(7160), np.int16(7161), np.int16(7162), np.int16(7163), np.int16(7164), np.int16(7165), np.int16(7166), np.int16(7167), np.int16(7168), np.int16(7169), np.int16(7170), np.int16(7171), np.int16(7172), np.int16(7173), np.int16(7174), np.int16(7175), np.int16(7176), np.int16(7177), np.int16(7178), np.int16(7179), np.int16(7180), np.int16(7181), np.int16(7182), np.int16(7183), np.int16(7184), np.int16(7185), np.int16(7186), np.int16(7187), np.int16(7188), np.int16(7189), np.int16(7190), np.int16(7191), np.int16(7192), np.int16(7193), np.int16(7194), np.int16(7195), np.int16(7196), np.int16(7197), np.int16(7198), np.int16(7199), np.int16(7200), np.int16(7201), np.int16(7202), np.int16(7203), np.int16(7204), np.int16(7205), np.int16(7206), np.int16(7207), np.int16(7208), np.int16(7209), np.int16(7210), np.int16(7211), np.int16(7212), np.int16(7213), np.int16(7214), np.int16(7215), np.int16(7216), np.int16(7217), np.int16(7218), np.int16(7219), np.int16(7220), np.int16(7221), np.int16(7222), np.int16(7223), np.int16(7224), np.int16(7225), np.int16(7226), np.int16(7227), np.int16(7228), np.int16(7229), np.int16(7230), np.int16(7231), np.int16(7232), np.int16(7233), np.int16(7234), np.int16(7235), np.int16(7236), np.int16(7237), np.int16(7238), np.int16(7239), np.int16(7240), np.int16(7241), np.int16(7242), np.int16(7243), np.int16(7244), np.int16(7245), np.int16(7246), np.int16(7247), np.int16(7248), np.int16(7249), np.int16(7250), np.int16(7251), np.int16(7252), np.int16(7253), np.int16(7254), np.int16(7255), np.int16(7256), np.int16(7257), np.int16(7258), np.int16(7259), np.int16(7260), np.int16(7261), np.int16(7262), np.int16(7263), np.int16(7264), np.int16(7265), np.int16(7266), np.int16(7267), np.int16(7268), np.int16(7269), np.int16(7270), np.int16(7271), np.int16(7272), np.int16(7273), np.int16(7274), np.int16(7275), np.int16(7276), np.int16(7277), np.int16(7278), np.int16(7279), np.int16(7280), np.int16(7281), np.int16(7282), np.int16(7283), np.int16(7284), np.int16(7285), np.int16(7286), np.int16(7287), np.int16(7288), np.int16(7289), np.int16(7290), np.int16(7291), np.int16(7292), np.int16(7293), np.int16(7294), np.int16(7295), np.int16(7296), np.int16(7297), np.int16(7298), np.int16(7299), np.int16(7300), np.int16(7301), np.int16(7302), np.int16(7303), np.int16(7304), np.int16(7305), np.int16(7306), np.int16(7307), np.int16(7308), np.int16(7309), np.int16(7310), np.int16(7311), np.int16(7312), np.int16(7313), np.int16(7314), np.int16(7315), np.int16(7316), np.int16(7317), np.int16(7318), np.int16(7319), np.int16(7320), np.int16(7321), np.int16(7322), np.int16(7323), np.int16(7324), np.int16(7325), np.int16(7326), np.int16(7327), np.int16(7328), np.int16(7329), np.int16(7330), np.int16(7331), np.int16(7332), np.int16(7333), np.int16(7334), np.int16(7335), np.int16(7336), np.int16(7337), np.int16(7338), np.int16(7339), np.int16(7340), np.int16(7341), np.int16(7342), np.int16(7343), np.int16(7344), np.int16(7345), np.int16(7346), np.int16(7347), np.int16(7348), np.int16(7349), np.int16(7350), np.int16(7351), np.int16(7352), np.int16(7353), np.int16(7354), np.int16(7355), np.int16(7356), np.int16(7357), np.int16(7358), np.int16(7359), np.int16(7360), np.int16(7361), np.int16(7362), np.int16(7363), np.int16(7364), np.int16(7365), np.int16(7366), np.int16(7367), np.int16(7368), np.int16(7369), np.int16(7370), np.int16(7371), np.int16(7372), np.int16(7373), np.int16(7374), np.int16(7375), np.int16(7376), np.int16(7377), np.int16(7378), np.int16(7379), np.int16(7380), np.int16(7381), np.int16(7382), np.int16(7383), np.int16(7384), np.int16(7385), np.int16(7386), np.int16(7387), np.int16(7388), np.int16(7389), np.int16(7390), np.int16(7391), np.int16(7392), np.int16(7393), np.int16(7394), np.int16(7395), np.int16(7396), np.int16(7397), np.int16(7398), np.int16(7399), np.int16(7400), np.int16(7401), np.int16(7402), np.int16(7403), np.int16(7404), np.int16(7405), np.int16(7406), np.int16(7407), np.int16(7408), np.int16(7409), np.int16(7410), np.int16(7411), np.int16(7412), np.int16(7413), np.int16(7414), np.int16(7415), np.int16(7416), np.int16(7417), np.int16(7418), np.int16(7419), np.int16(7420), np.int16(7421), np.int16(7422), np.int16(7423), np.int16(7424), np.int16(7425), np.int16(7426), np.int16(7427), np.int16(7428), np.int16(7429), np.int16(7430), np.int16(7431), np.int16(7432), np.int16(7433), np.int16(7434), np.int16(7435), np.int16(7436), np.int16(7437), np.int16(7438), np.int16(7439), np.int16(7440), np.int16(7441), np.int16(7442), np.int16(7443), np.int16(7444), np.int16(7445), np.int16(7446), np.int16(7447), np.int16(7448), np.int16(7449), np.int16(7450), np.int16(7451), np.int16(7452), np.int16(7453), np.int16(7454), np.int16(7455), np.int16(7456), np.int16(7457), np.int16(7458), np.int16(7459), np.int16(7460), np.int16(7461), np.int16(7462), np.int16(7463), np.int16(7464), np.int16(7465), np.int16(7466), np.int16(7467), np.int16(7468), np.int16(7469), np.int16(7470), np.int16(7471), np.int16(7472), np.int16(7473), np.int16(7474), np.int16(7475), np.int16(7476), np.int16(7477), np.int16(7478), np.int16(7479), np.int16(7480), np.int16(7481), np.int16(7482), np.int16(7483), np.int16(7484), np.int16(7485), np.int16(7486), np.int16(7487), np.int16(7488), np.int16(7489), np.int16(7490), np.int16(7491), np.int16(7492), np.int16(7493), np.int16(7494), np.int16(7495), np.int16(7496), np.int16(7497), np.int16(7498), np.int16(7499), np.int16(7500), np.int16(7501), np.int16(7502), np.int16(7503), np.int16(7504), np.int16(7505), np.int16(7506), np.int16(7507), np.int16(7508), np.int16(7509), np.int16(7510), np.int16(7511), np.int16(7512), np.int16(7513), np.int16(7514), np.int16(7515), np.int16(7516), np.int16(7517), np.int16(7518), np.int16(7519), np.int16(7520), np.int16(7521), np.int16(7522), np.int16(7523), np.int16(7524), np.int16(7525), np.int16(7526), np.int16(7527), np.int16(7528), np.int16(7529), np.int16(7530), np.int16(7531), np.int16(7532), np.int16(7533), np.int16(7534), np.int16(7535), np.int16(7536), np.int16(7537), np.int16(7538), np.int16(7539), np.int16(7540), np.int16(7541), np.int16(7542), np.int16(7543), np.int16(7544), np.int16(7545), np.int16(7546), np.int16(7547), np.int16(7548), np.int16(7549), np.int16(7550), np.int16(7551), np.int16(7552), np.int16(7553), np.int16(7554), np.int16(7555), np.int16(7556), np.int16(7557), np.int16(7558), np.int16(7559), np.int16(7560), np.int16(7561), np.int16(7562), np.int16(7563), np.int16(7564), np.int16(7565), np.int16(7566), np.int16(7567), np.int16(7568), np.int16(7569), np.int16(7570), np.int16(7571), np.int16(7572), np.int16(7573), np.int16(7574), np.int16(7575), np.int16(7576), np.int16(7577), np.int16(7578), np.int16(7579), np.int16(7580), np.int16(7581), np.int16(7582), np.int16(7583), np.int16(7584), np.int16(7585), np.int16(7586), np.int16(7587), np.int16(7588), np.int16(7589), np.int16(7590), np.int16(7591), np.int16(7592), np.int16(7593), np.int16(7594), np.int16(7595), np.int16(7596), np.int16(7597), np.int16(7598), np.int16(7599), np.int16(7600), np.int16(7601), np.int16(7602), np.int16(7603), np.int16(7604), np.int16(7605), np.int16(7606), np.int16(7607), np.int16(7608), np.int16(7609), np.int16(7610), np.int16(7611), np.int16(7612), np.int16(7613), np.int16(7614), np.int16(7615), np.int16(7616), np.int16(7617), np.int16(7618), np.int16(7619), np.int16(7620), np.int16(7621), np.int16(7622), np.int16(7623), np.int16(7624), np.int16(7625), np.int16(7626), np.int16(7627), np.int16(7628), np.int16(7629), np.int16(7630), np.int16(7631), np.int16(7632), np.int16(7633), np.int16(7634), np.int16(7635), np.int16(7636), np.int16(7637), np.int16(7638), np.int16(7639), np.int16(7640), np.int16(7641), np.int16(7642), np.int16(7643), np.int16(7644)]\n"
     ]
    }
   ],
   "source": [
    "import pandas as pd\n",
    "import glob\n",
    "\n",
    "# Ruta a los chunks ya codificados\n",
    "chunk_files = sorted(glob.glob(\"../data_subsets/final_dataset_chunks/chunk_*.parquet\"))\n",
    "\n",
    "# Columnas categóricas codificadas (puedes añadir más si las tienes)\n",
    "categorical_columns = [\n",
    "    \"airline_code\", \"aircraft_type\", \"cabin\", \"arr_airport\", \"dep_airport\",\n",
    "    \"startingAirport\", \"destinationAirport\", \"fareBasisCode\"\n",
    "]\n",
    "\n",
    "# Diccionario para guardar todos los valores únicos\n",
    "unique_values = {col: set() for col in categorical_columns}\n",
    "\n",
    "# Leer todos los chunks y acumular valores únicos\n",
    "print(f\"🔄 Procesando {len(chunk_files)} chunks...\")\n",
    "for path in chunk_files:\n",
    "    df = pd.read_parquet(path)\n",
    "    for col in categorical_columns:\n",
    "        unique_values[col].update(df[col].dropna().unique())\n",
    "\n",
    "# Mostrar resultados\n",
    "print(\"\\n📊 Resultados globales por columna:\")\n",
    "for col in categorical_columns:\n",
    "    valores = sorted(unique_values[col])\n",
    "    print(f\"\\n➡️ {col} ({len(valores)} valores únicos):\")\n",
    "    print(valores)\n"
   ]
  }
 ],
 "metadata": {
  "kernelspec": {
   "display_name": "flightprice_env",
   "language": "python",
   "name": "python3"
  },
  "language_info": {
   "codemirror_mode": {
    "name": "ipython",
    "version": 3
   },
   "file_extension": ".py",
   "mimetype": "text/x-python",
   "name": "python",
   "nbconvert_exporter": "python",
   "pygments_lexer": "ipython3",
   "version": "3.12.3"
  }
 },
 "nbformat": 4,
 "nbformat_minor": 5
}
