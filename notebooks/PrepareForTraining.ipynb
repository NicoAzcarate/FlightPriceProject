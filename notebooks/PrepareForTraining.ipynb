{
 "cells": [
  {
   "cell_type": "code",
   "execution_count": 1,
   "id": "88bb71b9",
   "metadata": {},
   "outputs": [
    {
     "name": "stdout",
     "output_type": "stream",
     "text": [
      "📊 Número de bloques (row groups): 56\n",
      "✅ Chunk 0 guardado con 1048576 filas\n",
      "✅ Chunk 1 guardado con 1048576 filas\n",
      "✅ Chunk 2 guardado con 1048576 filas\n",
      "✅ Chunk 3 guardado con 1048576 filas\n",
      "✅ Chunk 4 guardado con 1048576 filas\n",
      "✅ Chunk 5 guardado con 1048576 filas\n",
      "✅ Chunk 6 guardado con 1048576 filas\n",
      "✅ Chunk 7 guardado con 1048576 filas\n",
      "✅ Chunk 8 guardado con 1048576 filas\n",
      "✅ Chunk 9 guardado con 1048576 filas\n",
      "✅ Chunk 10 guardado con 1048576 filas\n",
      "✅ Chunk 11 guardado con 1048576 filas\n",
      "✅ Chunk 12 guardado con 1048576 filas\n",
      "✅ Chunk 13 guardado con 1048576 filas\n",
      "✅ Chunk 14 guardado con 1048576 filas\n",
      "✅ Chunk 15 guardado con 1048576 filas\n",
      "✅ Chunk 16 guardado con 1048576 filas\n",
      "✅ Chunk 17 guardado con 1048576 filas\n",
      "✅ Chunk 18 guardado con 1048576 filas\n",
      "✅ Chunk 19 guardado con 1048576 filas\n",
      "✅ Chunk 20 guardado con 1048576 filas\n",
      "✅ Chunk 21 guardado con 1048576 filas\n",
      "✅ Chunk 22 guardado con 1048576 filas\n",
      "✅ Chunk 23 guardado con 1048576 filas\n",
      "✅ Chunk 24 guardado con 1048576 filas\n",
      "✅ Chunk 25 guardado con 1048576 filas\n",
      "✅ Chunk 26 guardado con 1048576 filas\n",
      "✅ Chunk 27 guardado con 1048576 filas\n",
      "✅ Chunk 28 guardado con 1048576 filas\n",
      "✅ Chunk 29 guardado con 1048576 filas\n",
      "✅ Chunk 30 guardado con 1048576 filas\n",
      "✅ Chunk 31 guardado con 1048576 filas\n",
      "✅ Chunk 32 guardado con 1048576 filas\n",
      "✅ Chunk 33 guardado con 1048576 filas\n",
      "✅ Chunk 34 guardado con 1048576 filas\n",
      "✅ Chunk 35 guardado con 1048576 filas\n",
      "✅ Chunk 36 guardado con 1048576 filas\n",
      "✅ Chunk 37 guardado con 1048576 filas\n",
      "✅ Chunk 38 guardado con 1048576 filas\n",
      "✅ Chunk 39 guardado con 1048576 filas\n",
      "✅ Chunk 40 guardado con 1048576 filas\n",
      "✅ Chunk 41 guardado con 1048576 filas\n",
      "✅ Chunk 42 guardado con 1048576 filas\n",
      "✅ Chunk 43 guardado con 1048576 filas\n",
      "✅ Chunk 44 guardado con 1048576 filas\n",
      "✅ Chunk 45 guardado con 1048576 filas\n",
      "✅ Chunk 46 guardado con 1048576 filas\n",
      "✅ Chunk 47 guardado con 1048576 filas\n",
      "✅ Chunk 48 guardado con 1048576 filas\n",
      "✅ Chunk 49 guardado con 1048576 filas\n",
      "✅ Chunk 50 guardado con 1048576 filas\n",
      "✅ Chunk 51 guardado con 1048576 filas\n",
      "✅ Chunk 52 guardado con 1048576 filas\n",
      "✅ Chunk 53 guardado con 1048576 filas\n",
      "✅ Chunk 54 guardado con 1048576 filas\n",
      "✅ Chunk 55 guardado con 734385 filas\n"
     ]
    }
   ],
   "source": [
    "import pandas as pd\n",
    "import os\n",
    "\n",
    "from pyarrow import parquet as pq\n",
    "\n",
    "# Ruta del dataset original\n",
    "dataset_path = \"../data_subsets/final_dataset.parquet\"\n",
    "\n",
    "# Carpeta donde se guardarán los chunks\n",
    "output_dir = \"../data_subsets/final_dataset_chunks\"\n",
    "os.makedirs(output_dir, exist_ok=True)\n",
    "\n",
    "# Leer metadata del parquet\n",
    "dataset = pq.ParquetFile(dataset_path)\n",
    "\n",
    "# Número de filas totales y de row groups\n",
    "n_row_groups = dataset.num_row_groups\n",
    "print(f\"📊 Número de bloques (row groups): {n_row_groups}\")\n",
    "\n",
    "# Guardar cada row group como un chunk parquet separado\n",
    "for i in range(n_row_groups):\n",
    "    table = dataset.read_row_group(i)\n",
    "    df_chunk = table.to_pandas()\n",
    "    output_path = f\"{output_dir}/chunk_{i}.parquet\"\n",
    "    df_chunk.to_parquet(output_path, index=False)\n",
    "    print(f\"✅ Chunk {i} guardado con {len(df_chunk)} filas\")\n"
   ]
  },
  {
   "cell_type": "code",
   "execution_count": 2,
   "id": "a0fd8d79",
   "metadata": {},
   "outputs": [
    {
     "name": "stdout",
     "output_type": "stream",
     "text": [
      "🔍 Chunk cargado con shape: (1048576, 23)\n"
     ]
    },
    {
     "data": {
      "text/html": [
       "<div>\n",
       "<style scoped>\n",
       "    .dataframe tbody tr th:only-of-type {\n",
       "        vertical-align: middle;\n",
       "    }\n",
       "\n",
       "    .dataframe tbody tr th {\n",
       "        vertical-align: top;\n",
       "    }\n",
       "\n",
       "    .dataframe thead th {\n",
       "        text-align: right;\n",
       "    }\n",
       "</style>\n",
       "<table border=\"1\" class=\"dataframe\">\n",
       "  <thead>\n",
       "    <tr style=\"text-align: right;\">\n",
       "      <th></th>\n",
       "      <th>legId</th>\n",
       "      <th>segment_num</th>\n",
       "      <th>airline_code</th>\n",
       "      <th>aircraft_type</th>\n",
       "      <th>duration_seconds</th>\n",
       "      <th>distance_miles</th>\n",
       "      <th>departure_hour</th>\n",
       "      <th>departure_weekday</th>\n",
       "      <th>cabin</th>\n",
       "      <th>arr_airport</th>\n",
       "      <th>...</th>\n",
       "      <th>fareBasisCode</th>\n",
       "      <th>isBasicEconomy</th>\n",
       "      <th>isRefundable</th>\n",
       "      <th>isNonStop</th>\n",
       "      <th>baseFare</th>\n",
       "      <th>totalFare</th>\n",
       "      <th>seatsRemaining</th>\n",
       "      <th>elapsedDays</th>\n",
       "      <th>days_in_advance</th>\n",
       "      <th>totalTravelDistance</th>\n",
       "    </tr>\n",
       "  </thead>\n",
       "  <tbody>\n",
       "    <tr>\n",
       "      <th>0</th>\n",
       "      <td>fe531c56903f83f1a2d3383441628f0e</td>\n",
       "      <td>0</td>\n",
       "      <td>5</td>\n",
       "      <td>18.0</td>\n",
       "      <td>10260.0</td>\n",
       "      <td>1115.0</td>\n",
       "      <td>7</td>\n",
       "      <td>6</td>\n",
       "      <td>4</td>\n",
       "      <td>13</td>\n",
       "      <td>...</td>\n",
       "      <td>2101</td>\n",
       "      <td>0</td>\n",
       "      <td>0</td>\n",
       "      <td>1</td>\n",
       "      <td>305.12</td>\n",
       "      <td>342.6</td>\n",
       "      <td>7</td>\n",
       "      <td>0</td>\n",
       "      <td>41</td>\n",
       "      <td>1115.0</td>\n",
       "    </tr>\n",
       "    <tr>\n",
       "      <th>1</th>\n",
       "      <td>fe531c56903f83f1a2d3383441628f0e</td>\n",
       "      <td>0</td>\n",
       "      <td>5</td>\n",
       "      <td>18.0</td>\n",
       "      <td>10260.0</td>\n",
       "      <td>1115.0</td>\n",
       "      <td>7</td>\n",
       "      <td>6</td>\n",
       "      <td>4</td>\n",
       "      <td>13</td>\n",
       "      <td>...</td>\n",
       "      <td>1088</td>\n",
       "      <td>0</td>\n",
       "      <td>0</td>\n",
       "      <td>1</td>\n",
       "      <td>404.65</td>\n",
       "      <td>449.6</td>\n",
       "      <td>7</td>\n",
       "      <td>0</td>\n",
       "      <td>37</td>\n",
       "      <td>1115.0</td>\n",
       "    </tr>\n",
       "    <tr>\n",
       "      <th>2</th>\n",
       "      <td>fe531c56903f83f1a2d3383441628f0e</td>\n",
       "      <td>0</td>\n",
       "      <td>5</td>\n",
       "      <td>18.0</td>\n",
       "      <td>10260.0</td>\n",
       "      <td>1115.0</td>\n",
       "      <td>7</td>\n",
       "      <td>6</td>\n",
       "      <td>4</td>\n",
       "      <td>13</td>\n",
       "      <td>...</td>\n",
       "      <td>1562</td>\n",
       "      <td>0</td>\n",
       "      <td>0</td>\n",
       "      <td>1</td>\n",
       "      <td>227.91</td>\n",
       "      <td>259.6</td>\n",
       "      <td>7</td>\n",
       "      <td>0</td>\n",
       "      <td>6</td>\n",
       "      <td>1115.0</td>\n",
       "    </tr>\n",
       "    <tr>\n",
       "      <th>3</th>\n",
       "      <td>b7a7c798768db6400d8db954710fca9c</td>\n",
       "      <td>0</td>\n",
       "      <td>7</td>\n",
       "      <td>17.0</td>\n",
       "      <td>7380.0</td>\n",
       "      <td>725.0</td>\n",
       "      <td>8</td>\n",
       "      <td>1</td>\n",
       "      <td>4</td>\n",
       "      <td>1</td>\n",
       "      <td>...</td>\n",
       "      <td>4239</td>\n",
       "      <td>1</td>\n",
       "      <td>0</td>\n",
       "      <td>1</td>\n",
       "      <td>110.70</td>\n",
       "      <td>133.6</td>\n",
       "      <td>9</td>\n",
       "      <td>0</td>\n",
       "      <td>10</td>\n",
       "      <td>725.0</td>\n",
       "    </tr>\n",
       "    <tr>\n",
       "      <th>4</th>\n",
       "      <td>b7a7c798768db6400d8db954710fca9c</td>\n",
       "      <td>0</td>\n",
       "      <td>7</td>\n",
       "      <td>17.0</td>\n",
       "      <td>7380.0</td>\n",
       "      <td>725.0</td>\n",
       "      <td>8</td>\n",
       "      <td>1</td>\n",
       "      <td>4</td>\n",
       "      <td>1</td>\n",
       "      <td>...</td>\n",
       "      <td>1586</td>\n",
       "      <td>0</td>\n",
       "      <td>0</td>\n",
       "      <td>1</td>\n",
       "      <td>174.88</td>\n",
       "      <td>202.6</td>\n",
       "      <td>9</td>\n",
       "      <td>0</td>\n",
       "      <td>6</td>\n",
       "      <td>725.0</td>\n",
       "    </tr>\n",
       "  </tbody>\n",
       "</table>\n",
       "<p>5 rows × 23 columns</p>\n",
       "</div>"
      ],
      "text/plain": [
       "                              legId  segment_num  airline_code  aircraft_type  \\\n",
       "0  fe531c56903f83f1a2d3383441628f0e            0             5           18.0   \n",
       "1  fe531c56903f83f1a2d3383441628f0e            0             5           18.0   \n",
       "2  fe531c56903f83f1a2d3383441628f0e            0             5           18.0   \n",
       "3  b7a7c798768db6400d8db954710fca9c            0             7           17.0   \n",
       "4  b7a7c798768db6400d8db954710fca9c            0             7           17.0   \n",
       "\n",
       "   duration_seconds  distance_miles  departure_hour  departure_weekday  cabin  \\\n",
       "0           10260.0          1115.0               7                  6      4   \n",
       "1           10260.0          1115.0               7                  6      4   \n",
       "2           10260.0          1115.0               7                  6      4   \n",
       "3            7380.0           725.0               8                  1      4   \n",
       "4            7380.0           725.0               8                  1      4   \n",
       "\n",
       "   arr_airport  ...  fareBasisCode  isBasicEconomy  isRefundable  isNonStop  \\\n",
       "0           13  ...           2101               0             0          1   \n",
       "1           13  ...           1088               0             0          1   \n",
       "2           13  ...           1562               0             0          1   \n",
       "3            1  ...           4239               1             0          1   \n",
       "4            1  ...           1586               0             0          1   \n",
       "\n",
       "   baseFare  totalFare  seatsRemaining  elapsedDays  days_in_advance  \\\n",
       "0    305.12      342.6               7            0               41   \n",
       "1    404.65      449.6               7            0               37   \n",
       "2    227.91      259.6               7            0                6   \n",
       "3    110.70      133.6               9            0               10   \n",
       "4    174.88      202.6               9            0                6   \n",
       "\n",
       "   totalTravelDistance  \n",
       "0               1115.0  \n",
       "1               1115.0  \n",
       "2               1115.0  \n",
       "3                725.0  \n",
       "4                725.0  \n",
       "\n",
       "[5 rows x 23 columns]"
      ]
     },
     "metadata": {},
     "output_type": "display_data"
    }
   ],
   "source": [
    "import glob\n",
    "import pandas as pd\n",
    "\n",
    "chunk_paths = sorted(glob.glob(\"../data_subsets/final_dataset_chunks/chunk_*.parquet\"))\n",
    "\n",
    "# Cargar el primer chunk para prueba\n",
    "df = pd.read_parquet(chunk_paths[0])\n",
    "print(f\"🔍 Chunk cargado con shape: {df.shape}\")\n",
    "display(df.head())\n"
   ]
  },
  {
   "cell_type": "code",
   "execution_count": 3,
   "id": "35d2916b",
   "metadata": {},
   "outputs": [],
   "source": [
    "from sklearn.model_selection import train_test_split\n",
    "from sklearn.preprocessing import StandardScaler\n",
    "\n",
    "# Supongamos que ya tienes un chunk\n",
    "X = df.drop(columns=[\"totalFare\", \"legId\"])  # Elimina columnas no necesarias\n",
    "y = df[\"totalFare\"]\n",
    "\n",
    "scaler = StandardScaler()\n",
    "X_scaled = scaler.fit_transform(X)\n",
    "\n",
    "# División entrenamiento/test\n",
    "X_train, X_test, y_train, y_test = train_test_split(X_scaled, y, test_size=0.2, random_state=42)\n"
   ]
  },
  {
   "cell_type": "code",
   "execution_count": 3,
   "id": "f3e38f3a",
   "metadata": {},
   "outputs": [
    {
     "name": "stdout",
     "output_type": "stream",
     "text": [
      "📦 Detectando chunks...\n",
      "📦 Detectados 56 chunks\n",
      "🧪 Fitting del StandardScaler...\n",
      "✂️ Dividiendo y guardando chunks escalados...\n"
     ]
    },
    {
     "name": "stderr",
     "output_type": "stream",
     "text": [
      "/home/cosmopato/flightprice_env/lib/python3.12/site-packages/sklearn/utils/validation.py:2732: UserWarning: X has feature names, but StandardScaler was fitted without feature names\n",
      "  warnings.warn(\n"
     ]
    },
    {
     "name": "stdout",
     "output_type": "stream",
     "text": [
      "✅ Chunk 0 procesado y guardado: 838860 train / 209716 test\n"
     ]
    },
    {
     "name": "stderr",
     "output_type": "stream",
     "text": [
      "/home/cosmopato/flightprice_env/lib/python3.12/site-packages/sklearn/utils/validation.py:2732: UserWarning: X has feature names, but StandardScaler was fitted without feature names\n",
      "  warnings.warn(\n"
     ]
    },
    {
     "name": "stdout",
     "output_type": "stream",
     "text": [
      "✅ Chunk 1 procesado y guardado: 838860 train / 209716 test\n"
     ]
    },
    {
     "name": "stderr",
     "output_type": "stream",
     "text": [
      "/home/cosmopato/flightprice_env/lib/python3.12/site-packages/sklearn/utils/validation.py:2732: UserWarning: X has feature names, but StandardScaler was fitted without feature names\n",
      "  warnings.warn(\n"
     ]
    },
    {
     "name": "stdout",
     "output_type": "stream",
     "text": [
      "✅ Chunk 2 procesado y guardado: 838860 train / 209716 test\n"
     ]
    },
    {
     "name": "stderr",
     "output_type": "stream",
     "text": [
      "/home/cosmopato/flightprice_env/lib/python3.12/site-packages/sklearn/utils/validation.py:2732: UserWarning: X has feature names, but StandardScaler was fitted without feature names\n",
      "  warnings.warn(\n"
     ]
    },
    {
     "name": "stdout",
     "output_type": "stream",
     "text": [
      "✅ Chunk 3 procesado y guardado: 838860 train / 209716 test\n"
     ]
    },
    {
     "name": "stderr",
     "output_type": "stream",
     "text": [
      "/home/cosmopato/flightprice_env/lib/python3.12/site-packages/sklearn/utils/validation.py:2732: UserWarning: X has feature names, but StandardScaler was fitted without feature names\n",
      "  warnings.warn(\n"
     ]
    },
    {
     "name": "stdout",
     "output_type": "stream",
     "text": [
      "✅ Chunk 4 procesado y guardado: 838860 train / 209716 test\n"
     ]
    },
    {
     "name": "stderr",
     "output_type": "stream",
     "text": [
      "/home/cosmopato/flightprice_env/lib/python3.12/site-packages/sklearn/utils/validation.py:2732: UserWarning: X has feature names, but StandardScaler was fitted without feature names\n",
      "  warnings.warn(\n"
     ]
    },
    {
     "name": "stdout",
     "output_type": "stream",
     "text": [
      "✅ Chunk 5 procesado y guardado: 838860 train / 209716 test\n"
     ]
    },
    {
     "name": "stderr",
     "output_type": "stream",
     "text": [
      "/home/cosmopato/flightprice_env/lib/python3.12/site-packages/sklearn/utils/validation.py:2732: UserWarning: X has feature names, but StandardScaler was fitted without feature names\n",
      "  warnings.warn(\n"
     ]
    },
    {
     "name": "stdout",
     "output_type": "stream",
     "text": [
      "✅ Chunk 6 procesado y guardado: 838860 train / 209716 test\n"
     ]
    },
    {
     "name": "stderr",
     "output_type": "stream",
     "text": [
      "/home/cosmopato/flightprice_env/lib/python3.12/site-packages/sklearn/utils/validation.py:2732: UserWarning: X has feature names, but StandardScaler was fitted without feature names\n",
      "  warnings.warn(\n"
     ]
    },
    {
     "name": "stdout",
     "output_type": "stream",
     "text": [
      "✅ Chunk 7 procesado y guardado: 838860 train / 209716 test\n"
     ]
    },
    {
     "name": "stderr",
     "output_type": "stream",
     "text": [
      "/home/cosmopato/flightprice_env/lib/python3.12/site-packages/sklearn/utils/validation.py:2732: UserWarning: X has feature names, but StandardScaler was fitted without feature names\n",
      "  warnings.warn(\n"
     ]
    },
    {
     "name": "stdout",
     "output_type": "stream",
     "text": [
      "✅ Chunk 8 procesado y guardado: 838860 train / 209716 test\n"
     ]
    },
    {
     "name": "stderr",
     "output_type": "stream",
     "text": [
      "/home/cosmopato/flightprice_env/lib/python3.12/site-packages/sklearn/utils/validation.py:2732: UserWarning: X has feature names, but StandardScaler was fitted without feature names\n",
      "  warnings.warn(\n"
     ]
    },
    {
     "name": "stdout",
     "output_type": "stream",
     "text": [
      "✅ Chunk 9 procesado y guardado: 838860 train / 209716 test\n"
     ]
    },
    {
     "name": "stderr",
     "output_type": "stream",
     "text": [
      "/home/cosmopato/flightprice_env/lib/python3.12/site-packages/sklearn/utils/validation.py:2732: UserWarning: X has feature names, but StandardScaler was fitted without feature names\n",
      "  warnings.warn(\n"
     ]
    },
    {
     "name": "stdout",
     "output_type": "stream",
     "text": [
      "✅ Chunk 10 procesado y guardado: 838860 train / 209716 test\n"
     ]
    },
    {
     "name": "stderr",
     "output_type": "stream",
     "text": [
      "/home/cosmopato/flightprice_env/lib/python3.12/site-packages/sklearn/utils/validation.py:2732: UserWarning: X has feature names, but StandardScaler was fitted without feature names\n",
      "  warnings.warn(\n"
     ]
    },
    {
     "name": "stdout",
     "output_type": "stream",
     "text": [
      "✅ Chunk 11 procesado y guardado: 838860 train / 209716 test\n"
     ]
    },
    {
     "name": "stderr",
     "output_type": "stream",
     "text": [
      "/home/cosmopato/flightprice_env/lib/python3.12/site-packages/sklearn/utils/validation.py:2732: UserWarning: X has feature names, but StandardScaler was fitted without feature names\n",
      "  warnings.warn(\n"
     ]
    },
    {
     "name": "stdout",
     "output_type": "stream",
     "text": [
      "✅ Chunk 12 procesado y guardado: 838860 train / 209716 test\n"
     ]
    },
    {
     "name": "stderr",
     "output_type": "stream",
     "text": [
      "/home/cosmopato/flightprice_env/lib/python3.12/site-packages/sklearn/utils/validation.py:2732: UserWarning: X has feature names, but StandardScaler was fitted without feature names\n",
      "  warnings.warn(\n"
     ]
    },
    {
     "name": "stdout",
     "output_type": "stream",
     "text": [
      "✅ Chunk 13 procesado y guardado: 838860 train / 209716 test\n"
     ]
    },
    {
     "name": "stderr",
     "output_type": "stream",
     "text": [
      "/home/cosmopato/flightprice_env/lib/python3.12/site-packages/sklearn/utils/validation.py:2732: UserWarning: X has feature names, but StandardScaler was fitted without feature names\n",
      "  warnings.warn(\n"
     ]
    },
    {
     "name": "stdout",
     "output_type": "stream",
     "text": [
      "✅ Chunk 14 procesado y guardado: 838860 train / 209716 test\n"
     ]
    },
    {
     "name": "stderr",
     "output_type": "stream",
     "text": [
      "/home/cosmopato/flightprice_env/lib/python3.12/site-packages/sklearn/utils/validation.py:2732: UserWarning: X has feature names, but StandardScaler was fitted without feature names\n",
      "  warnings.warn(\n"
     ]
    },
    {
     "name": "stdout",
     "output_type": "stream",
     "text": [
      "✅ Chunk 15 procesado y guardado: 838860 train / 209716 test\n"
     ]
    },
    {
     "name": "stderr",
     "output_type": "stream",
     "text": [
      "/home/cosmopato/flightprice_env/lib/python3.12/site-packages/sklearn/utils/validation.py:2732: UserWarning: X has feature names, but StandardScaler was fitted without feature names\n",
      "  warnings.warn(\n"
     ]
    },
    {
     "name": "stdout",
     "output_type": "stream",
     "text": [
      "✅ Chunk 16 procesado y guardado: 838860 train / 209716 test\n"
     ]
    },
    {
     "name": "stderr",
     "output_type": "stream",
     "text": [
      "/home/cosmopato/flightprice_env/lib/python3.12/site-packages/sklearn/utils/validation.py:2732: UserWarning: X has feature names, but StandardScaler was fitted without feature names\n",
      "  warnings.warn(\n"
     ]
    },
    {
     "name": "stdout",
     "output_type": "stream",
     "text": [
      "✅ Chunk 17 procesado y guardado: 838860 train / 209716 test\n"
     ]
    },
    {
     "name": "stderr",
     "output_type": "stream",
     "text": [
      "/home/cosmopato/flightprice_env/lib/python3.12/site-packages/sklearn/utils/validation.py:2732: UserWarning: X has feature names, but StandardScaler was fitted without feature names\n",
      "  warnings.warn(\n"
     ]
    },
    {
     "name": "stdout",
     "output_type": "stream",
     "text": [
      "✅ Chunk 18 procesado y guardado: 838860 train / 209716 test\n"
     ]
    },
    {
     "name": "stderr",
     "output_type": "stream",
     "text": [
      "/home/cosmopato/flightprice_env/lib/python3.12/site-packages/sklearn/utils/validation.py:2732: UserWarning: X has feature names, but StandardScaler was fitted without feature names\n",
      "  warnings.warn(\n"
     ]
    },
    {
     "name": "stdout",
     "output_type": "stream",
     "text": [
      "✅ Chunk 19 procesado y guardado: 838860 train / 209716 test\n"
     ]
    },
    {
     "name": "stderr",
     "output_type": "stream",
     "text": [
      "/home/cosmopato/flightprice_env/lib/python3.12/site-packages/sklearn/utils/validation.py:2732: UserWarning: X has feature names, but StandardScaler was fitted without feature names\n",
      "  warnings.warn(\n"
     ]
    },
    {
     "name": "stdout",
     "output_type": "stream",
     "text": [
      "✅ Chunk 20 procesado y guardado: 838860 train / 209716 test\n"
     ]
    },
    {
     "name": "stderr",
     "output_type": "stream",
     "text": [
      "/home/cosmopato/flightprice_env/lib/python3.12/site-packages/sklearn/utils/validation.py:2732: UserWarning: X has feature names, but StandardScaler was fitted without feature names\n",
      "  warnings.warn(\n"
     ]
    },
    {
     "name": "stdout",
     "output_type": "stream",
     "text": [
      "✅ Chunk 21 procesado y guardado: 838860 train / 209716 test\n"
     ]
    },
    {
     "name": "stderr",
     "output_type": "stream",
     "text": [
      "/home/cosmopato/flightprice_env/lib/python3.12/site-packages/sklearn/utils/validation.py:2732: UserWarning: X has feature names, but StandardScaler was fitted without feature names\n",
      "  warnings.warn(\n"
     ]
    },
    {
     "name": "stdout",
     "output_type": "stream",
     "text": [
      "✅ Chunk 22 procesado y guardado: 838860 train / 209716 test\n"
     ]
    },
    {
     "name": "stderr",
     "output_type": "stream",
     "text": [
      "/home/cosmopato/flightprice_env/lib/python3.12/site-packages/sklearn/utils/validation.py:2732: UserWarning: X has feature names, but StandardScaler was fitted without feature names\n",
      "  warnings.warn(\n"
     ]
    },
    {
     "name": "stdout",
     "output_type": "stream",
     "text": [
      "✅ Chunk 23 procesado y guardado: 838860 train / 209716 test\n"
     ]
    },
    {
     "name": "stderr",
     "output_type": "stream",
     "text": [
      "/home/cosmopato/flightprice_env/lib/python3.12/site-packages/sklearn/utils/validation.py:2732: UserWarning: X has feature names, but StandardScaler was fitted without feature names\n",
      "  warnings.warn(\n"
     ]
    },
    {
     "name": "stdout",
     "output_type": "stream",
     "text": [
      "✅ Chunk 24 procesado y guardado: 838860 train / 209716 test\n"
     ]
    },
    {
     "name": "stderr",
     "output_type": "stream",
     "text": [
      "/home/cosmopato/flightprice_env/lib/python3.12/site-packages/sklearn/utils/validation.py:2732: UserWarning: X has feature names, but StandardScaler was fitted without feature names\n",
      "  warnings.warn(\n"
     ]
    },
    {
     "name": "stdout",
     "output_type": "stream",
     "text": [
      "✅ Chunk 25 procesado y guardado: 838860 train / 209716 test\n"
     ]
    },
    {
     "name": "stderr",
     "output_type": "stream",
     "text": [
      "/home/cosmopato/flightprice_env/lib/python3.12/site-packages/sklearn/utils/validation.py:2732: UserWarning: X has feature names, but StandardScaler was fitted without feature names\n",
      "  warnings.warn(\n"
     ]
    },
    {
     "name": "stdout",
     "output_type": "stream",
     "text": [
      "✅ Chunk 26 procesado y guardado: 838860 train / 209716 test\n"
     ]
    },
    {
     "name": "stderr",
     "output_type": "stream",
     "text": [
      "/home/cosmopato/flightprice_env/lib/python3.12/site-packages/sklearn/utils/validation.py:2732: UserWarning: X has feature names, but StandardScaler was fitted without feature names\n",
      "  warnings.warn(\n"
     ]
    },
    {
     "name": "stdout",
     "output_type": "stream",
     "text": [
      "✅ Chunk 27 procesado y guardado: 838860 train / 209716 test\n"
     ]
    },
    {
     "name": "stderr",
     "output_type": "stream",
     "text": [
      "/home/cosmopato/flightprice_env/lib/python3.12/site-packages/sklearn/utils/validation.py:2732: UserWarning: X has feature names, but StandardScaler was fitted without feature names\n",
      "  warnings.warn(\n"
     ]
    },
    {
     "name": "stdout",
     "output_type": "stream",
     "text": [
      "✅ Chunk 28 procesado y guardado: 838860 train / 209716 test\n"
     ]
    },
    {
     "name": "stderr",
     "output_type": "stream",
     "text": [
      "/home/cosmopato/flightprice_env/lib/python3.12/site-packages/sklearn/utils/validation.py:2732: UserWarning: X has feature names, but StandardScaler was fitted without feature names\n",
      "  warnings.warn(\n"
     ]
    },
    {
     "name": "stdout",
     "output_type": "stream",
     "text": [
      "✅ Chunk 29 procesado y guardado: 838860 train / 209716 test\n"
     ]
    },
    {
     "name": "stderr",
     "output_type": "stream",
     "text": [
      "/home/cosmopato/flightprice_env/lib/python3.12/site-packages/sklearn/utils/validation.py:2732: UserWarning: X has feature names, but StandardScaler was fitted without feature names\n",
      "  warnings.warn(\n"
     ]
    },
    {
     "name": "stdout",
     "output_type": "stream",
     "text": [
      "✅ Chunk 30 procesado y guardado: 838860 train / 209716 test\n"
     ]
    },
    {
     "name": "stderr",
     "output_type": "stream",
     "text": [
      "/home/cosmopato/flightprice_env/lib/python3.12/site-packages/sklearn/utils/validation.py:2732: UserWarning: X has feature names, but StandardScaler was fitted without feature names\n",
      "  warnings.warn(\n"
     ]
    },
    {
     "name": "stdout",
     "output_type": "stream",
     "text": [
      "✅ Chunk 31 procesado y guardado: 838860 train / 209716 test\n"
     ]
    },
    {
     "name": "stderr",
     "output_type": "stream",
     "text": [
      "/home/cosmopato/flightprice_env/lib/python3.12/site-packages/sklearn/utils/validation.py:2732: UserWarning: X has feature names, but StandardScaler was fitted without feature names\n",
      "  warnings.warn(\n"
     ]
    },
    {
     "name": "stdout",
     "output_type": "stream",
     "text": [
      "✅ Chunk 32 procesado y guardado: 838860 train / 209716 test\n"
     ]
    },
    {
     "name": "stderr",
     "output_type": "stream",
     "text": [
      "/home/cosmopato/flightprice_env/lib/python3.12/site-packages/sklearn/utils/validation.py:2732: UserWarning: X has feature names, but StandardScaler was fitted without feature names\n",
      "  warnings.warn(\n"
     ]
    },
    {
     "name": "stdout",
     "output_type": "stream",
     "text": [
      "✅ Chunk 33 procesado y guardado: 838860 train / 209716 test\n"
     ]
    },
    {
     "name": "stderr",
     "output_type": "stream",
     "text": [
      "/home/cosmopato/flightprice_env/lib/python3.12/site-packages/sklearn/utils/validation.py:2732: UserWarning: X has feature names, but StandardScaler was fitted without feature names\n",
      "  warnings.warn(\n"
     ]
    },
    {
     "name": "stdout",
     "output_type": "stream",
     "text": [
      "✅ Chunk 34 procesado y guardado: 838860 train / 209716 test\n"
     ]
    },
    {
     "name": "stderr",
     "output_type": "stream",
     "text": [
      "/home/cosmopato/flightprice_env/lib/python3.12/site-packages/sklearn/utils/validation.py:2732: UserWarning: X has feature names, but StandardScaler was fitted without feature names\n",
      "  warnings.warn(\n"
     ]
    },
    {
     "name": "stdout",
     "output_type": "stream",
     "text": [
      "✅ Chunk 35 procesado y guardado: 838860 train / 209716 test\n"
     ]
    },
    {
     "name": "stderr",
     "output_type": "stream",
     "text": [
      "/home/cosmopato/flightprice_env/lib/python3.12/site-packages/sklearn/utils/validation.py:2732: UserWarning: X has feature names, but StandardScaler was fitted without feature names\n",
      "  warnings.warn(\n"
     ]
    },
    {
     "name": "stdout",
     "output_type": "stream",
     "text": [
      "✅ Chunk 36 procesado y guardado: 838860 train / 209716 test\n"
     ]
    },
    {
     "name": "stderr",
     "output_type": "stream",
     "text": [
      "/home/cosmopato/flightprice_env/lib/python3.12/site-packages/sklearn/utils/validation.py:2732: UserWarning: X has feature names, but StandardScaler was fitted without feature names\n",
      "  warnings.warn(\n"
     ]
    },
    {
     "name": "stdout",
     "output_type": "stream",
     "text": [
      "✅ Chunk 37 procesado y guardado: 838860 train / 209716 test\n"
     ]
    },
    {
     "name": "stderr",
     "output_type": "stream",
     "text": [
      "/home/cosmopato/flightprice_env/lib/python3.12/site-packages/sklearn/utils/validation.py:2732: UserWarning: X has feature names, but StandardScaler was fitted without feature names\n",
      "  warnings.warn(\n"
     ]
    },
    {
     "name": "stdout",
     "output_type": "stream",
     "text": [
      "✅ Chunk 38 procesado y guardado: 838860 train / 209716 test\n"
     ]
    },
    {
     "name": "stderr",
     "output_type": "stream",
     "text": [
      "/home/cosmopato/flightprice_env/lib/python3.12/site-packages/sklearn/utils/validation.py:2732: UserWarning: X has feature names, but StandardScaler was fitted without feature names\n",
      "  warnings.warn(\n"
     ]
    },
    {
     "name": "stdout",
     "output_type": "stream",
     "text": [
      "✅ Chunk 39 procesado y guardado: 838860 train / 209716 test\n"
     ]
    },
    {
     "name": "stderr",
     "output_type": "stream",
     "text": [
      "/home/cosmopato/flightprice_env/lib/python3.12/site-packages/sklearn/utils/validation.py:2732: UserWarning: X has feature names, but StandardScaler was fitted without feature names\n",
      "  warnings.warn(\n"
     ]
    },
    {
     "name": "stdout",
     "output_type": "stream",
     "text": [
      "✅ Chunk 40 procesado y guardado: 838860 train / 209716 test\n"
     ]
    },
    {
     "name": "stderr",
     "output_type": "stream",
     "text": [
      "/home/cosmopato/flightprice_env/lib/python3.12/site-packages/sklearn/utils/validation.py:2732: UserWarning: X has feature names, but StandardScaler was fitted without feature names\n",
      "  warnings.warn(\n"
     ]
    },
    {
     "name": "stdout",
     "output_type": "stream",
     "text": [
      "✅ Chunk 41 procesado y guardado: 838860 train / 209716 test\n"
     ]
    },
    {
     "name": "stderr",
     "output_type": "stream",
     "text": [
      "/home/cosmopato/flightprice_env/lib/python3.12/site-packages/sklearn/utils/validation.py:2732: UserWarning: X has feature names, but StandardScaler was fitted without feature names\n",
      "  warnings.warn(\n"
     ]
    },
    {
     "name": "stdout",
     "output_type": "stream",
     "text": [
      "✅ Chunk 42 procesado y guardado: 838860 train / 209716 test\n"
     ]
    },
    {
     "name": "stderr",
     "output_type": "stream",
     "text": [
      "/home/cosmopato/flightprice_env/lib/python3.12/site-packages/sklearn/utils/validation.py:2732: UserWarning: X has feature names, but StandardScaler was fitted without feature names\n",
      "  warnings.warn(\n"
     ]
    },
    {
     "name": "stdout",
     "output_type": "stream",
     "text": [
      "✅ Chunk 43 procesado y guardado: 838860 train / 209716 test\n"
     ]
    },
    {
     "name": "stderr",
     "output_type": "stream",
     "text": [
      "/home/cosmopato/flightprice_env/lib/python3.12/site-packages/sklearn/utils/validation.py:2732: UserWarning: X has feature names, but StandardScaler was fitted without feature names\n",
      "  warnings.warn(\n"
     ]
    },
    {
     "name": "stdout",
     "output_type": "stream",
     "text": [
      "✅ Chunk 44 procesado y guardado: 838860 train / 209716 test\n"
     ]
    },
    {
     "name": "stderr",
     "output_type": "stream",
     "text": [
      "/home/cosmopato/flightprice_env/lib/python3.12/site-packages/sklearn/utils/validation.py:2732: UserWarning: X has feature names, but StandardScaler was fitted without feature names\n",
      "  warnings.warn(\n"
     ]
    },
    {
     "name": "stdout",
     "output_type": "stream",
     "text": [
      "✅ Chunk 45 procesado y guardado: 838860 train / 209716 test\n"
     ]
    },
    {
     "name": "stderr",
     "output_type": "stream",
     "text": [
      "/home/cosmopato/flightprice_env/lib/python3.12/site-packages/sklearn/utils/validation.py:2732: UserWarning: X has feature names, but StandardScaler was fitted without feature names\n",
      "  warnings.warn(\n"
     ]
    },
    {
     "name": "stdout",
     "output_type": "stream",
     "text": [
      "✅ Chunk 46 procesado y guardado: 838860 train / 209716 test\n"
     ]
    },
    {
     "name": "stderr",
     "output_type": "stream",
     "text": [
      "/home/cosmopato/flightprice_env/lib/python3.12/site-packages/sklearn/utils/validation.py:2732: UserWarning: X has feature names, but StandardScaler was fitted without feature names\n",
      "  warnings.warn(\n"
     ]
    },
    {
     "name": "stdout",
     "output_type": "stream",
     "text": [
      "✅ Chunk 47 procesado y guardado: 838860 train / 209716 test\n"
     ]
    },
    {
     "name": "stderr",
     "output_type": "stream",
     "text": [
      "/home/cosmopato/flightprice_env/lib/python3.12/site-packages/sklearn/utils/validation.py:2732: UserWarning: X has feature names, but StandardScaler was fitted without feature names\n",
      "  warnings.warn(\n"
     ]
    },
    {
     "name": "stdout",
     "output_type": "stream",
     "text": [
      "✅ Chunk 48 procesado y guardado: 838860 train / 209716 test\n"
     ]
    },
    {
     "name": "stderr",
     "output_type": "stream",
     "text": [
      "/home/cosmopato/flightprice_env/lib/python3.12/site-packages/sklearn/utils/validation.py:2732: UserWarning: X has feature names, but StandardScaler was fitted without feature names\n",
      "  warnings.warn(\n"
     ]
    },
    {
     "name": "stdout",
     "output_type": "stream",
     "text": [
      "✅ Chunk 49 procesado y guardado: 838860 train / 209716 test\n"
     ]
    },
    {
     "name": "stderr",
     "output_type": "stream",
     "text": [
      "/home/cosmopato/flightprice_env/lib/python3.12/site-packages/sklearn/utils/validation.py:2732: UserWarning: X has feature names, but StandardScaler was fitted without feature names\n",
      "  warnings.warn(\n"
     ]
    },
    {
     "name": "stdout",
     "output_type": "stream",
     "text": [
      "✅ Chunk 50 procesado y guardado: 838860 train / 209716 test\n"
     ]
    },
    {
     "name": "stderr",
     "output_type": "stream",
     "text": [
      "/home/cosmopato/flightprice_env/lib/python3.12/site-packages/sklearn/utils/validation.py:2732: UserWarning: X has feature names, but StandardScaler was fitted without feature names\n",
      "  warnings.warn(\n"
     ]
    },
    {
     "name": "stdout",
     "output_type": "stream",
     "text": [
      "✅ Chunk 51 procesado y guardado: 587508 train / 146877 test\n"
     ]
    },
    {
     "name": "stderr",
     "output_type": "stream",
     "text": [
      "/home/cosmopato/flightprice_env/lib/python3.12/site-packages/sklearn/utils/validation.py:2732: UserWarning: X has feature names, but StandardScaler was fitted without feature names\n",
      "  warnings.warn(\n"
     ]
    },
    {
     "name": "stdout",
     "output_type": "stream",
     "text": [
      "✅ Chunk 52 procesado y guardado: 838860 train / 209716 test\n"
     ]
    },
    {
     "name": "stderr",
     "output_type": "stream",
     "text": [
      "/home/cosmopato/flightprice_env/lib/python3.12/site-packages/sklearn/utils/validation.py:2732: UserWarning: X has feature names, but StandardScaler was fitted without feature names\n",
      "  warnings.warn(\n"
     ]
    },
    {
     "name": "stdout",
     "output_type": "stream",
     "text": [
      "✅ Chunk 53 procesado y guardado: 838860 train / 209716 test\n"
     ]
    },
    {
     "name": "stderr",
     "output_type": "stream",
     "text": [
      "/home/cosmopato/flightprice_env/lib/python3.12/site-packages/sklearn/utils/validation.py:2732: UserWarning: X has feature names, but StandardScaler was fitted without feature names\n",
      "  warnings.warn(\n"
     ]
    },
    {
     "name": "stdout",
     "output_type": "stream",
     "text": [
      "✅ Chunk 54 procesado y guardado: 838860 train / 209716 test\n"
     ]
    },
    {
     "name": "stderr",
     "output_type": "stream",
     "text": [
      "/home/cosmopato/flightprice_env/lib/python3.12/site-packages/sklearn/utils/validation.py:2732: UserWarning: X has feature names, but StandardScaler was fitted without feature names\n",
      "  warnings.warn(\n"
     ]
    },
    {
     "name": "stdout",
     "output_type": "stream",
     "text": [
      "✅ Chunk 55 procesado y guardado: 838860 train / 209716 test\n"
     ]
    }
   ],
   "source": [
    "from sklearn.model_selection import train_test_split\n",
    "from sklearn.preprocessing import StandardScaler\n",
    "\n",
    "# Supongamos que ya tienes un chunk\n",
    "X = df.drop(columns=[\"totalFare\", \"legId\"])  # Elimina columnas no necesarias\n",
    "y = df[\"totalFare\"]\n",
    "\n",
    "scaler = StandardScaler()\n",
    "X_scaled = scaler.fit_transform(X)\n",
    "\n",
    "# División entrenamiento/test\n",
    "X_train, X_test, y_train, y_test = train_test_split(X_scaled, y, test_size=0.2, random_state=42)\n",
    "\n",
    "\n",
    "\n",
    "\n",
    "import pandas as pd\n",
    "import numpy as np\n",
    "import glob\n",
    "import os\n",
    "from sklearn.model_selection import train_test_split\n",
    "from sklearn.preprocessing import StandardScaler\n",
    "import joblib\n",
    "\n",
    "print(\"📦 Detectando chunks...\")\n",
    "chunk_files = sorted(glob.glob(\"../data_subsets/final_dataset_chunks/chunk_*.parquet\"))\n",
    "print(f\"📦 Detectados {len(chunk_files)} chunks\")\n",
    "\n",
    "os.makedirs(\"../data_subsets/train_test\", exist_ok=True)\n",
    "\n",
    "# Inicializamos el scaler\n",
    "scaler = StandardScaler()\n",
    "\n",
    "# 1️⃣ Primera pasada: fitting del scaler\n",
    "print(\"🧪 Fitting del StandardScaler...\")\n",
    "for i, file in enumerate(chunk_files):\n",
    "    df = pd.read_parquet(file)\n",
    "\n",
    "    # Limpiar NaNs\n",
    "    df = df.dropna(subset=[\"totalFare\", \"legId\"] + [col for col in df.columns if col not in [\"totalFare\", \"legId\"]])\n",
    "\n",
    "    X = df.drop(columns=[\"totalFare\", \"legId\"])\n",
    "    y = df[\"totalFare\"]\n",
    "\n",
    "    X = np.nan_to_num(X, nan=0.0)\n",
    "    y = np.nan_to_num(y, nan=0.0)\n",
    "\n",
    "    # Fitting parcial\n",
    "    scaler.partial_fit(X)\n",
    "\n",
    "\n",
    "# Guardar el scaler\n",
    "joblib.dump(scaler, \"../models/standard_scaler.pkl\")\n",
    "\n",
    "# 2️⃣ Segunda pasada: escalar, dividir y guardar\n",
    "print(\"✂️ Dividiendo y guardando chunks escalados...\")\n",
    "for i, file in enumerate(chunk_files):\n",
    "    df = pd.read_parquet(file)\n",
    "    X = df.drop(columns=[\"totalFare\", \"legId\"])\n",
    "    y = df[\"totalFare\"]\n",
    "\n",
    "    X_scaled = scaler.transform(X)\n",
    "    X_train, X_test, y_train, y_test = train_test_split(\n",
    "        X_scaled, y, test_size=0.2, random_state=42\n",
    "    )\n",
    "\n",
    "    np.save(f\"../data_subsets/train_test/X_train_{i}.npy\", X_train)\n",
    "    np.save(f\"../data_subsets/train_test/X_test_{i}.npy\", X_test)\n",
    "    np.save(f\"../data_subsets/train_test/y_train_{i}.npy\", y_train)\n",
    "    np.save(f\"../data_subsets/train_test/y_test_{i}.npy\", y_test)\n",
    "\n",
    "    print(f\"✅ Chunk {i} procesado y guardado: {X_train.shape[0]} train / {X_test.shape[0]} test\")"
   ]
  }
 ],
 "metadata": {
  "kernelspec": {
   "display_name": "flightprice_env",
   "language": "python",
   "name": "python3"
  },
  "language_info": {
   "codemirror_mode": {
    "name": "ipython",
    "version": 3
   },
   "file_extension": ".py",
   "mimetype": "text/x-python",
   "name": "python",
   "nbconvert_exporter": "python",
   "pygments_lexer": "ipython3",
   "version": "3.12.3"
  }
 },
 "nbformat": 4,
 "nbformat_minor": 5
}
