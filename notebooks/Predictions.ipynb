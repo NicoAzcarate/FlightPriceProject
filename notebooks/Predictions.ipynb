{
 "cells": [
  {
   "cell_type": "code",
   "execution_count": null,
   "id": "b3bab43d",
   "metadata": {},
   "outputs": [],
   "source": [
    "import numpy as np\n",
    "import pandas as pd\n",
    "import joblib\n",
    "from tensorflow.keras.models import load_model\n",
    "\n",
    "# Cargar modelo y escalador\n",
    "model = load_model(\"../models/flight_price_model.keras\")\n",
    "scaler = joblib.load(\"../models/scaler.pkl\")\n",
    "\n",
    "print(\"✅ Modelo y escalador cargados\")\n"
   ]
  },
  {
   "cell_type": "code",
   "execution_count": null,
   "id": "5cad3027",
   "metadata": {},
   "outputs": [],
   "source": [
    "# Crear un diccionario con tus valores de entrada\n",
    "input_data = {\n",
    "    \"airline_code\": 4,           # codificado\n",
    "    \"aircraft_type\": 9,          # codificado\n",
    "    \"departure_hour\": 13,\n",
    "    \"departure_weekday\": 3,\n",
    "    \"cabin\": 2,                  # codificado\n",
    "    \"arr_airport\": 12,           # codificado\n",
    "    \"dep_airport\": 1,            # codificado\n",
    "    \"isNonStop\": 1,\n",
    "    \"days_in_advance\": 25,\n",
    "    \"distance_miles\": 780,\n",
    "    \"duration_seconds\": 3600\n",
    "}\n",
    "\n",
    "# Convertir a DataFrame\n",
    "input_df = pd.DataFrame([input_data])\n"
   ]
  },
  {
   "cell_type": "code",
   "execution_count": null,
   "id": "cc1c8125",
   "metadata": {},
   "outputs": [],
   "source": [
    "# Escalar con el mismo objeto que usaste antes\n",
    "input_scaled = scaler.transform(input_df)\n",
    "\n",
    "# Hacer la predicción\n",
    "predicted_price = model.predict(input_scaled)[0][0]\n",
    "\n",
    "print(f\"💰 Precio estimado del vuelo: {predicted_price:.2f} €\")\n"
   ]
  }
 ],
 "metadata": {
  "language_info": {
   "name": "python"
  }
 },
 "nbformat": 4,
 "nbformat_minor": 5
}
